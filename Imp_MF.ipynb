{
 "cells": [
  {
   "cell_type": "markdown",
   "id": "d928aaf2",
   "metadata": {},
   "source": [
    "# Modules/Libraries in Python"
   ]
  },
  {
   "cell_type": "markdown",
   "id": "e44ed6b2",
   "metadata": {},
   "source": [
    "> There is a class where so many class have built and associated functions, we call it Modules.\n",
    "\n",
    "> Collection of classes is called Libraries.\n",
    "\n",
    "> Package is a collection of packages,sub-packages and modules."
   ]
  },
  {
   "cell_type": "code",
   "execution_count": 8,
   "id": "b9f51ccd",
   "metadata": {},
   "outputs": [],
   "source": [
    "import keyword"
   ]
  },
  {
   "cell_type": "code",
   "execution_count": 9,
   "id": "78c7e199",
   "metadata": {},
   "outputs": [
    {
     "name": "stdout",
     "output_type": "stream",
     "text": [
      "['False', 'None', 'True', 'and', 'as', 'assert', 'async', 'await', 'break', 'class', 'continue', 'def', 'del', 'elif', 'else', 'except', 'finally', 'for', 'from', 'global', 'if', 'import', 'in', 'is', 'lambda', 'nonlocal', 'not', 'or', 'pass', 'raise', 'return', 'try', 'while', 'with', 'yield']\n"
     ]
    }
   ],
   "source": [
    "print(keyword.kwlist)"
   ]
  },
  {
   "cell_type": "markdown",
   "id": "7a472783",
   "metadata": {},
   "source": [
    "Python module search path:-"
   ]
  },
  {
   "cell_type": "code",
   "execution_count": 10,
   "id": "2474d847",
   "metadata": {},
   "outputs": [],
   "source": [
    "import sys"
   ]
  },
  {
   "cell_type": "code",
   "execution_count": 11,
   "id": "fbbe8be8",
   "metadata": {},
   "outputs": [
    {
     "data": {
      "text/plain": [
       "['C:\\\\Users\\\\User',\n",
       " 'C:\\\\Users\\\\User\\\\anaconda3\\\\python38.zip',\n",
       " 'C:\\\\Users\\\\User\\\\anaconda3\\\\DLLs',\n",
       " 'C:\\\\Users\\\\User\\\\anaconda3\\\\lib',\n",
       " 'C:\\\\Users\\\\User\\\\anaconda3',\n",
       " '',\n",
       " 'C:\\\\Users\\\\User\\\\anaconda3\\\\lib\\\\site-packages',\n",
       " 'C:\\\\Users\\\\User\\\\anaconda3\\\\lib\\\\site-packages\\\\locket-0.2.1-py3.8.egg',\n",
       " 'C:\\\\Users\\\\User\\\\anaconda3\\\\lib\\\\site-packages\\\\win32',\n",
       " 'C:\\\\Users\\\\User\\\\anaconda3\\\\lib\\\\site-packages\\\\win32\\\\lib',\n",
       " 'C:\\\\Users\\\\User\\\\anaconda3\\\\lib\\\\site-packages\\\\Pythonwin',\n",
       " 'C:\\\\Users\\\\User\\\\anaconda3\\\\lib\\\\site-packages\\\\IPython\\\\extensions',\n",
       " 'C:\\\\Users\\\\User\\\\.ipython']"
      ]
     },
     "execution_count": 11,
     "metadata": {},
     "output_type": "execute_result"
    }
   ],
   "source": [
    "sys.path"
   ]
  },
  {
   "cell_type": "code",
   "execution_count": 12,
   "id": "ae52cd2e",
   "metadata": {},
   "outputs": [],
   "source": [
    "import os"
   ]
  },
  {
   "cell_type": "code",
   "execution_count": 17,
   "id": "82a573b6",
   "metadata": {},
   "outputs": [
    {
     "data": {
      "text/plain": [
       "'C:\\\\Users\\\\User'"
      ]
     },
     "execution_count": 17,
     "metadata": {},
     "output_type": "execute_result"
    }
   ],
   "source": [
    "os.getcwd()"
   ]
  },
  {
   "cell_type": "code",
   "execution_count": 16,
   "id": "5ee91d05",
   "metadata": {},
   "outputs": [
    {
     "data": {
      "text/plain": [
       "['-1.14-windows.xml',\n",
       " '.anaconda',\n",
       " '.conda',\n",
       " '.condarc',\n",
       " '.continuum',\n",
       " '.gitconfig',\n",
       " '.idlerc',\n",
       " '.ipynb_checkpoints',\n",
       " '.ipython',\n",
       " '.jupyter',\n",
       " '.matplotlib',\n",
       " '.spyder-py3',\n",
       " '3D Objects',\n",
       " 'anaconda3',\n",
       " 'AppData',\n",
       " 'Application Data',\n",
       " 'average and addition of numbers.ipynb',\n",
       " 'Barplot of Days and Total Bill.png',\n",
       " 'Basic practice on Loops and Functions.ipynb',\n",
       " 'basic programs practice part-1.ipynb',\n",
       " 'Basics of Data structures and If statements in python.ipynb',\n",
       " 'Classes and Inheritance(Over-riding method).ipynb',\n",
       " 'Contacts',\n",
       " 'Convert_Python.ipynb',\n",
       " 'Cookies',\n",
       " 'Data Analysis Project on Covid-19.ipynb',\n",
       " 'DATA TYPES IN PYTHON .ipynb',\n",
       " 'Data_St.ipynb',\n",
       " 'Desktop',\n",
       " 'Dict_Python.ipynb',\n",
       " 'Documents',\n",
       " 'Downloads',\n",
       " 'EDA Loan Case Study.ipynb',\n",
       " 'Favorites',\n",
       " 'FUNCTIONS AND ITS KINDS.ipynb',\n",
       " 'functions.py',\n",
       " 'Functions_Python.ipynb',\n",
       " 'GVL_Python.ipynb',\n",
       " 'Heatmap practice part-A.ipynb',\n",
       " 'Heatmap practice part-B.ipynb',\n",
       " 'IMDB Data Analysis.ipynb',\n",
       " 'Indexing and Slicing in Detail.ipynb',\n",
       " 'India Census 2011 data analysis(Project).ipynb',\n",
       " 'IntelGraphicsProfiles',\n",
       " 'IPL and Wine Review Case Study Data Analysis.ipynb',\n",
       " 'Lecture 3 Python.ipynb',\n",
       " 'Links',\n",
       " 'Local Settings',\n",
       " 'London Housing Data Analysis.ipynb',\n",
       " 'Loops.ipynb',\n",
       " 'Loops_Python.ipynb',\n",
       " 'Matplotlib practice part-1.ipynb',\n",
       " 'Matplotlib practice part-2.ipynb',\n",
       " 'MicrosoftEdgeBackups',\n",
       " 'Multiple and Multi-Level Inheritance.ipynb',\n",
       " 'Music',\n",
       " 'My Documents',\n",
       " 'Netflix Shows Data Analysis(Project).ipynb',\n",
       " 'NetHood',\n",
       " 'new.csv',\n",
       " 'New_Python.ipynb',\n",
       " 'NTUSER.DAT',\n",
       " 'ntuser.dat.LOG1',\n",
       " 'ntuser.dat.LOG2',\n",
       " 'NTUSER.DAT{529d5a7b-97cf-11eb-a367-e96d361c2bf3}.TM.blf',\n",
       " 'NTUSER.DAT{529d5a7b-97cf-11eb-a367-e96d361c2bf3}.TMContainer00000000000000000001.regtrans-ms',\n",
       " 'NTUSER.DAT{529d5a7b-97cf-11eb-a367-e96d361c2bf3}.TMContainer00000000000000000002.regtrans-ms',\n",
       " 'ntuser.ini',\n",
       " 'Numbers.ipynb',\n",
       " 'Numpy basics after slicing.ipynb',\n",
       " 'Numpy concept part-1.ipynb',\n",
       " 'Numpy important concept for data science.ipynb',\n",
       " 'Objects and Classes.ipynb',\n",
       " 'Object_OP.ipynb',\n",
       " 'OneDrive',\n",
       " 'OOPS CONCEPTIN PYTHON.ipynb',\n",
       " 'our file.ipynb',\n",
       " 'Pandas part-1.ipynb',\n",
       " 'Pandas practice part-2.ipynb',\n",
       " 'Pandas practice part-3.ipynb',\n",
       " 'Pandas practice part-4.ipynb',\n",
       " 'Pandas practice part-5.ipynb',\n",
       " 'Pandas practice part-6.ipynb',\n",
       " 'Pandas practice part-7.ipynb',\n",
       " 'Pandas practice part-8.ipynb',\n",
       " 'Pictures',\n",
       " 'piechart.png',\n",
       " 'PrintHood',\n",
       " 'Program practice part-2.ipynb',\n",
       " 'Programs practice part-3.ipynb',\n",
       " 'Programs practice part-4.ipynb',\n",
       " 'Pyramids and Diamonds part 1.ipynb',\n",
       " 'Pyramids and Patterns part 2.ipynb',\n",
       " 'Python_Basics.ipynb',\n",
       " 'Recent',\n",
       " 'Saved Games',\n",
       " 'Seaborn practice part-1.ipynb',\n",
       " 'Seaborn practice part-2.ipynb',\n",
       " 'Seaborn practice part-3.ipynb',\n",
       " 'seaborn-data',\n",
       " 'Searches',\n",
       " 'SendTo',\n",
       " 'Start Menu',\n",
       " 'String Formatting.ipynb',\n",
       " 'String Operations.ipynb',\n",
       " 'Strings operation 1.ipynb',\n",
       " 'Strings.ipynb',\n",
       " 'Sum programs.ipynb',\n",
       " 'Supermarket Data Analysis and Visualization.ipynb',\n",
       " 'Templates',\n",
       " 'TS_Python.ipynb',\n",
       " 'Tuples and Strings Operation.ipynb',\n",
       " 'Untitled.ipynb',\n",
       " 'Untitled1.ipynb',\n",
       " 'Untitled10.ipynb',\n",
       " 'Untitled11.ipynb',\n",
       " 'Untitled12.ipynb',\n",
       " 'Untitled13.ipynb',\n",
       " 'Untitled14.ipynb',\n",
       " 'Untitled15.ipynb',\n",
       " 'Untitled16.ipynb',\n",
       " 'Untitled17.ipynb',\n",
       " 'Untitled18.ipynb',\n",
       " 'Untitled19.ipynb',\n",
       " 'Untitled2.ipynb',\n",
       " 'Untitled20.ipynb',\n",
       " 'Untitled21.ipynb',\n",
       " 'Untitled22.ipynb',\n",
       " 'Untitled23.ipynb',\n",
       " 'Untitled24.ipynb',\n",
       " 'Untitled25.ipynb',\n",
       " 'Untitled26.ipynb',\n",
       " 'Untitled27.ipynb',\n",
       " 'Untitled28.ipynb',\n",
       " 'Untitled29.ipynb',\n",
       " 'Untitled3.ipynb',\n",
       " 'Untitled30.ipynb',\n",
       " 'Untitled31.ipynb',\n",
       " 'Untitled32.ipynb',\n",
       " 'Untitled33.ipynb',\n",
       " 'Untitled34.ipynb',\n",
       " 'Untitled35.ipynb',\n",
       " 'Untitled36.ipynb',\n",
       " 'Untitled37.ipynb',\n",
       " 'Untitled38.ipynb',\n",
       " 'Untitled39.ipynb',\n",
       " 'Untitled4.ipynb',\n",
       " 'Untitled40.ipynb',\n",
       " 'Untitled41.ipynb',\n",
       " 'Untitled42.ipynb',\n",
       " 'Untitled43.ipynb',\n",
       " 'Untitled44.ipynb',\n",
       " 'Untitled45.ipynb',\n",
       " 'Untitled46.ipynb',\n",
       " 'Untitled47.ipynb',\n",
       " 'Untitled48.ipynb',\n",
       " 'Untitled49.ipynb',\n",
       " 'Untitled5.ipynb',\n",
       " 'Untitled50.ipynb',\n",
       " 'Untitled51.ipynb',\n",
       " 'Untitled52.ipynb',\n",
       " 'Untitled53.ipynb',\n",
       " 'Untitled54.ipynb',\n",
       " 'Untitled55.ipynb',\n",
       " 'Untitled56.ipynb',\n",
       " 'Untitled57.ipynb',\n",
       " 'Untitled58.ipynb',\n",
       " 'Untitled59.ipynb',\n",
       " 'Untitled6.ipynb',\n",
       " 'Untitled60.ipynb',\n",
       " 'Untitled61.ipynb',\n",
       " 'Untitled62.ipynb',\n",
       " 'Untitled63.ipynb',\n",
       " 'Untitled64.ipynb',\n",
       " 'Untitled65.ipynb',\n",
       " 'Untitled66.ipynb',\n",
       " 'Untitled67.ipynb',\n",
       " 'Untitled68.ipynb',\n",
       " 'Untitled69.ipynb',\n",
       " 'Untitled7.ipynb',\n",
       " 'Untitled70.ipynb',\n",
       " 'Untitled71.ipynb',\n",
       " 'Untitled72.ipynb',\n",
       " 'Untitled73.ipynb',\n",
       " 'Untitled74.ipynb',\n",
       " 'Untitled8.ipynb',\n",
       " 'Untitled9.ipynb',\n",
       " 'Variables.ipynb',\n",
       " 'Videos',\n",
       " 'Weather Data Analysis (Project).ipynb']"
      ]
     },
     "execution_count": 16,
     "metadata": {},
     "output_type": "execute_result"
    }
   ],
   "source": [
    "os.listdir()"
   ]
  },
  {
   "cell_type": "code",
   "execution_count": 18,
   "id": "f0bb908f",
   "metadata": {},
   "outputs": [],
   "source": [
    "import math"
   ]
  },
  {
   "cell_type": "code",
   "execution_count": 19,
   "id": "badee580",
   "metadata": {},
   "outputs": [
    {
     "data": {
      "text/plain": [
       "3.141592653589793"
      ]
     },
     "execution_count": 19,
     "metadata": {},
     "output_type": "execute_result"
    }
   ],
   "source": [
    "math.pi"
   ]
  },
  {
   "cell_type": "code",
   "execution_count": 20,
   "id": "052536a8",
   "metadata": {},
   "outputs": [
    {
     "data": {
      "text/plain": [
       "8.0"
      ]
     },
     "execution_count": 20,
     "metadata": {},
     "output_type": "execute_result"
    }
   ],
   "source": [
    "math.sqrt(64)"
   ]
  },
  {
   "cell_type": "code",
   "execution_count": 21,
   "id": "ff5b15a1",
   "metadata": {},
   "outputs": [
    {
     "data": {
      "text/plain": [
       "25.0"
      ]
     },
     "execution_count": 21,
     "metadata": {},
     "output_type": "execute_result"
    }
   ],
   "source": [
    "math.pow(5,2)"
   ]
  },
  {
   "cell_type": "code",
   "execution_count": 22,
   "id": "92b2d102",
   "metadata": {},
   "outputs": [
    {
     "data": {
      "text/plain": [
       "9.0"
      ]
     },
     "execution_count": 22,
     "metadata": {},
     "output_type": "execute_result"
    }
   ],
   "source": [
    "math.sqrt(81)"
   ]
  },
  {
   "cell_type": "code",
   "execution_count": 23,
   "id": "e2d5e88e",
   "metadata": {},
   "outputs": [],
   "source": [
    "import math as mt"
   ]
  },
  {
   "cell_type": "code",
   "execution_count": 24,
   "id": "4ab65ff2",
   "metadata": {},
   "outputs": [
    {
     "data": {
      "text/plain": [
       "3.141592653589793"
      ]
     },
     "execution_count": 24,
     "metadata": {},
     "output_type": "execute_result"
    }
   ],
   "source": [
    "mt.pi"
   ]
  },
  {
   "cell_type": "code",
   "execution_count": 25,
   "id": "0647b531",
   "metadata": {},
   "outputs": [
    {
     "data": {
      "text/plain": [
       "7.0"
      ]
     },
     "execution_count": 25,
     "metadata": {},
     "output_type": "execute_result"
    }
   ],
   "source": [
    "mt.sqrt(49)"
   ]
  },
  {
   "cell_type": "code",
   "execution_count": 26,
   "id": "53dd9623",
   "metadata": {},
   "outputs": [
    {
     "data": {
      "text/plain": [
       "25.0"
      ]
     },
     "execution_count": 26,
     "metadata": {},
     "output_type": "execute_result"
    }
   ],
   "source": [
    "mt.pow(5,2)"
   ]
  },
  {
   "cell_type": "code",
   "execution_count": 31,
   "id": "d01b630c",
   "metadata": {},
   "outputs": [
    {
     "data": {
      "text/plain": [
       "49.0"
      ]
     },
     "execution_count": 31,
     "metadata": {},
     "output_type": "execute_result"
    }
   ],
   "source": [
    "k=mt.pow(7,2)\n",
    "k"
   ]
  },
  {
   "cell_type": "code",
   "execution_count": 32,
   "id": "51f9ac8c",
   "metadata": {},
   "outputs": [
    {
     "data": {
      "text/plain": [
       "49"
      ]
     },
     "execution_count": 32,
     "metadata": {},
     "output_type": "execute_result"
    }
   ],
   "source": [
    "s=int(k)\n",
    "s"
   ]
  },
  {
   "cell_type": "code",
   "execution_count": 33,
   "id": "1252d41c",
   "metadata": {},
   "outputs": [],
   "source": [
    "from math import pi"
   ]
  },
  {
   "cell_type": "code",
   "execution_count": 34,
   "id": "780cb963",
   "metadata": {},
   "outputs": [
    {
     "data": {
      "text/plain": [
       "3.141592653589793"
      ]
     },
     "execution_count": 34,
     "metadata": {},
     "output_type": "execute_result"
    }
   ],
   "source": [
    "pi"
   ]
  },
  {
   "cell_type": "code",
   "execution_count": 39,
   "id": "a17e7db4",
   "metadata": {},
   "outputs": [
    {
     "data": {
      "text/plain": [
       "36"
      ]
     },
     "execution_count": 39,
     "metadata": {},
     "output_type": "execute_result"
    }
   ],
   "source": [
    "6**2"
   ]
  },
  {
   "cell_type": "code",
   "execution_count": 40,
   "id": "ef5f9a96",
   "metadata": {},
   "outputs": [
    {
     "data": {
      "text/plain": [
       "2.0"
      ]
     },
     "execution_count": 40,
     "metadata": {},
     "output_type": "execute_result"
    }
   ],
   "source": [
    "from math import sqrt\n",
    "sqrt(4)"
   ]
  },
  {
   "cell_type": "code",
   "execution_count": 41,
   "id": "2d5fadf5",
   "metadata": {},
   "outputs": [],
   "source": [
    "# Area of circle\n",
    "\n",
    "import math\n",
    "\n",
    "def areacircle(r):\n",
    "    area=math.pi*(r**2)\n",
    "    print(area)"
   ]
  },
  {
   "cell_type": "code",
   "execution_count": 42,
   "id": "23dd2b66",
   "metadata": {},
   "outputs": [
    {
     "name": "stdout",
     "output_type": "stream",
     "text": [
      "enter the radius65\n",
      "13273.228961416877\n"
     ]
    }
   ],
   "source": [
    "r=int(input(\"enter the radius\"))\n",
    "areacircle(r)"
   ]
  },
  {
   "cell_type": "code",
   "execution_count": 43,
   "id": "922ea92d",
   "metadata": {},
   "outputs": [],
   "source": [
    "import math\n",
    "from math import pi"
   ]
  },
  {
   "cell_type": "code",
   "execution_count": 44,
   "id": "a07bacdc",
   "metadata": {},
   "outputs": [
    {
     "data": {
      "text/plain": [
       "3.141592653589793"
      ]
     },
     "execution_count": 44,
     "metadata": {},
     "output_type": "execute_result"
    }
   ],
   "source": [
    "math.pi"
   ]
  },
  {
   "cell_type": "code",
   "execution_count": 45,
   "id": "609a20ad",
   "metadata": {},
   "outputs": [
    {
     "data": {
      "text/plain": [
       "3.0"
      ]
     },
     "execution_count": 45,
     "metadata": {},
     "output_type": "execute_result"
    }
   ],
   "source": [
    "math.sqrt(9)"
   ]
  },
  {
   "cell_type": "code",
   "execution_count": 48,
   "id": "aaa0f555",
   "metadata": {
    "collapsed": true
   },
   "outputs": [
    {
     "data": {
      "text/plain": [
       "dict_keys(['__name__', '__doc__', '__package__', '__loader__', '__spec__', 'acos', 'acosh', 'asin', 'asinh', 'atan', 'atan2', 'atanh', 'ceil', 'copysign', 'cos', 'cosh', 'degrees', 'dist', 'erf', 'erfc', 'exp', 'expm1', 'fabs', 'factorial', 'floor', 'fmod', 'frexp', 'fsum', 'gamma', 'gcd', 'hypot', 'isclose', 'isfinite', 'isinf', 'isnan', 'isqrt', 'ldexp', 'lgamma', 'log', 'log1p', 'log10', 'log2', 'modf', 'pow', 'radians', 'remainder', 'sin', 'sinh', 'sqrt', 'tan', 'tanh', 'trunc', 'prod', 'perm', 'comb', 'pi', 'e', 'tau', 'inf', 'nan'])"
      ]
     },
     "execution_count": 48,
     "metadata": {},
     "output_type": "execute_result"
    }
   ],
   "source": [
    "math.__dict__.keys()"
   ]
  },
  {
   "cell_type": "markdown",
   "id": "49b28b8c",
   "metadata": {},
   "source": [
    "# Get Current Date and Time:-"
   ]
  },
  {
   "cell_type": "code",
   "execution_count": 49,
   "id": "07dbe34a",
   "metadata": {},
   "outputs": [],
   "source": [
    "import datetime"
   ]
  },
  {
   "cell_type": "code",
   "execution_count": 50,
   "id": "a33cbcb8",
   "metadata": {},
   "outputs": [
    {
     "data": {
      "text/plain": [
       "datetime.datetime(2022, 6, 8, 19, 22, 28, 941832)"
      ]
     },
     "execution_count": 50,
     "metadata": {},
     "output_type": "execute_result"
    }
   ],
   "source": [
    "dt=datetime.datetime.now()\n",
    "dt"
   ]
  },
  {
   "cell_type": "code",
   "execution_count": 51,
   "id": "482fc9a1",
   "metadata": {},
   "outputs": [
    {
     "data": {
      "text/plain": [
       "datetime.datetime(2022, 6, 8, 19, 23, 5, 83142)"
      ]
     },
     "execution_count": 51,
     "metadata": {},
     "output_type": "execute_result"
    }
   ],
   "source": [
    "datetime.datetime.now()"
   ]
  },
  {
   "cell_type": "markdown",
   "id": "da63bbd7",
   "metadata": {},
   "source": [
    "Commonly used classes in datetime module are:-\n",
    "    \n",
    "    dateclass\n",
    "    timeclass\n",
    "    datetime\n",
    "    timedelta"
   ]
  },
  {
   "cell_type": "code",
   "execution_count": 52,
   "id": "f8236ee3",
   "metadata": {},
   "outputs": [
    {
     "data": {
      "text/plain": [
       "datetime.date(2021, 5, 25)"
      ]
     },
     "execution_count": 52,
     "metadata": {},
     "output_type": "execute_result"
    }
   ],
   "source": [
    "import datetime\n",
    "d=datetime.date(2021,5,25)\n",
    "d"
   ]
  },
  {
   "cell_type": "code",
   "execution_count": 53,
   "id": "501d2596",
   "metadata": {},
   "outputs": [
    {
     "data": {
      "text/plain": [
       "datetime.date(2021, 5, 26)"
      ]
     },
     "execution_count": 53,
     "metadata": {},
     "output_type": "execute_result"
    }
   ],
   "source": [
    "from datetime import date\n",
    "\n",
    "a=date(2021,5,26)\n",
    "a"
   ]
  },
  {
   "cell_type": "code",
   "execution_count": 54,
   "id": "d42b994f",
   "metadata": {},
   "outputs": [
    {
     "data": {
      "text/plain": [
       "datetime.date(2022, 6, 8)"
      ]
     },
     "execution_count": 54,
     "metadata": {},
     "output_type": "execute_result"
    }
   ],
   "source": [
    "td=date.today()\n",
    "td"
   ]
  },
  {
   "cell_type": "code",
   "execution_count": 55,
   "id": "7ddeae0f",
   "metadata": {},
   "outputs": [
    {
     "name": "stdout",
     "output_type": "stream",
     "text": [
      "Year= 2022\n",
      "Month= 6\n",
      "Day= 8\n"
     ]
    }
   ],
   "source": [
    "print(\"Year=\",td.year)\n",
    "print(\"Month=\",td.month)\n",
    "print(\"Day=\",td.day)"
   ]
  },
  {
   "cell_type": "code",
   "execution_count": 58,
   "id": "4e24f889",
   "metadata": {},
   "outputs": [
    {
     "data": {
      "text/plain": [
       "datetime.date(2022, 5, 25)"
      ]
     },
     "execution_count": 58,
     "metadata": {},
     "output_type": "execute_result"
    }
   ],
   "source": [
    "q=datetime.date(2022,5,25)\n",
    "q"
   ]
  },
  {
   "cell_type": "code",
   "execution_count": 59,
   "id": "9d40746c",
   "metadata": {},
   "outputs": [
    {
     "name": "stdout",
     "output_type": "stream",
     "text": [
      "00:00:00\n",
      "11:35:56\n"
     ]
    }
   ],
   "source": [
    "from datetime import time\n",
    "a=time()\n",
    "print(a)\n",
    "b=time(11,35,56)\n",
    "print(b)"
   ]
  },
  {
   "cell_type": "code",
   "execution_count": 60,
   "id": "bd057fc1",
   "metadata": {},
   "outputs": [
    {
     "name": "stdout",
     "output_type": "stream",
     "text": [
      "hour: 11\n",
      "minute: 35\n",
      "second: 56\n"
     ]
    }
   ],
   "source": [
    "print(\"hour:\",b.hour)\n",
    "print(\"minute:\",b.minute)\n",
    "print(\"second:\",b.second)"
   ]
  },
  {
   "cell_type": "code",
   "execution_count": 61,
   "id": "6fd10b73",
   "metadata": {},
   "outputs": [
    {
     "name": "stdout",
     "output_type": "stream",
     "text": [
      "2021-04-26 00:00:00\n"
     ]
    }
   ],
   "source": [
    "from datetime import datetime\n",
    "a=datetime(2021,4,26)\n",
    "print(a)"
   ]
  },
  {
   "cell_type": "code",
   "execution_count": 62,
   "id": "c9b807ab",
   "metadata": {},
   "outputs": [
    {
     "name": "stdout",
     "output_type": "stream",
     "text": [
      "Year= 2021\n",
      "Month= 4\n",
      "day= 26\n"
     ]
    }
   ],
   "source": [
    "print(\"Year=\",a.year)\n",
    "print(\"Month=\",a.month)\n",
    "print(\"day=\",a.day)"
   ]
  },
  {
   "cell_type": "code",
   "execution_count": 63,
   "id": "d8ec449f",
   "metadata": {},
   "outputs": [
    {
     "name": "stdout",
     "output_type": "stream",
     "text": [
      "2022\n",
      "2\n",
      "27\n",
      "17\n",
      "30\n",
      "50\n"
     ]
    }
   ],
   "source": [
    "b=datetime(2022,2,27,17,30,50)\n",
    "\n",
    "print(b.year)\n",
    "print(b.month)\n",
    "print(b.day)\n",
    "print(b.hour)\n",
    "print(b.minute)\n",
    "print(b.second)"
   ]
  },
  {
   "cell_type": "markdown",
   "id": "77cb5c3c",
   "metadata": {},
   "source": [
    "# File I/O Operations:-"
   ]
  },
  {
   "cell_type": "markdown",
   "id": "b7464427",
   "metadata": {},
   "source": [
    "Creating and Working on new file:-"
   ]
  },
  {
   "cell_type": "code",
   "execution_count": 1,
   "id": "e3efc8ec",
   "metadata": {},
   "outputs": [],
   "source": [
    "savefile=open('C:\\\\Python1\\\\June2file.txt','w')"
   ]
  },
  {
   "cell_type": "code",
   "execution_count": 2,
   "id": "8561f351",
   "metadata": {},
   "outputs": [
    {
     "data": {
      "text/plain": [
       "44"
      ]
     },
     "execution_count": 2,
     "metadata": {},
     "output_type": "execute_result"
    }
   ],
   "source": [
    "savefile.write(\"We are learning file input-output operations\")"
   ]
  },
  {
   "cell_type": "code",
   "execution_count": 3,
   "id": "ccd067a6",
   "metadata": {},
   "outputs": [],
   "source": [
    "savefile.close()"
   ]
  },
  {
   "cell_type": "code",
   "execution_count": 4,
   "id": "2a4ed37b",
   "metadata": {},
   "outputs": [],
   "source": [
    "readme=open('C:\\\\Python1\\\\June2file.txt','r')"
   ]
  },
  {
   "cell_type": "code",
   "execution_count": 5,
   "id": "721a23c1",
   "metadata": {},
   "outputs": [
    {
     "name": "stdout",
     "output_type": "stream",
     "text": [
      "We are learning file input-output operations\n"
     ]
    }
   ],
   "source": [
    "print(readme.read())"
   ]
  },
  {
   "cell_type": "code",
   "execution_count": 6,
   "id": "3d9470c1",
   "metadata": {},
   "outputs": [],
   "source": [
    "readme.close()"
   ]
  },
  {
   "cell_type": "code",
   "execution_count": 8,
   "id": "a1dca0ba",
   "metadata": {},
   "outputs": [],
   "source": [
    "appendfile=open('C:\\\\Python1\\\\June2file.txt','a')"
   ]
  },
  {
   "cell_type": "code",
   "execution_count": 9,
   "id": "b3de5142",
   "metadata": {},
   "outputs": [
    {
     "data": {
      "text/plain": [
       "41"
      ]
     },
     "execution_count": 9,
     "metadata": {},
     "output_type": "execute_result"
    }
   ],
   "source": [
    "appendfile.write(\"\\n Now for testing I am adding second line\")"
   ]
  },
  {
   "cell_type": "code",
   "execution_count": 10,
   "id": "e0e6f218",
   "metadata": {},
   "outputs": [],
   "source": [
    "appendfile.close()"
   ]
  },
  {
   "cell_type": "code",
   "execution_count": 11,
   "id": "3cbb12f2",
   "metadata": {},
   "outputs": [],
   "source": [
    "readme=open('C:\\\\Python1\\\\June2file.txt','r')"
   ]
  },
  {
   "cell_type": "code",
   "execution_count": 12,
   "id": "f612eab4",
   "metadata": {},
   "outputs": [
    {
     "name": "stdout",
     "output_type": "stream",
     "text": [
      "We are learning file input-output operations\n",
      " Now for testing I am adding second line\n"
     ]
    }
   ],
   "source": [
    "print(readme.read())"
   ]
  },
  {
   "cell_type": "code",
   "execution_count": 13,
   "id": "b2026e41",
   "metadata": {},
   "outputs": [],
   "source": [
    "readme.close()"
   ]
  },
  {
   "cell_type": "code",
   "execution_count": null,
   "id": "8a7bf4ad",
   "metadata": {},
   "outputs": [],
   "source": []
  }
 ],
 "metadata": {
  "kernelspec": {
   "display_name": "Python 3",
   "language": "python",
   "name": "python3"
  },
  "language_info": {
   "codemirror_mode": {
    "name": "ipython",
    "version": 3
   },
   "file_extension": ".py",
   "mimetype": "text/x-python",
   "name": "python",
   "nbconvert_exporter": "python",
   "pygments_lexer": "ipython3",
   "version": "3.8.8"
  }
 },
 "nbformat": 4,
 "nbformat_minor": 5
}

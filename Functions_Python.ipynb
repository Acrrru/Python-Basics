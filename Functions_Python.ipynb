{
 "cells": [
  {
   "cell_type": "markdown",
   "id": "d1658468",
   "metadata": {},
   "source": [
    "# Functions"
   ]
  },
  {
   "cell_type": "code",
   "execution_count": 1,
   "id": "7e02e5b9",
   "metadata": {},
   "outputs": [
    {
     "data": {
      "text/plain": [
       "[40, 99, 22, 78, 30, 6, 7]"
      ]
     },
     "execution_count": 1,
     "metadata": {},
     "output_type": "execute_result"
    }
   ],
   "source": [
    "k=[40,99,22,78,30,6,7]\n",
    "k"
   ]
  },
  {
   "cell_type": "markdown",
   "id": "ce56016e",
   "metadata": {},
   "source": [
    "User defined functions"
   ]
  },
  {
   "cell_type": "code",
   "execution_count": 2,
   "id": "5c813fb0",
   "metadata": {},
   "outputs": [],
   "source": [
    "def functions1():\n",
    "    print(\"leaning functions\")"
   ]
  },
  {
   "cell_type": "code",
   "execution_count": 3,
   "id": "56f367d1",
   "metadata": {},
   "outputs": [
    {
     "name": "stdout",
     "output_type": "stream",
     "text": [
      "leaning functions\n"
     ]
    }
   ],
   "source": [
    "functions1()"
   ]
  },
  {
   "cell_type": "code",
   "execution_count": 4,
   "id": "c0ad6863",
   "metadata": {},
   "outputs": [],
   "source": [
    "def myfunction():\n",
    "    print(\"Learning function2\")"
   ]
  },
  {
   "cell_type": "code",
   "execution_count": 5,
   "id": "9348ecbe",
   "metadata": {},
   "outputs": [
    {
     "name": "stdout",
     "output_type": "stream",
     "text": [
      "Learning function2\n"
     ]
    }
   ],
   "source": [
    "myfunction()"
   ]
  },
  {
   "cell_type": "code",
   "execution_count": 6,
   "id": "d9611c04",
   "metadata": {},
   "outputs": [
    {
     "ename": "IndentationError",
     "evalue": "expected an indented block (<ipython-input-6-0d1198418381>, line 2)",
     "output_type": "error",
     "traceback": [
      "\u001b[1;36m  File \u001b[1;32m\"<ipython-input-6-0d1198418381>\"\u001b[1;36m, line \u001b[1;32m2\u001b[0m\n\u001b[1;33m    print(\"Inside newfunction\")\u001b[0m\n\u001b[1;37m    ^\u001b[0m\n\u001b[1;31mIndentationError\u001b[0m\u001b[1;31m:\u001b[0m expected an indented block\n"
     ]
    }
   ],
   "source": [
    "def newfunction():\n",
    "print(\"Inside newfunction\")    "
   ]
  },
  {
   "cell_type": "code",
   "execution_count": 8,
   "id": "26b90beb",
   "metadata": {},
   "outputs": [],
   "source": [
    "def newfunction():\n",
    "    print(\"NEW function\")"
   ]
  },
  {
   "cell_type": "code",
   "execution_count": 9,
   "id": "ec4ff1a6",
   "metadata": {},
   "outputs": [
    {
     "name": "stdout",
     "output_type": "stream",
     "text": [
      "NEW function\n"
     ]
    }
   ],
   "source": [
    "newfunction()"
   ]
  },
  {
   "cell_type": "code",
   "execution_count": 11,
   "id": "173ef97c",
   "metadata": {},
   "outputs": [
    {
     "data": {
      "text/plain": [
       "<function __main__.newfunction()>"
      ]
     },
     "execution_count": 11,
     "metadata": {},
     "output_type": "execute_result"
    }
   ],
   "source": [
    "newfunction"
   ]
  },
  {
   "cell_type": "code",
   "execution_count": 12,
   "id": "91e3edc7",
   "metadata": {},
   "outputs": [
    {
     "name": "stdout",
     "output_type": "stream",
     "text": [
      "NEW function\n"
     ]
    }
   ],
   "source": [
    "newfunction()"
   ]
  },
  {
   "cell_type": "code",
   "execution_count": 13,
   "id": "ba68856c",
   "metadata": {},
   "outputs": [],
   "source": [
    "def addition():\n",
    "    a=10\n",
    "    b=5\n",
    "    c=a+b\n",
    "    print(\"c=\",c)"
   ]
  },
  {
   "cell_type": "code",
   "execution_count": 14,
   "id": "6bf25935",
   "metadata": {},
   "outputs": [
    {
     "name": "stdout",
     "output_type": "stream",
     "text": [
      "c= 15\n"
     ]
    }
   ],
   "source": [
    "addition()"
   ]
  },
  {
   "cell_type": "code",
   "execution_count": 17,
   "id": "419585c0",
   "metadata": {},
   "outputs": [
    {
     "name": "stdout",
     "output_type": "stream",
     "text": [
      "leaning functions\n"
     ]
    }
   ],
   "source": [
    "functions1()"
   ]
  },
  {
   "cell_type": "code",
   "execution_count": 18,
   "id": "b39dcbf0",
   "metadata": {},
   "outputs": [],
   "source": [
    "def subtraction():\n",
    "    a=50\n",
    "    b=6\n",
    "    c=a-b\n",
    "    print(\"c=\",c)"
   ]
  },
  {
   "cell_type": "code",
   "execution_count": 19,
   "id": "b2317edd",
   "metadata": {},
   "outputs": [
    {
     "name": "stdout",
     "output_type": "stream",
     "text": [
      "c= 44\n"
     ]
    }
   ],
   "source": [
    "subtraction()"
   ]
  },
  {
   "cell_type": "code",
   "execution_count": 20,
   "id": "fac9724c",
   "metadata": {},
   "outputs": [],
   "source": [
    "def powerfunc():\n",
    "    x=5\n",
    "    print(\"The square of \",x,\"is=\",x**2)"
   ]
  },
  {
   "cell_type": "code",
   "execution_count": 21,
   "id": "5df55ce1",
   "metadata": {},
   "outputs": [
    {
     "name": "stdout",
     "output_type": "stream",
     "text": [
      "The square of  5 is= 25\n"
     ]
    }
   ],
   "source": [
    "powerfunc()"
   ]
  },
  {
   "cell_type": "code",
   "execution_count": 22,
   "id": "b04cb306",
   "metadata": {},
   "outputs": [],
   "source": [
    "def powerfunc1():\n",
    "    x=6\n",
    "    print(\"The cube of \",x,\"is=\",x**3)"
   ]
  },
  {
   "cell_type": "code",
   "execution_count": 24,
   "id": "41935657",
   "metadata": {},
   "outputs": [
    {
     "name": "stdout",
     "output_type": "stream",
     "text": [
      "The cube of  6 is= 216\n"
     ]
    }
   ],
   "source": [
    "powerfunc1()"
   ]
  },
  {
   "cell_type": "code",
   "execution_count": 25,
   "id": "d28c19e1",
   "metadata": {},
   "outputs": [],
   "source": [
    "def my_addition():\n",
    "    x=int(input(\"Enter any value\"))\n",
    "    y=int(input(\"Enter any value\"))\n",
    "    result=x+y\n",
    "    print(\"The value of addition=\",result)"
   ]
  },
  {
   "cell_type": "code",
   "execution_count": 26,
   "id": "94c67455",
   "metadata": {},
   "outputs": [
    {
     "name": "stdout",
     "output_type": "stream",
     "text": [
      "Enter any value80\n",
      "Enter any value7\n",
      "The value of addition= 87\n"
     ]
    }
   ],
   "source": [
    "my_addition()"
   ]
  },
  {
   "cell_type": "code",
   "execution_count": 28,
   "id": "ca5db537",
   "metadata": {},
   "outputs": [],
   "source": [
    "def area_of_circle():\n",
    "    pi=3.14\n",
    "    radius=9\n",
    "    area=pi*(radius**2)\n",
    "    print(\"Area of circle=\",area)"
   ]
  },
  {
   "cell_type": "code",
   "execution_count": 29,
   "id": "2a8cc90f",
   "metadata": {},
   "outputs": [
    {
     "name": "stdout",
     "output_type": "stream",
     "text": [
      "Area of circle= 254.34\n"
     ]
    }
   ],
   "source": [
    "area_of_circle()"
   ]
  },
  {
   "cell_type": "code",
   "execution_count": null,
   "id": "b9ba98d9",
   "metadata": {},
   "outputs": [],
   "source": [
    "# Alter"
   ]
  },
  {
   "cell_type": "code",
   "execution_count": 30,
   "id": "22d6b5ad",
   "metadata": {},
   "outputs": [],
   "source": [
    "def _areaofcircle_():\n",
    "    pi=3.14\n",
    "    radius=int(input(\"Enter any radius\"))\n",
    "    area=pi*(radius**2)\n",
    "    print(\"Area of circle=\",area)\n",
    "    print(\"Area of circle=\",round(area,2))"
   ]
  },
  {
   "cell_type": "code",
   "execution_count": 31,
   "id": "ac93341f",
   "metadata": {},
   "outputs": [
    {
     "name": "stdout",
     "output_type": "stream",
     "text": [
      "Enter any radius67\n",
      "Area of circle= 14095.460000000001\n",
      "Area of circle= 14095.46\n"
     ]
    }
   ],
   "source": [
    "_areaofcircle_()"
   ]
  },
  {
   "cell_type": "markdown",
   "id": "1ff487a5",
   "metadata": {},
   "source": [
    "Parametric Functions"
   ]
  },
  {
   "cell_type": "code",
   "execution_count": 49,
   "id": "8c3db59a",
   "metadata": {},
   "outputs": [],
   "source": [
    "def addition2(x,y):\n",
    "    x=2\n",
    "    y=6\n",
    "    z=x+y\n",
    "    print(\"The Value of z=\",z)"
   ]
  },
  {
   "cell_type": "code",
   "execution_count": 50,
   "id": "121b5b69",
   "metadata": {},
   "outputs": [
    {
     "name": "stdout",
     "output_type": "stream",
     "text": [
      "The Value of z= 8\n"
     ]
    }
   ],
   "source": [
    "addition2(x,y)"
   ]
  },
  {
   "cell_type": "code",
   "execution_count": null,
   "id": "a5761ac1",
   "metadata": {},
   "outputs": [],
   "source": [
    "# Find the area of circle with parametric method"
   ]
  },
  {
   "cell_type": "code",
   "execution_count": 67,
   "id": "da9575d3",
   "metadata": {},
   "outputs": [],
   "source": [
    "def areaofcircle(radius):\n",
    "    pi=3.14\n",
    "    area=pi*(radius**2)\n",
    "    print(\"The Area of circle with radius=\",radius,\"=\",round(area,1))"
   ]
  },
  {
   "cell_type": "code",
   "execution_count": 68,
   "id": "d9c39363",
   "metadata": {},
   "outputs": [
    {
     "name": "stdout",
     "output_type": "stream",
     "text": [
      "Enter any value of radius54\n",
      "The Area of circle with radius= 54 = 9156.2\n"
     ]
    }
   ],
   "source": [
    "radius=int(input(\"Enter any value of radius\"))\n",
    "\n",
    "areaofcircle(radius)"
   ]
  },
  {
   "cell_type": "code",
   "execution_count": null,
   "id": "7e91b26c",
   "metadata": {},
   "outputs": [],
   "source": [
    "# Area of Rectangle"
   ]
  },
  {
   "cell_type": "code",
   "execution_count": 69,
   "id": "e8351cb9",
   "metadata": {},
   "outputs": [],
   "source": [
    "def area_of_rectangle(length,breadth):\n",
    "    area=length*breadth\n",
    "    print(\"The area of rectangle=\",area)\n",
    "    print(\"The area of rectangle with length=\",length,\"and\",breadth,\"=\",area)"
   ]
  },
  {
   "cell_type": "code",
   "execution_count": 70,
   "id": "36eb7ce1",
   "metadata": {},
   "outputs": [
    {
     "name": "stdout",
     "output_type": "stream",
     "text": [
      "enter the length70\n",
      "enter the breadth8\n"
     ]
    }
   ],
   "source": [
    "length=int(input(\"enter the length\"))\n",
    "breadth=int(input(\"enter the breadth\"))"
   ]
  },
  {
   "cell_type": "code",
   "execution_count": 71,
   "id": "6e0cb52d",
   "metadata": {},
   "outputs": [
    {
     "name": "stdout",
     "output_type": "stream",
     "text": [
      "The area of rectangle= 560\n",
      "The area of rectangle with length= 70 and 8 = 560\n"
     ]
    }
   ],
   "source": [
    "area_of_rectangle(length,breadth)"
   ]
  },
  {
   "cell_type": "code",
   "execution_count": 72,
   "id": "6201e7fe",
   "metadata": {},
   "outputs": [],
   "source": [
    "def runfor_function():\n",
    "    for i in range(1,11):\n",
    "        print(i)"
   ]
  },
  {
   "cell_type": "code",
   "execution_count": 73,
   "id": "761a6214",
   "metadata": {},
   "outputs": [
    {
     "name": "stdout",
     "output_type": "stream",
     "text": [
      "1\n",
      "2\n",
      "3\n",
      "4\n",
      "5\n",
      "6\n",
      "7\n",
      "8\n",
      "9\n",
      "10\n"
     ]
    }
   ],
   "source": [
    "runfor_function()"
   ]
  },
  {
   "cell_type": "code",
   "execution_count": 74,
   "id": "228661c1",
   "metadata": {},
   "outputs": [],
   "source": [
    "def prod():\n",
    "    a=30\n",
    "    b=4\n",
    "    result=a*b\n",
    "    return result"
   ]
  },
  {
   "cell_type": "code",
   "execution_count": 75,
   "id": "275a0522",
   "metadata": {},
   "outputs": [
    {
     "data": {
      "text/plain": [
       "120"
      ]
     },
     "execution_count": 75,
     "metadata": {},
     "output_type": "execute_result"
    }
   ],
   "source": [
    "prod()"
   ]
  },
  {
   "cell_type": "code",
   "execution_count": 76,
   "id": "fde0d719",
   "metadata": {},
   "outputs": [],
   "source": [
    "def testf():\n",
    "    p=5\n",
    "    print(p)"
   ]
  },
  {
   "cell_type": "code",
   "execution_count": 77,
   "id": "624f318b",
   "metadata": {},
   "outputs": [
    {
     "name": "stdout",
     "output_type": "stream",
     "text": [
      "5\n"
     ]
    }
   ],
   "source": [
    "testf()"
   ]
  },
  {
   "cell_type": "code",
   "execution_count": 78,
   "id": "d20b296b",
   "metadata": {},
   "outputs": [],
   "source": [
    "def add():\n",
    "    a=30\n",
    "    b=6\n",
    "    result=a+b\n",
    "    return result"
   ]
  },
  {
   "cell_type": "code",
   "execution_count": 79,
   "id": "146116ed",
   "metadata": {},
   "outputs": [
    {
     "data": {
      "text/plain": [
       "36"
      ]
     },
     "execution_count": 79,
     "metadata": {},
     "output_type": "execute_result"
    }
   ],
   "source": [
    "res=add()\n",
    "res"
   ]
  },
  {
   "cell_type": "code",
   "execution_count": 80,
   "id": "05c8fa4d",
   "metadata": {},
   "outputs": [],
   "source": [
    "def subtract(res):\n",
    "    g=8\n",
    "    value=res-g\n",
    "    print(value)"
   ]
  },
  {
   "cell_type": "code",
   "execution_count": 81,
   "id": "e6197fa1",
   "metadata": {},
   "outputs": [
    {
     "name": "stdout",
     "output_type": "stream",
     "text": [
      "28\n"
     ]
    }
   ],
   "source": [
    "subtract(res)"
   ]
  },
  {
   "cell_type": "code",
   "execution_count": 82,
   "id": "2057b26f",
   "metadata": {},
   "outputs": [],
   "source": [
    "def greeting(name):\n",
    "    print(\"Hello\",name)"
   ]
  },
  {
   "cell_type": "code",
   "execution_count": 83,
   "id": "f5c9e566",
   "metadata": {},
   "outputs": [
    {
     "name": "stdout",
     "output_type": "stream",
     "text": [
      "Hello Mr.Ramesh\n"
     ]
    }
   ],
   "source": [
    "greeting('Mr.Ramesh')"
   ]
  },
  {
   "cell_type": "code",
   "execution_count": 84,
   "id": "2ec4ec5a",
   "metadata": {},
   "outputs": [],
   "source": [
    "def add_num(num1,num2):\n",
    "    return num1+num2"
   ]
  },
  {
   "cell_type": "code",
   "execution_count": 85,
   "id": "6589c586",
   "metadata": {},
   "outputs": [
    {
     "data": {
      "text/plain": [
       "1105"
      ]
     },
     "execution_count": 85,
     "metadata": {},
     "output_type": "execute_result"
    }
   ],
   "source": [
    "add_num(200,905)"
   ]
  },
  {
   "cell_type": "code",
   "execution_count": 86,
   "id": "3066c61c",
   "metadata": {},
   "outputs": [],
   "source": [
    "def is_prime(num):\n",
    "    for i in range(2,num):\n",
    "        if num%i==0:\n",
    "            print(\"not prime\")\n",
    "            break\n",
    "        else:\n",
    "            print(\"prime\")"
   ]
  },
  {
   "cell_type": "code",
   "execution_count": 87,
   "id": "82954dce",
   "metadata": {},
   "outputs": [
    {
     "name": "stdout",
     "output_type": "stream",
     "text": [
      "prime\n",
      "prime\n",
      "prime\n"
     ]
    }
   ],
   "source": [
    "is_prime(5)"
   ]
  },
  {
   "cell_type": "code",
   "execution_count": 88,
   "id": "030dfd0e",
   "metadata": {},
   "outputs": [
    {
     "name": "stdout",
     "output_type": "stream",
     "text": [
      "prime\n",
      "not prime\n"
     ]
    }
   ],
   "source": [
    "is_prime(9)"
   ]
  },
  {
   "cell_type": "code",
   "execution_count": 94,
   "id": "6e039ed7",
   "metadata": {},
   "outputs": [],
   "source": [
    "def cubes(n):\n",
    "    for i in range(n):\n",
    "        yield i**3"
   ]
  },
  {
   "cell_type": "code",
   "execution_count": 95,
   "id": "61a3fb0e",
   "metadata": {},
   "outputs": [
    {
     "data": {
      "text/plain": [
       "<generator object cubes at 0x0000024A48145C80>"
      ]
     },
     "execution_count": 95,
     "metadata": {},
     "output_type": "execute_result"
    }
   ],
   "source": [
    "cubes(3)"
   ]
  },
  {
   "cell_type": "code",
   "execution_count": 96,
   "id": "39e39f26",
   "metadata": {},
   "outputs": [],
   "source": [
    "def add_10(x):\n",
    "    return x+10"
   ]
  },
  {
   "cell_type": "code",
   "execution_count": 97,
   "id": "7d1b2f91",
   "metadata": {},
   "outputs": [
    {
     "data": {
      "text/plain": [
       "19"
      ]
     },
     "execution_count": 97,
     "metadata": {},
     "output_type": "execute_result"
    }
   ],
   "source": [
    "add_10(9)"
   ]
  },
  {
   "cell_type": "code",
   "execution_count": 99,
   "id": "6b4fa651",
   "metadata": {},
   "outputs": [],
   "source": [
    "def odd_even(x):\n",
    "\n",
    "    if x%2==0:\n",
    "        print(x,\"is even\")\n",
    "    else:\n",
    "        print(x,\"is odd\")"
   ]
  },
  {
   "cell_type": "code",
   "execution_count": 100,
   "id": "1e266e7b",
   "metadata": {},
   "outputs": [
    {
     "name": "stdout",
     "output_type": "stream",
     "text": [
      "5 is odd\n"
     ]
    }
   ],
   "source": [
    "odd_even(5)"
   ]
  },
  {
   "cell_type": "code",
   "execution_count": 102,
   "id": "d796a6cf",
   "metadata": {},
   "outputs": [
    {
     "name": "stdout",
     "output_type": "stream",
     "text": [
      "8 is even\n"
     ]
    }
   ],
   "source": [
    "odd_even(8)"
   ]
  },
  {
   "cell_type": "code",
   "execution_count": null,
   "id": "2ee01e0f",
   "metadata": {},
   "outputs": [],
   "source": []
  }
 ],
 "metadata": {
  "kernelspec": {
   "display_name": "Python 3",
   "language": "python",
   "name": "python3"
  },
  "language_info": {
   "codemirror_mode": {
    "name": "ipython",
    "version": 3
   },
   "file_extension": ".py",
   "mimetype": "text/x-python",
   "name": "python",
   "nbconvert_exporter": "python",
   "pygments_lexer": "ipython3",
   "version": "3.8.8"
  }
 },
 "nbformat": 4,
 "nbformat_minor": 5
}

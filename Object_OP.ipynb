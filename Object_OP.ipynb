{
 "cells": [
  {
   "cell_type": "markdown",
   "id": "66fb8d27",
   "metadata": {},
   "source": [
    "# OOPS(Object-Oriented Programming) in Python"
   ]
  },
  {
   "cell_type": "markdown",
   "id": "d0431bda",
   "metadata": {},
   "source": [
    "Class and Objects"
   ]
  },
  {
   "cell_type": "markdown",
   "id": "ce33da49",
   "metadata": {},
   "source": [
    "> The basic idea behind an OOP is to combine both data and associated prcedures(known as methods) into a single\n",
    "  unit which operates on the data. such a unit is called an Object.\n",
    "> Python is an oject-oriented language. everything in python is an object.\n",
    "> Class is an architecture of the object. A user-defined prototype for an object that defines a set of attributes\n",
    "  that characterize any object.\n",
    "> The attributes are data members(class variables and instance variables)and methods,accessed via dot notation.\n",
    "> Data member is a class variable/instance variable that holds data associated with a class and its objects.\n",
    "> Instance is an individual object of a certain class. An object obj that belongs to a class Circle, for example,\n",
    "  is an instance of the class Circle.\n",
    "> Constructor is a special method. you can think of as a function which initializes/activates the attributes/\n",
    "  properties of class for an object. Use Keyword __init__ to create a method for constructor.\n",
    "    \n",
    "    Ex: objCircle=Circle()\n",
    "        \n",
    "> Init is a method that is automatically called after object construction. It initializes every object state.   "
   ]
  },
  {
   "cell_type": "code",
   "execution_count": 1,
   "id": "fa5ccf95",
   "metadata": {},
   "outputs": [],
   "source": [
    "class Student:\n",
    "    \n",
    "    def __init__ (self,sid,sname):\n",
    "        self.sid=sid\n",
    "        self.sname=sname\n",
    "    def displaydata(self):\n",
    "        print(\"Student id=\",self.sid,\"Student name=\",self.sname)"
   ]
  },
  {
   "cell_type": "code",
   "execution_count": 2,
   "id": "1c19325c",
   "metadata": {},
   "outputs": [
    {
     "name": "stdout",
     "output_type": "stream",
     "text": [
      "Student id= 101 Student name= Jack\n"
     ]
    }
   ],
   "source": [
    "stud1=Student(101,\"Jack\")\n",
    "stud1.displaydata()"
   ]
  },
  {
   "cell_type": "code",
   "execution_count": 4,
   "id": "af02231e",
   "metadata": {},
   "outputs": [
    {
     "name": "stdout",
     "output_type": "stream",
     "text": [
      "Student id= 102 Student name= Andrew\n"
     ]
    }
   ],
   "source": [
    "stud2=Student(102,\"Andrew\")\n",
    "stud2.displaydata()"
   ]
  },
  {
   "cell_type": "code",
   "execution_count": 5,
   "id": "ae13256a",
   "metadata": {},
   "outputs": [
    {
     "data": {
      "text/plain": [
       "101"
      ]
     },
     "execution_count": 5,
     "metadata": {},
     "output_type": "execute_result"
    }
   ],
   "source": [
    "stud1.sid"
   ]
  },
  {
   "cell_type": "code",
   "execution_count": 6,
   "id": "59439de8",
   "metadata": {},
   "outputs": [
    {
     "data": {
      "text/plain": [
       "'Jack'"
      ]
     },
     "execution_count": 6,
     "metadata": {},
     "output_type": "execute_result"
    }
   ],
   "source": [
    "stud1.sname"
   ]
  },
  {
   "cell_type": "code",
   "execution_count": 7,
   "id": "e41dece0",
   "metadata": {},
   "outputs": [
    {
     "data": {
      "text/plain": [
       "102"
      ]
     },
     "execution_count": 7,
     "metadata": {},
     "output_type": "execute_result"
    }
   ],
   "source": [
    "stud2.sid"
   ]
  },
  {
   "cell_type": "code",
   "execution_count": 8,
   "id": "e24e0a50",
   "metadata": {},
   "outputs": [
    {
     "data": {
      "text/plain": [
       "'Andrew'"
      ]
     },
     "execution_count": 8,
     "metadata": {},
     "output_type": "execute_result"
    }
   ],
   "source": [
    "stud2.sname"
   ]
  },
  {
   "cell_type": "code",
   "execution_count": 11,
   "id": "816b282c",
   "metadata": {},
   "outputs": [],
   "source": [
    "class Employee:\n",
    "    \n",
    "    def __init__ (self,empid,empname,position):\n",
    "        self.empid=empid\n",
    "        self.empname=empname\n",
    "        self.position=position\n",
    "    def display(self):\n",
    "        print('Empid=',self.empid,'Empname=',self.empname,'Position=',self.position)"
   ]
  },
  {
   "cell_type": "code",
   "execution_count": 12,
   "id": "36409a56",
   "metadata": {},
   "outputs": [
    {
     "name": "stdout",
     "output_type": "stream",
     "text": [
      "Empid= 201 Empname= Lisa Position= Manager\n"
     ]
    }
   ],
   "source": [
    "emp1=Employee(201,'Lisa','Manager')\n",
    "emp1.display()"
   ]
  },
  {
   "cell_type": "code",
   "execution_count": 13,
   "id": "94a03bbb",
   "metadata": {},
   "outputs": [
    {
     "name": "stdout",
     "output_type": "stream",
     "text": [
      "Empid= 201 Empname= John Position= Director\n"
     ]
    }
   ],
   "source": [
    "emp2=Employee(201,'John','Director')\n",
    "emp2.display()"
   ]
  },
  {
   "cell_type": "code",
   "execution_count": 14,
   "id": "b329049f",
   "metadata": {},
   "outputs": [],
   "source": [
    "class Student:\n",
    "    \n",
    "    fees=5000\n",
    "    \n",
    "    def __init__ (self,name,grade):\n",
    "        self.name=name\n",
    "        self.grade=grade\n",
    "    def display(self):\n",
    "        print('Name:',self.name,'Grade:',self.grade,'Fees:',self.fees)"
   ]
  },
  {
   "cell_type": "code",
   "execution_count": 15,
   "id": "d32353f5",
   "metadata": {},
   "outputs": [
    {
     "name": "stdout",
     "output_type": "stream",
     "text": [
      "Name: Jack Grade: 9 Fees: 5000\n"
     ]
    }
   ],
   "source": [
    "stud1=Student('Jack',9)\n",
    "stud1.display()"
   ]
  },
  {
   "cell_type": "code",
   "execution_count": 16,
   "id": "832b8400",
   "metadata": {},
   "outputs": [
    {
     "data": {
      "text/plain": [
       "5000"
      ]
     },
     "execution_count": 16,
     "metadata": {},
     "output_type": "execute_result"
    }
   ],
   "source": [
    "stud1.fees"
   ]
  },
  {
   "cell_type": "code",
   "execution_count": 17,
   "id": "be58e765",
   "metadata": {},
   "outputs": [
    {
     "data": {
      "text/plain": [
       "9"
      ]
     },
     "execution_count": 17,
     "metadata": {},
     "output_type": "execute_result"
    }
   ],
   "source": [
    "stud1.grade"
   ]
  },
  {
   "cell_type": "markdown",
   "id": "8795ac19",
   "metadata": {},
   "source": [
    "# Task"
   ]
  },
  {
   "cell_type": "markdown",
   "id": "fbc3e692",
   "metadata": {},
   "source": [
    "Create a class company.Declare 3 attributes name,location,number_of_employees. Now initialize the company class."
   ]
  },
  {
   "cell_type": "code",
   "execution_count": 24,
   "id": "72382639",
   "metadata": {},
   "outputs": [],
   "source": [
    "class Company:\n",
    "    \n",
    "    def __init__ (self,name,location,number_of_employees):\n",
    "        self.name=name\n",
    "        self.location=location\n",
    "        self.number_of_employees=number_of_employees     "
   ]
  },
  {
   "cell_type": "code",
   "execution_count": 25,
   "id": "99b18ff4",
   "metadata": {},
   "outputs": [
    {
     "name": "stdout",
     "output_type": "stream",
     "text": [
      "George\n",
      "London\n",
      "400\n"
     ]
    }
   ],
   "source": [
    "c=Company('George','London',400)\n",
    "\n",
    "print(c.name)\n",
    "print(c.location)\n",
    "print(c.number_of_employees)"
   ]
  },
  {
   "cell_type": "code",
   "execution_count": 27,
   "id": "56c6f313",
   "metadata": {},
   "outputs": [],
   "source": [
    "class Car:\n",
    "    \n",
    "    def __init__ (self,color,company):\n",
    "        self.company=company\n",
    "        self.color=color\n",
    "    def display(self):\n",
    "        print('This is a',self.color,self.company)"
   ]
  },
  {
   "cell_type": "code",
   "execution_count": 28,
   "id": "b15323a2",
   "metadata": {},
   "outputs": [],
   "source": [
    "def main():\n",
    "    \n",
    "    c=Car('Red','Ferrari')\n",
    "    c.display()"
   ]
  },
  {
   "cell_type": "code",
   "execution_count": 29,
   "id": "e7ab8f4e",
   "metadata": {},
   "outputs": [
    {
     "name": "stdout",
     "output_type": "stream",
     "text": [
      "This is a Red Ferrari\n"
     ]
    }
   ],
   "source": [
    "if __name__=='__main__':\n",
    "    main()"
   ]
  },
  {
   "cell_type": "code",
   "execution_count": 30,
   "id": "49761d70",
   "metadata": {},
   "outputs": [],
   "source": [
    "class Employee:\n",
    "    \n",
    "    def __init__ (self,name,age):\n",
    "        print(\"Initialized method called\")\n",
    "        self.name=name\n",
    "        self.age=age\n",
    "    def getdata(self,name,age):\n",
    "        print(\"Get data method called\")\n",
    "        self.name=name\n",
    "        self.age=age\n",
    "    def displaydata(self):\n",
    "        print('Hello',self.name,self.age)"
   ]
  },
  {
   "cell_type": "code",
   "execution_count": 31,
   "id": "fc3db0d2",
   "metadata": {},
   "outputs": [],
   "source": [
    "def main():\n",
    "    e=Employee('william',35)\n",
    "    e.displaydata()\n",
    "    e.getdata('john',25)\n",
    "    e.displaydata()"
   ]
  },
  {
   "cell_type": "code",
   "execution_count": 32,
   "id": "01d79ab5",
   "metadata": {},
   "outputs": [
    {
     "name": "stdout",
     "output_type": "stream",
     "text": [
      "Initialized method called\n",
      "Hello william 35\n",
      "Get data method called\n",
      "Hello john 25\n"
     ]
    }
   ],
   "source": [
    "if __name__=='__main__':\n",
    "    main()"
   ]
  },
  {
   "cell_type": "markdown",
   "id": "3f4e4d23",
   "metadata": {},
   "source": [
    "# Task"
   ]
  },
  {
   "cell_type": "markdown",
   "id": "98dd3836",
   "metadata": {},
   "source": [
    "Create a player class with name,age,sports associated with the player."
   ]
  },
  {
   "cell_type": "code",
   "execution_count": 35,
   "id": "4d2f0991",
   "metadata": {},
   "outputs": [
    {
     "name": "stdout",
     "output_type": "stream",
     "text": [
      "Initialized data for players\n",
      "Player details: Virat 35 Cricket\n",
      "Getting data for players\n",
      "Player details: Richard 45 Tennis\n",
      "Initialized data for players\n",
      "Player details: Dhoni 25 Cricket\n",
      "Getting data for players\n",
      "Player details: Vivian 65 Cricket\n"
     ]
    }
   ],
   "source": [
    "class Player:\n",
    "    \n",
    "    def __init__ (self,name,age,sport):\n",
    "        print('Initialized data for players')\n",
    "        self.name=name\n",
    "        self.age=age\n",
    "        self.sport=sport\n",
    "    def getdata(self,name,age,sport):\n",
    "        print('Getting data for players')\n",
    "        self.name=name\n",
    "        self.age=age\n",
    "        self.sport=sport\n",
    "    def displaydata(self):\n",
    "        print('Player details:',self.name,self.age,self.sport)\n",
    "    def main():\n",
    "        \n",
    "        p1=Player('Virat',35,'Cricket')\n",
    "        p1.displaydata()\n",
    "        p1.getdata('Richard',45,'Tennis')\n",
    "        p1.displaydata()\n",
    "        p2=Player('Dhoni',25,'Cricket')\n",
    "        p2.displaydata()\n",
    "        p2.getdata('Vivian',65,'Cricket')\n",
    "        p2.displaydata()\n",
    "        \n",
    "    if __name__=='__main__':\n",
    "        main()"
   ]
  },
  {
   "cell_type": "code",
   "execution_count": 36,
   "id": "040bc911",
   "metadata": {},
   "outputs": [],
   "source": [
    "class Phone:\n",
    "    \n",
    "    def make_call(self):\n",
    "        print(\"I am making a call\")\n",
    "    def play_game(self):\n",
    "        print(\"I am playing a game\")"
   ]
  },
  {
   "cell_type": "code",
   "execution_count": 37,
   "id": "9778ed2a",
   "metadata": {},
   "outputs": [
    {
     "name": "stdout",
     "output_type": "stream",
     "text": [
      "I am making a call\n",
      "I am playing a game\n"
     ]
    }
   ],
   "source": [
    "p1=Phone()\n",
    "p1.make_call()\n",
    "p1.play_game()"
   ]
  },
  {
   "cell_type": "code",
   "execution_count": 39,
   "id": "595d09c6",
   "metadata": {},
   "outputs": [],
   "source": [
    "class Phone:\n",
    "    \n",
    "    def set_color(self,color):\n",
    "        self.color=color\n",
    "    def set_cost(self,cost):\n",
    "        self.cost=cost\n",
    "    def show_color(self):\n",
    "        return self.color\n",
    "    def show_cost(self):\n",
    "        return self.cost\n",
    "    def make_call(self):\n",
    "        print('Make a call')\n",
    "    def play_game(self):\n",
    "        print('Play a game')"
   ]
  },
  {
   "cell_type": "code",
   "execution_count": 43,
   "id": "b6f531a7",
   "metadata": {},
   "outputs": [
    {
     "data": {
      "text/plain": [
       "'Blue'"
      ]
     },
     "execution_count": 43,
     "metadata": {},
     "output_type": "execute_result"
    }
   ],
   "source": [
    "p2=Phone()\n",
    "\n",
    "p2.set_color('Blue')\n",
    "p2.show_color()"
   ]
  },
  {
   "cell_type": "code",
   "execution_count": 44,
   "id": "1ff94390",
   "metadata": {},
   "outputs": [
    {
     "data": {
      "text/plain": [
       "5000"
      ]
     },
     "execution_count": 44,
     "metadata": {},
     "output_type": "execute_result"
    }
   ],
   "source": [
    "p2.set_cost(5000)\n",
    "p2.show_cost()"
   ]
  },
  {
   "cell_type": "code",
   "execution_count": 48,
   "id": "a7cbb6eb",
   "metadata": {},
   "outputs": [
    {
     "name": "stdout",
     "output_type": "stream",
     "text": [
      "Make a call\n",
      "Play a game\n"
     ]
    }
   ],
   "source": [
    "p2.make_call()\n",
    "p2.play_game()"
   ]
  },
  {
   "cell_type": "code",
   "execution_count": null,
   "id": "d7a74730",
   "metadata": {},
   "outputs": [],
   "source": [
    "# Creating a class with constructor"
   ]
  },
  {
   "cell_type": "code",
   "execution_count": 52,
   "id": "b88309fd",
   "metadata": {},
   "outputs": [],
   "source": [
    "class Employee:\n",
    "    \n",
    "    def __init__(self,name,age,salary,gender):\n",
    "        self.name=name\n",
    "        self.age=age\n",
    "        self.salary=salary\n",
    "        self.gender=gender\n",
    "    def show_employee_details(self):\n",
    "        print('Name of employee is',self.name)\n",
    "        print('Age of employee is',self.age)\n",
    "        print('Salary of employee is',self.salary)\n",
    "        print('Gender of employee is',self.gender)"
   ]
  },
  {
   "cell_type": "code",
   "execution_count": 53,
   "id": "99cf0c23",
   "metadata": {},
   "outputs": [
    {
     "name": "stdout",
     "output_type": "stream",
     "text": [
      "Name of employee is Ram\n",
      "Age of employee is 32\n",
      "Salary of employee is 50000\n",
      "Gender of employee is Male\n"
     ]
    }
   ],
   "source": [
    "e1=Employee('Ram',32,50000,'Male')\n",
    "e1.show_employee_details()"
   ]
  },
  {
   "cell_type": "markdown",
   "id": "6a702753",
   "metadata": {},
   "source": [
    "Inheritance:-\n",
    "    \n",
    "    With Inheritance,one class can derive the properties of another class."
   ]
  },
  {
   "cell_type": "code",
   "execution_count": 55,
   "id": "c6627941",
   "metadata": {},
   "outputs": [],
   "source": [
    "class Vehicle:\n",
    "    \n",
    "    def __init__ (self,Mileage,Cost):\n",
    "        self.Mileage=Mileage\n",
    "        self.Cost=Cost\n",
    "    def show_vehicle_details(self):\n",
    "        print('Mileage of Vehicle is',self.Mileage)\n",
    "        print('Cost of Vehicle is',self.Cost)\n",
    "        print('I am a Vehicle')"
   ]
  },
  {
   "cell_type": "code",
   "execution_count": 57,
   "id": "fcaa9b91",
   "metadata": {},
   "outputs": [
    {
     "name": "stdout",
     "output_type": "stream",
     "text": [
      "Mileage of Vehicle is 300\n",
      "Cost of Vehicle is 500\n",
      "I am a Vehicle\n"
     ]
    }
   ],
   "source": [
    "V1=Vehicle(300,500)\n",
    "V1.show_vehicle_details()"
   ]
  },
  {
   "cell_type": "code",
   "execution_count": 58,
   "id": "19072eb6",
   "metadata": {},
   "outputs": [],
   "source": [
    "class Car(Vehicle):\n",
    "    \n",
    "    def show_car_details(self):\n",
    "        print('I am a Car')"
   ]
  },
  {
   "cell_type": "code",
   "execution_count": 59,
   "id": "711a2ebc",
   "metadata": {},
   "outputs": [
    {
     "name": "stdout",
     "output_type": "stream",
     "text": [
      "Mileage of Vehicle is 250\n",
      "Cost of Vehicle is 800\n",
      "I am a Vehicle\n"
     ]
    }
   ],
   "source": [
    "C1=Car(250,800)\n",
    "C1.show_vehicle_details()"
   ]
  },
  {
   "cell_type": "code",
   "execution_count": 60,
   "id": "545b8ba1",
   "metadata": {},
   "outputs": [
    {
     "name": "stdout",
     "output_type": "stream",
     "text": [
      "I am a Car\n"
     ]
    }
   ],
   "source": [
    "C1.show_car_details()"
   ]
  },
  {
   "cell_type": "markdown",
   "id": "4708b0fe",
   "metadata": {},
   "source": [
    "Over-riding Init method:-\n",
    "    \n",
    "    Here,we will add a new constructor in child class.\n",
    "    we will use super(). method"
   ]
  },
  {
   "cell_type": "code",
   "execution_count": 61,
   "id": "7f34f2eb",
   "metadata": {},
   "outputs": [],
   "source": [
    "class Vehicle:\n",
    "    \n",
    "    def __init__ (self,mileage,cost):\n",
    "        self.mileage=mileage\n",
    "        self.cost=cost\n",
    "    def show_vehicle_details(self):\n",
    "        print('Mileage of Vehicle is ',self.mileage)\n",
    "        print('Cost of Vehicle is ',self.cost)\n",
    "        print('I am a vehicle')"
   ]
  },
  {
   "cell_type": "code",
   "execution_count": 62,
   "id": "335834d3",
   "metadata": {},
   "outputs": [
    {
     "name": "stdout",
     "output_type": "stream",
     "text": [
      "Mileage of Vehicle is  300\n",
      "Cost of Vehicle is  500\n",
      "I am a vehicle\n"
     ]
    }
   ],
   "source": [
    "v1=Vehicle(300,500)\n",
    "v1.show_vehicle_details()"
   ]
  },
  {
   "cell_type": "code",
   "execution_count": 64,
   "id": "0905e984",
   "metadata": {},
   "outputs": [],
   "source": [
    "class Car(Vehicle):\n",
    "    \n",
    "    def __init__ (self,mileage,cost,tyres,hp):\n",
    "        \n",
    "        super(). __init__ (mileage,cost)\n",
    "        self.tyres=tyres\n",
    "        self.hp=hp\n",
    "    def show_car_details(self):\n",
    "        print('No. of tyres in car: ',self.tyres)\n",
    "        print('Horse power of a car: ',self.hp)\n",
    "        print('I am a car')"
   ]
  },
  {
   "cell_type": "code",
   "execution_count": 65,
   "id": "f6dd7368",
   "metadata": {},
   "outputs": [
    {
     "name": "stdout",
     "output_type": "stream",
     "text": [
      "No. of tyres in car:  8\n",
      "Horse power of a car:  999\n",
      "I am a car\n"
     ]
    }
   ],
   "source": [
    "c1=Car(600,1000000,8,999)\n",
    "\n",
    "c1.show_car_details()"
   ]
  },
  {
   "cell_type": "code",
   "execution_count": 66,
   "id": "3f75806f",
   "metadata": {},
   "outputs": [
    {
     "name": "stdout",
     "output_type": "stream",
     "text": [
      "Mileage of Vehicle is  600\n",
      "Cost of Vehicle is  1000000\n",
      "I am a vehicle\n"
     ]
    }
   ],
   "source": [
    "c1.show_vehicle_details()"
   ]
  },
  {
   "cell_type": "markdown",
   "id": "b632cebd",
   "metadata": {},
   "source": [
    "Multiple Inheritance:-\n",
    "    \n",
    "    In this, the child inherits from more than 1 parent class."
   ]
  },
  {
   "cell_type": "code",
   "execution_count": 68,
   "id": "01e6bcfb",
   "metadata": {},
   "outputs": [],
   "source": [
    "class Parent1:\n",
    "    \n",
    "    def assign_string_one(self,str1):\n",
    "        self.str1=str1\n",
    "    def show_string_one(self):\n",
    "        return self.str1"
   ]
  },
  {
   "cell_type": "code",
   "execution_count": 76,
   "id": "4d920475",
   "metadata": {},
   "outputs": [],
   "source": [
    "class Parent2:\n",
    "    \n",
    "    def assign_string_two(self,str2):\n",
    "        self.str2=str2\n",
    "    def show_string_two(self):\n",
    "        return self.str2"
   ]
  },
  {
   "cell_type": "code",
   "execution_count": 77,
   "id": "aa349bef",
   "metadata": {},
   "outputs": [],
   "source": [
    "class Child(Parent1,Parent2):\n",
    "    \n",
    "    def assign_string_three(self,str3):\n",
    "        self.str3=str3\n",
    "    def show_string_three(self):\n",
    "        return self.str3"
   ]
  },
  {
   "cell_type": "code",
   "execution_count": 78,
   "id": "988f3f6b",
   "metadata": {},
   "outputs": [],
   "source": [
    "my_child=Child()"
   ]
  },
  {
   "cell_type": "code",
   "execution_count": 79,
   "id": "2ce57f74",
   "metadata": {},
   "outputs": [],
   "source": [
    "my_child.assign_string_one('I am a string of Parent1')"
   ]
  },
  {
   "cell_type": "code",
   "execution_count": 80,
   "id": "87ce1726",
   "metadata": {},
   "outputs": [],
   "source": [
    "my_child.assign_string_two('I am a string of Parent2')"
   ]
  },
  {
   "cell_type": "code",
   "execution_count": 81,
   "id": "af90cf52",
   "metadata": {},
   "outputs": [],
   "source": [
    "my_child.assign_string_three('I am a string of Child')"
   ]
  },
  {
   "cell_type": "code",
   "execution_count": 82,
   "id": "731f2077",
   "metadata": {},
   "outputs": [
    {
     "data": {
      "text/plain": [
       "'I am a string of Parent1'"
      ]
     },
     "execution_count": 82,
     "metadata": {},
     "output_type": "execute_result"
    }
   ],
   "source": [
    "my_child.show_string_one()"
   ]
  },
  {
   "cell_type": "code",
   "execution_count": 83,
   "id": "0ba326aa",
   "metadata": {},
   "outputs": [
    {
     "data": {
      "text/plain": [
       "'I am a string of Parent2'"
      ]
     },
     "execution_count": 83,
     "metadata": {},
     "output_type": "execute_result"
    }
   ],
   "source": [
    "my_child.show_string_two()"
   ]
  },
  {
   "cell_type": "code",
   "execution_count": 84,
   "id": "76f9116b",
   "metadata": {},
   "outputs": [
    {
     "data": {
      "text/plain": [
       "'I am a string of Child'"
      ]
     },
     "execution_count": 84,
     "metadata": {},
     "output_type": "execute_result"
    }
   ],
   "source": [
    "my_child.show_string_three()"
   ]
  },
  {
   "cell_type": "markdown",
   "id": "00c3521c",
   "metadata": {},
   "source": [
    "Multi-Level Inheritance:-"
   ]
  },
  {
   "cell_type": "code",
   "execution_count": 85,
   "id": "d97b3ee6",
   "metadata": {},
   "outputs": [],
   "source": [
    "class Parent:\n",
    "    \n",
    "    def get_name(self,name):\n",
    "        self.name=name\n",
    "    def show_name(self):\n",
    "        return self.name"
   ]
  },
  {
   "cell_type": "code",
   "execution_count": 86,
   "id": "3dbeea27",
   "metadata": {},
   "outputs": [],
   "source": [
    "class Child(Parent):\n",
    "    \n",
    "    def get_age(self,age):\n",
    "        self.age=age\n",
    "    def show_age(self):\n",
    "        return self.age"
   ]
  },
  {
   "cell_type": "code",
   "execution_count": 87,
   "id": "168b8dbf",
   "metadata": {},
   "outputs": [],
   "source": [
    "class Grandchild(Child):\n",
    "    \n",
    "    def get_gender(self,gender):\n",
    "        self.gender=gender\n",
    "    def show_gender(self):\n",
    "        return self.gender"
   ]
  },
  {
   "cell_type": "code",
   "execution_count": 88,
   "id": "653bc05d",
   "metadata": {},
   "outputs": [],
   "source": [
    "gc=Grandchild()"
   ]
  },
  {
   "cell_type": "code",
   "execution_count": 89,
   "id": "7e11b982",
   "metadata": {},
   "outputs": [],
   "source": [
    "gc.get_name('AVINASH')"
   ]
  },
  {
   "cell_type": "code",
   "execution_count": 90,
   "id": "19cbe716",
   "metadata": {},
   "outputs": [],
   "source": [
    "gc.get_age(21)"
   ]
  },
  {
   "cell_type": "code",
   "execution_count": 91,
   "id": "10fa242e",
   "metadata": {},
   "outputs": [],
   "source": [
    "gc.get_gender('Male')"
   ]
  },
  {
   "cell_type": "code",
   "execution_count": 92,
   "id": "4a605c0e",
   "metadata": {},
   "outputs": [
    {
     "data": {
      "text/plain": [
       "'AVINASH'"
      ]
     },
     "execution_count": 92,
     "metadata": {},
     "output_type": "execute_result"
    }
   ],
   "source": [
    "gc.show_name()"
   ]
  },
  {
   "cell_type": "code",
   "execution_count": 93,
   "id": "303e95e2",
   "metadata": {},
   "outputs": [
    {
     "data": {
      "text/plain": [
       "21"
      ]
     },
     "execution_count": 93,
     "metadata": {},
     "output_type": "execute_result"
    }
   ],
   "source": [
    "gc.show_age()"
   ]
  },
  {
   "cell_type": "code",
   "execution_count": 94,
   "id": "c2413472",
   "metadata": {},
   "outputs": [
    {
     "data": {
      "text/plain": [
       "'Male'"
      ]
     },
     "execution_count": 94,
     "metadata": {},
     "output_type": "execute_result"
    }
   ],
   "source": [
    "gc.show_gender()"
   ]
  },
  {
   "cell_type": "code",
   "execution_count": null,
   "id": "a497f0ee",
   "metadata": {},
   "outputs": [],
   "source": []
  }
 ],
 "metadata": {
  "kernelspec": {
   "display_name": "Python 3",
   "language": "python",
   "name": "python3"
  },
  "language_info": {
   "codemirror_mode": {
    "name": "ipython",
    "version": 3
   },
   "file_extension": ".py",
   "mimetype": "text/x-python",
   "name": "python",
   "nbconvert_exporter": "python",
   "pygments_lexer": "ipython3",
   "version": "3.8.8"
  }
 },
 "nbformat": 4,
 "nbformat_minor": 5
}

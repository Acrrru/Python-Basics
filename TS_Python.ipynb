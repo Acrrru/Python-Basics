{
 "cells": [
  {
   "cell_type": "markdown",
   "id": "1c4a156d",
   "metadata": {},
   "source": [
    "String Functions in Python"
   ]
  },
  {
   "cell_type": "code",
   "execution_count": 1,
   "id": "091f8f7a",
   "metadata": {},
   "outputs": [
    {
     "data": {
      "text/plain": [
       "'machine'"
      ]
     },
     "execution_count": 1,
     "metadata": {},
     "output_type": "execute_result"
    }
   ],
   "source": [
    "word1=\"machine\"\n",
    "word1"
   ]
  },
  {
   "cell_type": "code",
   "execution_count": 10,
   "id": "c57d990d",
   "metadata": {},
   "outputs": [
    {
     "data": {
      "text/plain": [
       "'Computer'"
      ]
     },
     "execution_count": 10,
     "metadata": {},
     "output_type": "execute_result"
    }
   ],
   "source": [
    "word2=\"Computer\"\n",
    "word2"
   ]
  },
  {
   "cell_type": "code",
   "execution_count": 11,
   "id": "2b18e1d3",
   "metadata": {},
   "outputs": [
    {
     "data": {
      "text/plain": [
       "'MACHINE'"
      ]
     },
     "execution_count": 11,
     "metadata": {},
     "output_type": "execute_result"
    }
   ],
   "source": [
    "word1.upper()"
   ]
  },
  {
   "cell_type": "code",
   "execution_count": 12,
   "id": "2a825a5f",
   "metadata": {},
   "outputs": [
    {
     "data": {
      "text/plain": [
       "'COMPUTER'"
      ]
     },
     "execution_count": 12,
     "metadata": {},
     "output_type": "execute_result"
    }
   ],
   "source": [
    "word2.upper()"
   ]
  },
  {
   "cell_type": "code",
   "execution_count": 13,
   "id": "5ccdbc3f",
   "metadata": {},
   "outputs": [
    {
     "data": {
      "text/plain": [
       "'machine'"
      ]
     },
     "execution_count": 13,
     "metadata": {},
     "output_type": "execute_result"
    }
   ],
   "source": [
    "word1.lower()"
   ]
  },
  {
   "cell_type": "code",
   "execution_count": 14,
   "id": "be3221d0",
   "metadata": {},
   "outputs": [
    {
     "data": {
      "text/plain": [
       "'computer'"
      ]
     },
     "execution_count": 14,
     "metadata": {},
     "output_type": "execute_result"
    }
   ],
   "source": [
    "word2.lower()"
   ]
  },
  {
   "cell_type": "code",
   "execution_count": 16,
   "id": "0551c70c",
   "metadata": {},
   "outputs": [
    {
     "data": {
      "text/plain": [
       "'DATA SCIENCE'"
      ]
     },
     "execution_count": 16,
     "metadata": {},
     "output_type": "execute_result"
    }
   ],
   "source": [
    "a=\"DATA SCIENCE\"\n",
    "a"
   ]
  },
  {
   "cell_type": "code",
   "execution_count": 17,
   "id": "baf0566e",
   "metadata": {},
   "outputs": [
    {
     "data": {
      "text/plain": [
       "'data science'"
      ]
     },
     "execution_count": 17,
     "metadata": {},
     "output_type": "execute_result"
    }
   ],
   "source": [
    "a.lower()"
   ]
  },
  {
   "cell_type": "code",
   "execution_count": 18,
   "id": "12962b65",
   "metadata": {},
   "outputs": [
    {
     "data": {
      "text/plain": [
       "'ARTIFICIAL'"
      ]
     },
     "execution_count": 18,
     "metadata": {},
     "output_type": "execute_result"
    }
   ],
   "source": [
    "b='ARTIFICIAL'\n",
    "b"
   ]
  },
  {
   "cell_type": "code",
   "execution_count": 19,
   "id": "7ab8fd26",
   "metadata": {},
   "outputs": [
    {
     "data": {
      "text/plain": [
       "'artificial'"
      ]
     },
     "execution_count": 19,
     "metadata": {},
     "output_type": "execute_result"
    }
   ],
   "source": [
    "b.lower()"
   ]
  },
  {
   "cell_type": "code",
   "execution_count": 20,
   "id": "35e2f5b3",
   "metadata": {},
   "outputs": [
    {
     "data": {
      "text/plain": [
       "'InTelligenCE'"
      ]
     },
     "execution_count": 20,
     "metadata": {},
     "output_type": "execute_result"
    }
   ],
   "source": [
    "p=\"InTelligenCE\"\n",
    "p"
   ]
  },
  {
   "cell_type": "code",
   "execution_count": 26,
   "id": "259acf7d",
   "metadata": {},
   "outputs": [
    {
     "data": {
      "text/plain": [
       "'iNtELLIGENce'"
      ]
     },
     "execution_count": 26,
     "metadata": {},
     "output_type": "execute_result"
    }
   ],
   "source": [
    "p.swapcase()"
   ]
  },
  {
   "cell_type": "code",
   "execution_count": 22,
   "id": "db526604",
   "metadata": {},
   "outputs": [
    {
     "data": {
      "text/plain": [
       "'Data Science'"
      ]
     },
     "execution_count": 22,
     "metadata": {},
     "output_type": "execute_result"
    }
   ],
   "source": [
    "p1=\"Data Science\"\n",
    "p1"
   ]
  },
  {
   "cell_type": "code",
   "execution_count": 23,
   "id": "91f26a89",
   "metadata": {},
   "outputs": [
    {
     "data": {
      "text/plain": [
       "'dATA sCIENCE'"
      ]
     },
     "execution_count": 23,
     "metadata": {},
     "output_type": "execute_result"
    }
   ],
   "source": [
    "p1.swapcase()"
   ]
  },
  {
   "cell_type": "code",
   "execution_count": 24,
   "id": "c90011a8",
   "metadata": {},
   "outputs": [
    {
     "data": {
      "text/plain": [
       "'tesla'"
      ]
     },
     "execution_count": 24,
     "metadata": {},
     "output_type": "execute_result"
    }
   ],
   "source": [
    "d=\"tesla\"\n",
    "d"
   ]
  },
  {
   "cell_type": "code",
   "execution_count": 25,
   "id": "75204fd4",
   "metadata": {},
   "outputs": [
    {
     "data": {
      "text/plain": [
       "'Tesla'"
      ]
     },
     "execution_count": 25,
     "metadata": {},
     "output_type": "execute_result"
    }
   ],
   "source": [
    "d.capitalize()"
   ]
  },
  {
   "cell_type": "code",
   "execution_count": 27,
   "id": "15a474da",
   "metadata": {},
   "outputs": [
    {
     "data": {
      "text/plain": [
       "'elon musk soon holds twitter'"
      ]
     },
     "execution_count": 27,
     "metadata": {},
     "output_type": "execute_result"
    }
   ],
   "source": [
    "d1=\"elon musk soon holds twitter\"\n",
    "d1"
   ]
  },
  {
   "cell_type": "code",
   "execution_count": 28,
   "id": "283eae3e",
   "metadata": {},
   "outputs": [
    {
     "data": {
      "text/plain": [
       "'Elon musk soon holds twitter'"
      ]
     },
     "execution_count": 28,
     "metadata": {},
     "output_type": "execute_result"
    }
   ],
   "source": [
    "d1.capitalize()"
   ]
  },
  {
   "cell_type": "code",
   "execution_count": 29,
   "id": "33e018e9",
   "metadata": {},
   "outputs": [
    {
     "data": {
      "text/plain": [
       "'Elon Musk Soon Holds Twitter'"
      ]
     },
     "execution_count": 29,
     "metadata": {},
     "output_type": "execute_result"
    }
   ],
   "source": [
    "d1.title()"
   ]
  },
  {
   "cell_type": "code",
   "execution_count": 30,
   "id": "a1c766cf",
   "metadata": {},
   "outputs": [
    {
     "data": {
      "text/plain": [
       "['elon', 'musk', 'soon', 'holds', 'twitter']"
      ]
     },
     "execution_count": 30,
     "metadata": {},
     "output_type": "execute_result"
    }
   ],
   "source": [
    "d1.split()"
   ]
  },
  {
   "cell_type": "code",
   "execution_count": 32,
   "id": "cdbbfd6d",
   "metadata": {},
   "outputs": [
    {
     "data": {
      "text/plain": [
       "False"
      ]
     },
     "execution_count": 32,
     "metadata": {},
     "output_type": "execute_result"
    }
   ],
   "source": [
    "word1.isupper()"
   ]
  },
  {
   "cell_type": "code",
   "execution_count": 33,
   "id": "e3c51299",
   "metadata": {},
   "outputs": [
    {
     "data": {
      "text/plain": [
       "True"
      ]
     },
     "execution_count": 33,
     "metadata": {},
     "output_type": "execute_result"
    }
   ],
   "source": [
    "word1.islower()"
   ]
  },
  {
   "cell_type": "code",
   "execution_count": 34,
   "id": "2a13ddc9",
   "metadata": {},
   "outputs": [
    {
     "data": {
      "text/plain": [
       "True"
      ]
     },
     "execution_count": 34,
     "metadata": {},
     "output_type": "execute_result"
    }
   ],
   "source": [
    "a.isupper()"
   ]
  },
  {
   "cell_type": "code",
   "execution_count": 35,
   "id": "99c6c5c0",
   "metadata": {},
   "outputs": [
    {
     "data": {
      "text/plain": [
       "False"
      ]
     },
     "execution_count": 35,
     "metadata": {},
     "output_type": "execute_result"
    }
   ],
   "source": [
    "a.islower()"
   ]
  },
  {
   "cell_type": "code",
   "execution_count": 36,
   "id": "a88cc5f0",
   "metadata": {},
   "outputs": [
    {
     "data": {
      "text/plain": [
       "True"
      ]
     },
     "execution_count": 36,
     "metadata": {},
     "output_type": "execute_result"
    }
   ],
   "source": [
    "d.isalpha()"
   ]
  },
  {
   "cell_type": "code",
   "execution_count": 37,
   "id": "3000e782",
   "metadata": {},
   "outputs": [
    {
     "data": {
      "text/plain": [
       "'Apple123'"
      ]
     },
     "execution_count": 37,
     "metadata": {},
     "output_type": "execute_result"
    }
   ],
   "source": [
    "b1=\"Apple123\"\n",
    "b1"
   ]
  },
  {
   "cell_type": "code",
   "execution_count": 38,
   "id": "4c569272",
   "metadata": {},
   "outputs": [
    {
     "data": {
      "text/plain": [
       "True"
      ]
     },
     "execution_count": 38,
     "metadata": {},
     "output_type": "execute_result"
    }
   ],
   "source": [
    "b1.isalnum()"
   ]
  },
  {
   "cell_type": "code",
   "execution_count": 40,
   "id": "325095aa",
   "metadata": {},
   "outputs": [],
   "source": [
    "c1=\"78654\""
   ]
  },
  {
   "cell_type": "code",
   "execution_count": 41,
   "id": "ef2ec200",
   "metadata": {},
   "outputs": [
    {
     "data": {
      "text/plain": [
       "'78654'"
      ]
     },
     "execution_count": 41,
     "metadata": {},
     "output_type": "execute_result"
    }
   ],
   "source": [
    "c1"
   ]
  },
  {
   "cell_type": "code",
   "execution_count": 42,
   "id": "aa0cbd7f",
   "metadata": {},
   "outputs": [
    {
     "data": {
      "text/plain": [
       "False"
      ]
     },
     "execution_count": 42,
     "metadata": {},
     "output_type": "execute_result"
    }
   ],
   "source": [
    "c1.isalpha()"
   ]
  },
  {
   "cell_type": "code",
   "execution_count": 51,
   "id": "29ff4434",
   "metadata": {},
   "outputs": [
    {
     "data": {
      "text/plain": [
       "True"
      ]
     },
     "execution_count": 51,
     "metadata": {},
     "output_type": "execute_result"
    }
   ],
   "source": [
    "c1.isdigit()"
   ]
  },
  {
   "cell_type": "code",
   "execution_count": 44,
   "id": "6888cc50",
   "metadata": {},
   "outputs": [
    {
     "data": {
      "text/plain": [
       "True"
      ]
     },
     "execution_count": 44,
     "metadata": {},
     "output_type": "execute_result"
    }
   ],
   "source": [
    "c1.isalnum()"
   ]
  },
  {
   "cell_type": "code",
   "execution_count": 45,
   "id": "fca85186",
   "metadata": {},
   "outputs": [
    {
     "data": {
      "text/plain": [
       "'elon musk soon holds twitter'"
      ]
     },
     "execution_count": 45,
     "metadata": {},
     "output_type": "execute_result"
    }
   ],
   "source": [
    "d1"
   ]
  },
  {
   "cell_type": "code",
   "execution_count": 49,
   "id": "2b5ecff7",
   "metadata": {},
   "outputs": [
    {
     "data": {
      "text/plain": [
       "True"
      ]
     },
     "execution_count": 49,
     "metadata": {},
     "output_type": "execute_result"
    }
   ],
   "source": [
    "d1.startswith(\"elon\")"
   ]
  },
  {
   "cell_type": "code",
   "execution_count": 47,
   "id": "8e39cd49",
   "metadata": {},
   "outputs": [
    {
     "data": {
      "text/plain": [
       "True"
      ]
     },
     "execution_count": 47,
     "metadata": {},
     "output_type": "execute_result"
    }
   ],
   "source": [
    "d1.endswith(\"twitter\")"
   ]
  },
  {
   "cell_type": "code",
   "execution_count": 59,
   "id": "24257420",
   "metadata": {},
   "outputs": [
    {
     "data": {
      "text/plain": [
       "'Elon Musk Launched AI Car Tesla'"
      ]
     },
     "execution_count": 59,
     "metadata": {},
     "output_type": "execute_result"
    }
   ],
   "source": [
    "word='Elon Musk Launched AI Car Tesla'\n",
    "word"
   ]
  },
  {
   "cell_type": "code",
   "execution_count": 60,
   "id": "a7559087",
   "metadata": {},
   "outputs": [
    {
     "data": {
      "text/plain": [
       "31"
      ]
     },
     "execution_count": 60,
     "metadata": {},
     "output_type": "execute_result"
    }
   ],
   "source": [
    "len(word)"
   ]
  },
  {
   "cell_type": "code",
   "execution_count": 61,
   "id": "172ff5b6",
   "metadata": {},
   "outputs": [
    {
     "data": {
      "text/plain": [
       "22"
      ]
     },
     "execution_count": 61,
     "metadata": {},
     "output_type": "execute_result"
    }
   ],
   "source": [
    "word.find(\"Car\")"
   ]
  },
  {
   "cell_type": "code",
   "execution_count": 63,
   "id": "510345f6",
   "metadata": {},
   "outputs": [
    {
     "data": {
      "text/plain": [
       "5"
      ]
     },
     "execution_count": 63,
     "metadata": {},
     "output_type": "execute_result"
    }
   ],
   "source": [
    "word.find(\"Musk\")"
   ]
  },
  {
   "cell_type": "code",
   "execution_count": 65,
   "id": "e4e82bfc",
   "metadata": {},
   "outputs": [
    {
     "data": {
      "text/plain": [
       "19"
      ]
     },
     "execution_count": 65,
     "metadata": {},
     "output_type": "execute_result"
    }
   ],
   "source": [
    "word.find(\"AI\",16,30)"
   ]
  },
  {
   "cell_type": "code",
   "execution_count": 66,
   "id": "f87a500f",
   "metadata": {},
   "outputs": [
    {
     "data": {
      "text/plain": [
       "2"
      ]
     },
     "execution_count": 66,
     "metadata": {},
     "output_type": "execute_result"
    }
   ],
   "source": [
    "word.count('s')"
   ]
  },
  {
   "cell_type": "code",
   "execution_count": 67,
   "id": "fa8fec64",
   "metadata": {},
   "outputs": [
    {
     "data": {
      "text/plain": [
       "'Python is a popular programming language'"
      ]
     },
     "execution_count": 67,
     "metadata": {},
     "output_type": "execute_result"
    }
   ],
   "source": [
    "message=\"Python is a popular programming language\"\n",
    "message"
   ]
  },
  {
   "cell_type": "code",
   "execution_count": 68,
   "id": "e9245fcb",
   "metadata": {},
   "outputs": [
    {
     "data": {
      "text/plain": [
       "3"
      ]
     },
     "execution_count": 68,
     "metadata": {},
     "output_type": "execute_result"
    }
   ],
   "source": [
    "message.count('p')"
   ]
  },
  {
   "cell_type": "code",
   "execution_count": 69,
   "id": "0b73e159",
   "metadata": {},
   "outputs": [
    {
     "data": {
      "text/plain": [
       "4"
      ]
     },
     "execution_count": 69,
     "metadata": {},
     "output_type": "execute_result"
    }
   ],
   "source": [
    "message.count('g')"
   ]
  },
  {
   "cell_type": "code",
   "execution_count": 70,
   "id": "4eb624c3",
   "metadata": {},
   "outputs": [
    {
     "data": {
      "text/plain": [
       "2"
      ]
     },
     "execution_count": 70,
     "metadata": {},
     "output_type": "execute_result"
    }
   ],
   "source": [
    "message.count('m')"
   ]
  },
  {
   "cell_type": "code",
   "execution_count": 71,
   "id": "d2114076",
   "metadata": {},
   "outputs": [
    {
     "data": {
      "text/plain": [
       "'NASA is building hotel project in Mars'"
      ]
     },
     "execution_count": 71,
     "metadata": {},
     "output_type": "execute_result"
    }
   ],
   "source": [
    "word3=\"NASA is building hotel project in Mars\"\n",
    "word3"
   ]
  },
  {
   "cell_type": "code",
   "execution_count": 73,
   "id": "8a6e2db9",
   "metadata": {},
   "outputs": [
    {
     "data": {
      "text/plain": [
       "'SPACEX is building hotel project in Mars'"
      ]
     },
     "execution_count": 73,
     "metadata": {},
     "output_type": "execute_result"
    }
   ],
   "source": [
    "word3.replace(\"NASA\",\"SPACEX\")"
   ]
  },
  {
   "cell_type": "code",
   "execution_count": 74,
   "id": "3dde6562",
   "metadata": {},
   "outputs": [
    {
     "data": {
      "text/plain": [
       "'data science is a growing field based on data'"
      ]
     },
     "execution_count": 74,
     "metadata": {},
     "output_type": "execute_result"
    }
   ],
   "source": [
    "p=\"data science is a growing field based on data\"\n",
    "p"
   ]
  },
  {
   "cell_type": "code",
   "execution_count": 75,
   "id": "95d7d08a",
   "metadata": {},
   "outputs": [
    {
     "data": {
      "text/plain": [
       "'analytics science is a growing field based on analytics'"
      ]
     },
     "execution_count": 75,
     "metadata": {},
     "output_type": "execute_result"
    }
   ],
   "source": [
    "p.replace(\"data\",\"analytics\")"
   ]
  },
  {
   "cell_type": "code",
   "execution_count": 76,
   "id": "fec13ec0",
   "metadata": {},
   "outputs": [
    {
     "data": {
      "text/plain": [
       "'python# is popular programming# language'"
      ]
     },
     "execution_count": 76,
     "metadata": {},
     "output_type": "execute_result"
    }
   ],
   "source": [
    "message1=\"python# is popular programming# language\"\n",
    "message1"
   ]
  },
  {
   "cell_type": "code",
   "execution_count": 77,
   "id": "cdb8432d",
   "metadata": {},
   "outputs": [
    {
     "data": {
      "text/plain": [
       "4"
      ]
     },
     "execution_count": 77,
     "metadata": {},
     "output_type": "execute_result"
    }
   ],
   "source": [
    "message1.count('p')"
   ]
  },
  {
   "cell_type": "code",
   "execution_count": 78,
   "id": "e3f109af",
   "metadata": {},
   "outputs": [
    {
     "data": {
      "text/plain": [
       "4"
      ]
     },
     "execution_count": 78,
     "metadata": {},
     "output_type": "execute_result"
    }
   ],
   "source": [
    "message1.count('g')"
   ]
  },
  {
   "cell_type": "code",
   "execution_count": 79,
   "id": "5f08049c",
   "metadata": {},
   "outputs": [
    {
     "data": {
      "text/plain": [
       "2"
      ]
     },
     "execution_count": 79,
     "metadata": {},
     "output_type": "execute_result"
    }
   ],
   "source": [
    "message1.count('m')"
   ]
  },
  {
   "cell_type": "code",
   "execution_count": 80,
   "id": "796f2b6a",
   "metadata": {},
   "outputs": [
    {
     "data": {
      "text/plain": [
       "2"
      ]
     },
     "execution_count": 80,
     "metadata": {},
     "output_type": "execute_result"
    }
   ],
   "source": [
    "message1.count('#')"
   ]
  },
  {
   "cell_type": "markdown",
   "id": "a7c1d0ba",
   "metadata": {},
   "source": [
    "Join in Python"
   ]
  },
  {
   "cell_type": "code",
   "execution_count": 81,
   "id": "62975a55",
   "metadata": {},
   "outputs": [
    {
     "data": {
      "text/plain": [
       "['NASA', 'is', 'building', 'hotel', 'project', 'in', 'Mars']"
      ]
     },
     "execution_count": 81,
     "metadata": {},
     "output_type": "execute_result"
    }
   ],
   "source": [
    "textA=['NASA','is','building','hotel','project','in','Mars']\n",
    "textA"
   ]
  },
  {
   "cell_type": "code",
   "execution_count": null,
   "id": "b1f523de",
   "metadata": {},
   "outputs": [],
   "source": [
    "# Join elements of textA without space"
   ]
  },
  {
   "cell_type": "code",
   "execution_count": 82,
   "id": "0d16012e",
   "metadata": {},
   "outputs": [
    {
     "data": {
      "text/plain": [
       "'NASAisbuildinghotelprojectinMars'"
      ]
     },
     "execution_count": 82,
     "metadata": {},
     "output_type": "execute_result"
    }
   ],
   "source": [
    "''.join(textA)"
   ]
  },
  {
   "cell_type": "code",
   "execution_count": null,
   "id": "837074fa",
   "metadata": {},
   "outputs": [],
   "source": [
    "# Join elements of textA with space"
   ]
  },
  {
   "cell_type": "code",
   "execution_count": 83,
   "id": "70dcb270",
   "metadata": {},
   "outputs": [
    {
     "data": {
      "text/plain": [
       "'NASA is building hotel project in Mars'"
      ]
     },
     "execution_count": 83,
     "metadata": {},
     "output_type": "execute_result"
    }
   ],
   "source": [
    "' '.join(textA)"
   ]
  },
  {
   "cell_type": "code",
   "execution_count": 84,
   "id": "7c2e43c9",
   "metadata": {},
   "outputs": [
    {
     "data": {
      "text/plain": [
       "'NASA is building hotel project in Mars'"
      ]
     },
     "execution_count": 84,
     "metadata": {},
     "output_type": "execute_result"
    }
   ],
   "source": [
    "\" \".join(textA)"
   ]
  },
  {
   "cell_type": "code",
   "execution_count": null,
   "id": "8a068c14",
   "metadata": {},
   "outputs": [],
   "source": [
    "# Casefold ignores the matching of words by lowercase or uppercase"
   ]
  },
  {
   "cell_type": "code",
   "execution_count": 85,
   "id": "072771bf",
   "metadata": {},
   "outputs": [
    {
     "name": "stdout",
     "output_type": "stream",
     "text": [
      "the two strings are matching\n"
     ]
    }
   ],
   "source": [
    "string1=\"Tesla\"\n",
    "string2=\"tesla\"\n",
    "\n",
    "if string1.casefold()==string2.casefold():\n",
    "    print(\"the two strings are matching\")\n",
    "else:\n",
    "    print(\"the two strings are not matching\")"
   ]
  },
  {
   "cell_type": "markdown",
   "id": "e0a3c67c",
   "metadata": {},
   "source": [
    "C-Style Formats"
   ]
  },
  {
   "cell_type": "code",
   "execution_count": 86,
   "id": "e74510ca",
   "metadata": {},
   "outputs": [
    {
     "name": "stdout",
     "output_type": "stream",
     "text": [
      "Hello,John!\n"
     ]
    }
   ],
   "source": [
    "name=\"John\"\n",
    "print(\"Hello,%s!\" %name)"
   ]
  },
  {
   "cell_type": "code",
   "execution_count": 89,
   "id": "2bce9f51",
   "metadata": {},
   "outputs": [
    {
     "name": "stdout",
     "output_type": "stream",
     "text": [
      "Hi,Rahul!\n"
     ]
    }
   ],
   "source": [
    "name=\"Rahul\"\n",
    "print(\"Hi,%s!\" %(name))"
   ]
  },
  {
   "cell_type": "code",
   "execution_count": 90,
   "id": "aa747142",
   "metadata": {},
   "outputs": [
    {
     "name": "stdout",
     "output_type": "stream",
     "text": [
      "Hello Rahul !\n"
     ]
    }
   ],
   "source": [
    "print(\"Hello\",name,\"!\")"
   ]
  },
  {
   "cell_type": "code",
   "execution_count": 91,
   "id": "74030ece",
   "metadata": {},
   "outputs": [
    {
     "name": "stdout",
     "output_type": "stream",
     "text": [
      "John is 23 years old taking salary 6889.564000\n",
      "Salary=6889.56\n"
     ]
    }
   ],
   "source": [
    "name=\"John\"\n",
    "age=23\n",
    "salary=6889.564\n",
    "\n",
    "print(\"%s is %d years old taking salary %f\" %(name,age,salary))\n",
    "print(\"Salary=%0.2f\" %(salary))"
   ]
  },
  {
   "cell_type": "code",
   "execution_count": 92,
   "id": "86b1a316",
   "metadata": {},
   "outputs": [
    {
     "name": "stdout",
     "output_type": "stream",
     "text": [
      "I like to eat Apples, Mango and Grapes\n"
     ]
    }
   ],
   "source": [
    "fruit1=\"Apples\"\n",
    "fruit2=\"Mango\"\n",
    "fruit3=\"Grapes\"\n",
    "\n",
    "print(\"I like to eat %s, %s and %s\" %(fruit1,fruit2,fruit3))"
   ]
  },
  {
   "cell_type": "markdown",
   "id": "f09f1e8d",
   "metadata": {},
   "source": [
    "String.format functions"
   ]
  },
  {
   "cell_type": "code",
   "execution_count": 93,
   "id": "446b34c3",
   "metadata": {},
   "outputs": [
    {
     "name": "stdout",
     "output_type": "stream",
     "text": [
      "People generally take Coke with Pizza\n"
     ]
    }
   ],
   "source": [
    "print(\"People generally take {} with {}\".format('Coke','Pizza'))"
   ]
  },
  {
   "cell_type": "code",
   "execution_count": 94,
   "id": "f50937de",
   "metadata": {},
   "outputs": [
    {
     "name": "stdout",
     "output_type": "stream",
     "text": [
      "People generally take  Coke with Pizza\n"
     ]
    }
   ],
   "source": [
    "print(\"People generally take  {0} with {1}\".format('Coke','Pizza'))"
   ]
  },
  {
   "cell_type": "code",
   "execution_count": 95,
   "id": "f1ba21af",
   "metadata": {},
   "outputs": [
    {
     "name": "stdout",
     "output_type": "stream",
     "text": [
      "People generally take Pizza with Coke\n"
     ]
    }
   ],
   "source": [
    "print(\"People generally take {1} with {0}\".format('Coke','Pizza'))"
   ]
  },
  {
   "cell_type": "markdown",
   "id": "1b186dd2",
   "metadata": {},
   "source": [
    "List Comprehensions"
   ]
  },
  {
   "cell_type": "code",
   "execution_count": 96,
   "id": "a5ef31c6",
   "metadata": {},
   "outputs": [
    {
     "data": {
      "text/plain": [
       "[11, 12, 13, 14, 15]"
      ]
     },
     "execution_count": 96,
     "metadata": {},
     "output_type": "execute_result"
    }
   ],
   "source": [
    "p=[i for i in [11,12,13,14,15]]\n",
    "p"
   ]
  },
  {
   "cell_type": "code",
   "execution_count": 97,
   "id": "d292cc7d",
   "metadata": {},
   "outputs": [
    {
     "data": {
      "text/plain": [
       "[0, 1, 2, 3, 4, 5, 6, 7, 8, 9]"
      ]
     },
     "execution_count": 97,
     "metadata": {},
     "output_type": "execute_result"
    }
   ],
   "source": [
    "k=[i for i in range(0,10)]\n",
    "k"
   ]
  },
  {
   "cell_type": "code",
   "execution_count": 98,
   "id": "c8d2b914",
   "metadata": {},
   "outputs": [
    {
     "data": {
      "text/plain": [
       "[0, 2, 4, 6, 8]"
      ]
     },
     "execution_count": 98,
     "metadata": {},
     "output_type": "execute_result"
    }
   ],
   "source": [
    "q=[i for i in range(0,10,2)]\n",
    "q"
   ]
  },
  {
   "cell_type": "code",
   "execution_count": 99,
   "id": "e6513076",
   "metadata": {},
   "outputs": [
    {
     "data": {
      "text/plain": [
       "[0, 2, 4, 6, 8]"
      ]
     },
     "execution_count": 99,
     "metadata": {},
     "output_type": "execute_result"
    }
   ],
   "source": [
    "j=[i for i in range(0,10) if i%2==0]\n",
    "j"
   ]
  },
  {
   "cell_type": "code",
   "execution_count": 100,
   "id": "b700fa4a",
   "metadata": {},
   "outputs": [
    {
     "data": {
      "text/plain": [
       "[1, 3, 5, 7, 9]"
      ]
     },
     "execution_count": 100,
     "metadata": {},
     "output_type": "execute_result"
    }
   ],
   "source": [
    "r=[i for i in range(0,10) if i%2==1]\n",
    "r"
   ]
  },
  {
   "cell_type": "code",
   "execution_count": null,
   "id": "bf4ab37b",
   "metadata": {},
   "outputs": [],
   "source": []
  }
 ],
 "metadata": {
  "kernelspec": {
   "display_name": "Python 3",
   "language": "python",
   "name": "python3"
  },
  "language_info": {
   "codemirror_mode": {
    "name": "ipython",
    "version": 3
   },
   "file_extension": ".py",
   "mimetype": "text/x-python",
   "name": "python",
   "nbconvert_exporter": "python",
   "pygments_lexer": "ipython3",
   "version": "3.8.8"
  }
 },
 "nbformat": 4,
 "nbformat_minor": 5
}

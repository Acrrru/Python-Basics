{
 "cells": [
  {
   "cell_type": "markdown",
   "id": "87ab3e1b",
   "metadata": {},
   "source": [
    "Functions"
   ]
  },
  {
   "cell_type": "code",
   "execution_count": 1,
   "id": "987d3fda",
   "metadata": {},
   "outputs": [],
   "source": [
    "def myfunc(list1):\n",
    "    for i in list1:\n",
    "        print(i)"
   ]
  },
  {
   "cell_type": "code",
   "execution_count": 2,
   "id": "f0c20462",
   "metadata": {},
   "outputs": [
    {
     "name": "stdout",
     "output_type": "stream",
     "text": [
      "45\n",
      "67\n",
      "89\n",
      "33\n"
     ]
    }
   ],
   "source": [
    "list1=[45,67,89,33]\n",
    "\n",
    "myfunc(list1)"
   ]
  },
  {
   "cell_type": "code",
   "execution_count": 3,
   "id": "7bd7b103",
   "metadata": {},
   "outputs": [],
   "source": [
    "def myfunc2(fruitlist):\n",
    "    for i in fruitlist:\n",
    "        print(i)"
   ]
  },
  {
   "cell_type": "code",
   "execution_count": 5,
   "id": "33acb8fc",
   "metadata": {},
   "outputs": [
    {
     "name": "stdout",
     "output_type": "stream",
     "text": [
      "Apple\n",
      "Mango\n",
      "Banana\n",
      "Grapes\n"
     ]
    }
   ],
   "source": [
    "fruitlist=['Apple','Mango','Banana','Grapes']\n",
    "\n",
    "myfunc2(fruitlist)"
   ]
  },
  {
   "cell_type": "code",
   "execution_count": 6,
   "id": "473ef555",
   "metadata": {},
   "outputs": [],
   "source": [
    "def myfunc3(planetlist):\n",
    "    for i in planetlist:\n",
    "        print(i)"
   ]
  },
  {
   "cell_type": "code",
   "execution_count": 7,
   "id": "b4be58f4",
   "metadata": {},
   "outputs": [
    {
     "name": "stdout",
     "output_type": "stream",
     "text": [
      "Mercury\n",
      "Venus\n",
      "Earth\n",
      "Mars\n",
      "Jupiter\n"
     ]
    }
   ],
   "source": [
    "planetlist=['Mercury','Venus','Earth','Mars','Jupiter']\n",
    "\n",
    "myfunc3(planetlist)"
   ]
  },
  {
   "cell_type": "code",
   "execution_count": 8,
   "id": "829168b8",
   "metadata": {},
   "outputs": [],
   "source": [
    "def myfunc4():\n",
    "    for i in range(10):\n",
    "        print(i)"
   ]
  },
  {
   "cell_type": "code",
   "execution_count": 9,
   "id": "5f9b4067",
   "metadata": {},
   "outputs": [
    {
     "name": "stdout",
     "output_type": "stream",
     "text": [
      "0\n",
      "1\n",
      "2\n",
      "3\n",
      "4\n",
      "5\n",
      "6\n",
      "7\n",
      "8\n",
      "9\n"
     ]
    }
   ],
   "source": [
    "myfunc4()"
   ]
  },
  {
   "cell_type": "code",
   "execution_count": 10,
   "id": "063fe0e1",
   "metadata": {},
   "outputs": [],
   "source": [
    "def myfunc5():\n",
    "    for i in range(2,21):\n",
    "        print(i)"
   ]
  },
  {
   "cell_type": "code",
   "execution_count": 11,
   "id": "bdb06fa6",
   "metadata": {},
   "outputs": [
    {
     "name": "stdout",
     "output_type": "stream",
     "text": [
      "2\n",
      "3\n",
      "4\n",
      "5\n",
      "6\n",
      "7\n",
      "8\n",
      "9\n",
      "10\n",
      "11\n",
      "12\n",
      "13\n",
      "14\n",
      "15\n",
      "16\n",
      "17\n",
      "18\n",
      "19\n",
      "20\n"
     ]
    }
   ],
   "source": [
    "myfunc5()"
   ]
  },
  {
   "cell_type": "code",
   "execution_count": 12,
   "id": "fd9567eb",
   "metadata": {},
   "outputs": [],
   "source": [
    "def myfunc6():\n",
    "    for i in range(2,21,2):\n",
    "        print(i)"
   ]
  },
  {
   "cell_type": "code",
   "execution_count": 13,
   "id": "9b1440d8",
   "metadata": {},
   "outputs": [
    {
     "name": "stdout",
     "output_type": "stream",
     "text": [
      "2\n",
      "4\n",
      "6\n",
      "8\n",
      "10\n",
      "12\n",
      "14\n",
      "16\n",
      "18\n",
      "20\n"
     ]
    }
   ],
   "source": [
    "myfunc6()"
   ]
  },
  {
   "cell_type": "code",
   "execution_count": 14,
   "id": "da3da2de",
   "metadata": {},
   "outputs": [],
   "source": [
    "def testfunc():\n",
    "    for i in range(10):\n",
    "        print(i)"
   ]
  },
  {
   "cell_type": "code",
   "execution_count": 15,
   "id": "1ecba2ff",
   "metadata": {},
   "outputs": [
    {
     "name": "stdout",
     "output_type": "stream",
     "text": [
      "0\n",
      "1\n",
      "2\n",
      "3\n",
      "4\n",
      "5\n",
      "6\n",
      "7\n",
      "8\n",
      "9\n"
     ]
    }
   ],
   "source": [
    "testfunc()"
   ]
  },
  {
   "cell_type": "code",
   "execution_count": 16,
   "id": "8a6189ad",
   "metadata": {},
   "outputs": [],
   "source": [
    "def testfunction():\n",
    "    for i in range(10):\n",
    "        if(i==5):\n",
    "            return\n",
    "        print(i)"
   ]
  },
  {
   "cell_type": "code",
   "execution_count": 18,
   "id": "990a82bf",
   "metadata": {},
   "outputs": [
    {
     "name": "stdout",
     "output_type": "stream",
     "text": [
      "0\n",
      "1\n",
      "2\n",
      "3\n",
      "4\n"
     ]
    }
   ],
   "source": [
    "testfunction()"
   ]
  },
  {
   "cell_type": "code",
   "execution_count": 19,
   "id": "d15df441",
   "metadata": {},
   "outputs": [],
   "source": [
    "def myadd():\n",
    "    a=100\n",
    "    b=70\n",
    "    c=a+b\n",
    "    return c"
   ]
  },
  {
   "cell_type": "code",
   "execution_count": 20,
   "id": "10f2f669",
   "metadata": {},
   "outputs": [
    {
     "data": {
      "text/plain": [
       "170"
      ]
     },
     "execution_count": 20,
     "metadata": {},
     "output_type": "execute_result"
    }
   ],
   "source": [
    "myadd()"
   ]
  },
  {
   "cell_type": "code",
   "execution_count": 21,
   "id": "09bc8610",
   "metadata": {},
   "outputs": [],
   "source": [
    "def innerfunction():\n",
    "    print(\"we are in inner function\")"
   ]
  },
  {
   "cell_type": "code",
   "execution_count": 22,
   "id": "6c69770d",
   "metadata": {},
   "outputs": [],
   "source": [
    "def outerfunction():\n",
    "    innerfunction()"
   ]
  },
  {
   "cell_type": "code",
   "execution_count": 23,
   "id": "deb457d4",
   "metadata": {},
   "outputs": [
    {
     "name": "stdout",
     "output_type": "stream",
     "text": [
      "we are in inner function\n"
     ]
    }
   ],
   "source": [
    "outerfunction()"
   ]
  },
  {
   "cell_type": "code",
   "execution_count": 24,
   "id": "318c3228",
   "metadata": {},
   "outputs": [],
   "source": [
    "def innerfunction():\n",
    "    print(\"we are in inner function\")"
   ]
  },
  {
   "cell_type": "code",
   "execution_count": 25,
   "id": "b26e3ff8",
   "metadata": {},
   "outputs": [],
   "source": [
    "def outerfunction():\n",
    "    innerfunction()\n",
    "    print(\"outerfunction\")"
   ]
  },
  {
   "cell_type": "code",
   "execution_count": 26,
   "id": "14d74e8d",
   "metadata": {},
   "outputs": [
    {
     "name": "stdout",
     "output_type": "stream",
     "text": [
      "we are in inner function\n",
      "outerfunction\n"
     ]
    }
   ],
   "source": [
    "outerfunction()"
   ]
  },
  {
   "cell_type": "code",
   "execution_count": 30,
   "id": "565f8afc",
   "metadata": {},
   "outputs": [
    {
     "name": "stdout",
     "output_type": "stream",
     "text": [
      "0\n",
      "1\n",
      "2\n",
      "3\n",
      "4\n",
      "5\n",
      "6\n",
      "7\n",
      "8\n",
      "9\n"
     ]
    }
   ],
   "source": [
    "for i in range(20):\n",
    "    if(i==10):\n",
    "        break\n",
    "    print(i)    "
   ]
  },
  {
   "cell_type": "code",
   "execution_count": 31,
   "id": "f2af7b23",
   "metadata": {},
   "outputs": [],
   "source": [
    "def squaref():\n",
    "    s=7*7\n",
    "    return s "
   ]
  },
  {
   "cell_type": "code",
   "execution_count": 32,
   "id": "a66ff9be",
   "metadata": {},
   "outputs": [
    {
     "data": {
      "text/plain": [
       "49"
      ]
     },
     "execution_count": 32,
     "metadata": {},
     "output_type": "execute_result"
    }
   ],
   "source": [
    "squaref()"
   ]
  },
  {
   "cell_type": "markdown",
   "id": "1226e6fd",
   "metadata": {},
   "source": [
    "Global and Local Variable"
   ]
  },
  {
   "cell_type": "code",
   "execution_count": 33,
   "id": "66781ef8",
   "metadata": {},
   "outputs": [
    {
     "data": {
      "text/plain": [
       "900"
      ]
     },
     "execution_count": 33,
     "metadata": {},
     "output_type": "execute_result"
    }
   ],
   "source": [
    "p=900\n",
    "p"
   ]
  },
  {
   "cell_type": "code",
   "execution_count": 34,
   "id": "81628465",
   "metadata": {},
   "outputs": [],
   "source": [
    "def testvar():\n",
    "    p=100\n",
    "    print(p)"
   ]
  },
  {
   "cell_type": "code",
   "execution_count": 35,
   "id": "f1b2675f",
   "metadata": {},
   "outputs": [
    {
     "name": "stdout",
     "output_type": "stream",
     "text": [
      "100\n"
     ]
    }
   ],
   "source": [
    "testvar()"
   ]
  },
  {
   "cell_type": "code",
   "execution_count": 36,
   "id": "901b8ef7",
   "metadata": {},
   "outputs": [],
   "source": [
    "def testvar():\n",
    "    global p\n",
    "    print(p)\n",
    "    p=78\n",
    "    print(p)"
   ]
  },
  {
   "cell_type": "code",
   "execution_count": 37,
   "id": "1f966590",
   "metadata": {},
   "outputs": [
    {
     "name": "stdout",
     "output_type": "stream",
     "text": [
      "900\n",
      "78\n"
     ]
    }
   ],
   "source": [
    "testvar()"
   ]
  },
  {
   "cell_type": "code",
   "execution_count": 38,
   "id": "19463d34",
   "metadata": {},
   "outputs": [],
   "source": [
    "def add1(a,b):\n",
    "    result=a+b\n",
    "    print(result)"
   ]
  },
  {
   "cell_type": "code",
   "execution_count": 39,
   "id": "6fc0f778",
   "metadata": {},
   "outputs": [
    {
     "name": "stdout",
     "output_type": "stream",
     "text": [
      "16\n"
     ]
    }
   ],
   "source": [
    "a=10\n",
    "b=6\n",
    "\n",
    "add1(a,b)"
   ]
  },
  {
   "cell_type": "code",
   "execution_count": 42,
   "id": "b5142dcb",
   "metadata": {},
   "outputs": [],
   "source": [
    "def add2(a,b,c):\n",
    "    result=a+b+c\n",
    "    print(result)"
   ]
  },
  {
   "cell_type": "code",
   "execution_count": 43,
   "id": "2a4d4e9d",
   "metadata": {},
   "outputs": [
    {
     "name": "stdout",
     "output_type": "stream",
     "text": [
      "189\n"
     ]
    }
   ],
   "source": [
    "add2(34,67,88)"
   ]
  },
  {
   "cell_type": "markdown",
   "id": "ae41970a",
   "metadata": {},
   "source": [
    "# Variable number of arguments"
   ]
  },
  {
   "cell_type": "markdown",
   "id": "e5ab50a4",
   "metadata": {},
   "source": [
    "> In cases where we don't know the exact number of arguments that we want to pass to a function, we can use the \n",
    "the following syntax with *args.\n",
    "\n",
    "> They work with aggregate funtions such as Sum, Min, Max etc......\n",
    "\n",
    "> [*] = Many number of arguments."
   ]
  },
  {
   "cell_type": "code",
   "execution_count": 1,
   "id": "5f09d8a4",
   "metadata": {},
   "outputs": [],
   "source": [
    "def plusfunction(*args):\n",
    "    return sum(args)"
   ]
  },
  {
   "cell_type": "code",
   "execution_count": 2,
   "id": "2675d167",
   "metadata": {},
   "outputs": [
    {
     "data": {
      "text/plain": [
       "20"
      ]
     },
     "execution_count": 2,
     "metadata": {},
     "output_type": "execute_result"
    }
   ],
   "source": [
    "plusfunction(6,4,10)"
   ]
  },
  {
   "cell_type": "code",
   "execution_count": 4,
   "id": "b74a4390",
   "metadata": {},
   "outputs": [
    {
     "data": {
      "text/plain": [
       "14"
      ]
     },
     "execution_count": 4,
     "metadata": {},
     "output_type": "execute_result"
    }
   ],
   "source": [
    "plusfunction(2,2,1,4,5)"
   ]
  },
  {
   "cell_type": "code",
   "execution_count": 5,
   "id": "1ab15727",
   "metadata": {},
   "outputs": [],
   "source": [
    "def maxfunction(*args):\n",
    "    return max(args)"
   ]
  },
  {
   "cell_type": "code",
   "execution_count": 6,
   "id": "81497efe",
   "metadata": {},
   "outputs": [
    {
     "data": {
      "text/plain": [
       "90"
      ]
     },
     "execution_count": 6,
     "metadata": {},
     "output_type": "execute_result"
    }
   ],
   "source": [
    "maxfunction(9,90,78,45)"
   ]
  },
  {
   "cell_type": "code",
   "execution_count": 7,
   "id": "ed91ba95",
   "metadata": {},
   "outputs": [
    {
     "data": {
      "text/plain": [
       "80"
      ]
     },
     "execution_count": 7,
     "metadata": {},
     "output_type": "execute_result"
    }
   ],
   "source": [
    "maxfunction(19,80)"
   ]
  },
  {
   "cell_type": "code",
   "execution_count": 8,
   "id": "45966f5c",
   "metadata": {},
   "outputs": [],
   "source": [
    "def minfunction(*args):\n",
    "    return min(args)"
   ]
  },
  {
   "cell_type": "code",
   "execution_count": 9,
   "id": "cbe2fa8a",
   "metadata": {},
   "outputs": [
    {
     "data": {
      "text/plain": [
       "67"
      ]
     },
     "execution_count": 9,
     "metadata": {},
     "output_type": "execute_result"
    }
   ],
   "source": [
    "minfunction(67,83,96)"
   ]
  },
  {
   "cell_type": "code",
   "execution_count": 15,
   "id": "aef3fcfb",
   "metadata": {},
   "outputs": [],
   "source": [
    "def sumfunction(*numbers):\n",
    "    s=0\n",
    "    for n in numbers:\n",
    "        s=s+n\n",
    "        return s"
   ]
  },
  {
   "cell_type": "code",
   "execution_count": 16,
   "id": "f8ca4981",
   "metadata": {},
   "outputs": [
    {
     "name": "stdout",
     "output_type": "stream",
     "text": [
      "1\n"
     ]
    }
   ],
   "source": [
    "print(sumfunction(1,2))"
   ]
  },
  {
   "cell_type": "markdown",
   "id": "299258ee",
   "metadata": {},
   "source": [
    "# Lambda(Anonymous)Function"
   ]
  },
  {
   "cell_type": "markdown",
   "id": "7e99024a",
   "metadata": {},
   "source": [
    "> Suppose we want to add any variable with any number.\n",
    "   Syntax:- Reference variable(a,b.......z) = lambda<variable name>:<expression>\n",
    "        \n",
    "> It is a small function containing a single expression. It can acts as anonymous function where it doesn't\n",
    "  require any name.\n",
    "    \n",
    "> These are helpful when we have to perform small tasks with less code.    "
   ]
  },
  {
   "cell_type": "code",
   "execution_count": 17,
   "id": "0b5c1109",
   "metadata": {},
   "outputs": [
    {
     "data": {
      "text/plain": [
       "10"
      ]
     },
     "execution_count": 17,
     "metadata": {},
     "output_type": "execute_result"
    }
   ],
   "source": [
    "test=lambda x:x*2\n",
    "test(5)"
   ]
  },
  {
   "cell_type": "code",
   "execution_count": 18,
   "id": "984e1509",
   "metadata": {},
   "outputs": [
    {
     "data": {
      "text/plain": [
       "7"
      ]
     },
     "execution_count": 18,
     "metadata": {},
     "output_type": "execute_result"
    }
   ],
   "source": [
    "test1add=lambda x,y:x+y\n",
    "test1add(3,4)"
   ]
  },
  {
   "cell_type": "code",
   "execution_count": 19,
   "id": "4ecc2083",
   "metadata": {},
   "outputs": [
    {
     "data": {
      "text/plain": [
       "<function __main__.<lambda>(x, y, z)>"
      ]
     },
     "execution_count": 19,
     "metadata": {},
     "output_type": "execute_result"
    }
   ],
   "source": [
    "m=lambda x,y,z:x+y+z\n",
    "m"
   ]
  },
  {
   "cell_type": "code",
   "execution_count": 20,
   "id": "1d4bc4f6",
   "metadata": {},
   "outputs": [
    {
     "data": {
      "text/plain": [
       "6"
      ]
     },
     "execution_count": 20,
     "metadata": {},
     "output_type": "execute_result"
    }
   ],
   "source": [
    "m(1,2,3)"
   ]
  },
  {
   "cell_type": "code",
   "execution_count": null,
   "id": "055b09e4",
   "metadata": {},
   "outputs": [],
   "source": [
    "# Find the square with lambda function"
   ]
  },
  {
   "cell_type": "code",
   "execution_count": 22,
   "id": "c238c399",
   "metadata": {},
   "outputs": [
    {
     "data": {
      "text/plain": [
       "16"
      ]
     },
     "execution_count": 22,
     "metadata": {},
     "output_type": "execute_result"
    }
   ],
   "source": [
    "square=lambda x:x**2\n",
    "square(4)    "
   ]
  },
  {
   "cell_type": "code",
   "execution_count": null,
   "id": "d061b78e",
   "metadata": {},
   "outputs": [],
   "source": [
    "# Find the square root with lambda function"
   ]
  },
  {
   "cell_type": "code",
   "execution_count": 23,
   "id": "e9177098",
   "metadata": {},
   "outputs": [
    {
     "data": {
      "text/plain": [
       "6.0"
      ]
     },
     "execution_count": 23,
     "metadata": {},
     "output_type": "execute_result"
    }
   ],
   "source": [
    "sqroot= lambda x:x**(1/2)\n",
    "sqroot(36)"
   ]
  },
  {
   "cell_type": "code",
   "execution_count": 25,
   "id": "eca02496",
   "metadata": {},
   "outputs": [
    {
     "data": {
      "text/plain": [
       "6"
      ]
     },
     "execution_count": 25,
     "metadata": {},
     "output_type": "execute_result"
    }
   ],
   "source": [
    "t=int(6.0)\n",
    "t"
   ]
  },
  {
   "cell_type": "code",
   "execution_count": null,
   "id": "42fd41af",
   "metadata": {},
   "outputs": [],
   "source": [
    "# Find cube and cube root with lambda function"
   ]
  },
  {
   "cell_type": "code",
   "execution_count": 26,
   "id": "9c461441",
   "metadata": {},
   "outputs": [
    {
     "data": {
      "text/plain": [
       "125"
      ]
     },
     "execution_count": 26,
     "metadata": {},
     "output_type": "execute_result"
    }
   ],
   "source": [
    "cube= lambda x:x**3\n",
    "cube(5)"
   ]
  },
  {
   "cell_type": "code",
   "execution_count": 27,
   "id": "af528f45",
   "metadata": {},
   "outputs": [
    {
     "data": {
      "text/plain": [
       "3.0"
      ]
     },
     "execution_count": 27,
     "metadata": {},
     "output_type": "execute_result"
    }
   ],
   "source": [
    "cbroot= lambda x:x**(1/3)\n",
    "cbroot(27)"
   ]
  },
  {
   "cell_type": "code",
   "execution_count": 28,
   "id": "a74b6b05",
   "metadata": {},
   "outputs": [
    {
     "name": "stdout",
     "output_type": "stream",
     "text": [
      "Value of total:  15\n",
      "Value of total:  70\n"
     ]
    }
   ],
   "source": [
    "addvar=lambda arg1,arg2:arg1+arg2\n",
    "\n",
    "print(\"Value of total: \",addvar(5,10))\n",
    "print(\"Value of total: \",addvar(30,40))"
   ]
  },
  {
   "cell_type": "code",
   "execution_count": 29,
   "id": "eae5aac5",
   "metadata": {},
   "outputs": [],
   "source": [
    "def my_func(*args):\n",
    "    for i in args:\n",
    "        print('my args',i)"
   ]
  },
  {
   "cell_type": "code",
   "execution_count": 30,
   "id": "0e08cb3e",
   "metadata": {},
   "outputs": [
    {
     "name": "stdout",
     "output_type": "stream",
     "text": [
      "my args Test arguments\n",
      "my args 56\n",
      "my args India\n",
      "my args One more\n",
      "my args 23432423924\n"
     ]
    }
   ],
   "source": [
    "my_func('Test arguments',56,'India','One more',23432423924)"
   ]
  },
  {
   "cell_type": "code",
   "execution_count": 31,
   "id": "3cdb249d",
   "metadata": {},
   "outputs": [
    {
     "name": "stdout",
     "output_type": "stream",
     "text": [
      "quarter\n",
      "78\n",
      "90\n",
      "34\n",
      "month\n"
     ]
    }
   ],
   "source": [
    "r=('quarter',78,90,34,'month')\n",
    "\n",
    "for i in r:\n",
    "    print(i)"
   ]
  },
  {
   "cell_type": "code",
   "execution_count": null,
   "id": "9ed0542c",
   "metadata": {},
   "outputs": [],
   "source": []
  }
 ],
 "metadata": {
  "kernelspec": {
   "display_name": "Python 3",
   "language": "python",
   "name": "python3"
  },
  "language_info": {
   "codemirror_mode": {
    "name": "ipython",
    "version": 3
   },
   "file_extension": ".py",
   "mimetype": "text/x-python",
   "name": "python",
   "nbconvert_exporter": "python",
   "pygments_lexer": "ipython3",
   "version": "3.8.8"
  }
 },
 "nbformat": 4,
 "nbformat_minor": 5
}

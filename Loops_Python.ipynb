{
 "cells": [
  {
   "cell_type": "markdown",
   "id": "6f8415a8",
   "metadata": {},
   "source": [
    "Range Function in Python"
   ]
  },
  {
   "cell_type": "code",
   "execution_count": 1,
   "id": "1e26ba42",
   "metadata": {},
   "outputs": [
    {
     "data": {
      "text/plain": [
       "range(0, 5)"
      ]
     },
     "execution_count": 1,
     "metadata": {},
     "output_type": "execute_result"
    }
   ],
   "source": [
    "range(5)"
   ]
  },
  {
   "cell_type": "code",
   "execution_count": 2,
   "id": "7c4fa8c2",
   "metadata": {},
   "outputs": [
    {
     "data": {
      "text/plain": [
       "range(0, 7)"
      ]
     },
     "execution_count": 2,
     "metadata": {},
     "output_type": "execute_result"
    }
   ],
   "source": [
    "range(7)"
   ]
  },
  {
   "cell_type": "code",
   "execution_count": 3,
   "id": "b0fd088c",
   "metadata": {},
   "outputs": [
    {
     "data": {
      "text/plain": [
       "range(0, 15)"
      ]
     },
     "execution_count": 3,
     "metadata": {},
     "output_type": "execute_result"
    }
   ],
   "source": [
    "range(15)"
   ]
  },
  {
   "cell_type": "code",
   "execution_count": 4,
   "id": "e8e716e1",
   "metadata": {},
   "outputs": [
    {
     "data": {
      "text/plain": [
       "[0, 1, 2, 3, 4]"
      ]
     },
     "execution_count": 4,
     "metadata": {},
     "output_type": "execute_result"
    }
   ],
   "source": [
    "list(range(5))"
   ]
  },
  {
   "cell_type": "code",
   "execution_count": 5,
   "id": "fa452fc0",
   "metadata": {},
   "outputs": [
    {
     "data": {
      "text/plain": [
       "[0, 1, 2, 3, 4, 5, 6]"
      ]
     },
     "execution_count": 5,
     "metadata": {},
     "output_type": "execute_result"
    }
   ],
   "source": [
    "list(range(7))"
   ]
  },
  {
   "cell_type": "code",
   "execution_count": 6,
   "id": "c8e74c76",
   "metadata": {},
   "outputs": [
    {
     "data": {
      "text/plain": [
       "[0, 1, 2, 3, 4, 5, 6, 7, 8, 9]"
      ]
     },
     "execution_count": 6,
     "metadata": {},
     "output_type": "execute_result"
    }
   ],
   "source": [
    "list(range(10))"
   ]
  },
  {
   "cell_type": "code",
   "execution_count": 7,
   "id": "61264c5c",
   "metadata": {},
   "outputs": [
    {
     "name": "stdout",
     "output_type": "stream",
     "text": [
      "0\n",
      "1\n",
      "2\n",
      "3\n",
      "4\n"
     ]
    }
   ],
   "source": [
    "for i in range(5):\n",
    "    print(i)"
   ]
  },
  {
   "cell_type": "code",
   "execution_count": 8,
   "id": "0e1d04e2",
   "metadata": {},
   "outputs": [
    {
     "name": "stdout",
     "output_type": "stream",
     "text": [
      "0\n",
      "1\n",
      "2\n",
      "3\n",
      "4\n",
      "5\n",
      "6\n",
      "7\n",
      "8\n",
      "9\n"
     ]
    }
   ],
   "source": [
    "for i in range(10):\n",
    "    print(i)"
   ]
  },
  {
   "cell_type": "code",
   "execution_count": 12,
   "id": "321b4814",
   "metadata": {},
   "outputs": [
    {
     "name": "stdout",
     "output_type": "stream",
     "text": [
      "[0, 1, 2, 3, 4]\n"
     ]
    },
    {
     "data": {
      "text/plain": [
       "[0, 1, 2, 3, 4]"
      ]
     },
     "execution_count": 12,
     "metadata": {},
     "output_type": "execute_result"
    }
   ],
   "source": [
    "a=list(range(5))\n",
    "print(a)\n",
    "a"
   ]
  },
  {
   "cell_type": "code",
   "execution_count": 10,
   "id": "685fc937",
   "metadata": {},
   "outputs": [
    {
     "name": "stdout",
     "output_type": "stream",
     "text": [
      "0\n",
      "1\n",
      "2\n",
      "3\n",
      "4\n"
     ]
    }
   ],
   "source": [
    "for u in a:\n",
    "    print(u)"
   ]
  },
  {
   "cell_type": "code",
   "execution_count": 13,
   "id": "fe73f9e9",
   "metadata": {},
   "outputs": [
    {
     "name": "stdout",
     "output_type": "stream",
     "text": [
      "[0, 1, 2, 3, 4, 5, 6, 7, 8, 9]\n",
      "0\n",
      "1\n",
      "2\n",
      "3\n",
      "4\n",
      "5\n",
      "6\n",
      "7\n",
      "8\n",
      "9\n"
     ]
    }
   ],
   "source": [
    "b=list(range(10))\n",
    "print(b)\n",
    "\n",
    "for j in b:\n",
    "    print(j)"
   ]
  },
  {
   "cell_type": "code",
   "execution_count": 14,
   "id": "9f25f310",
   "metadata": {},
   "outputs": [
    {
     "name": "stdout",
     "output_type": "stream",
     "text": [
      "0 1 2 3 4 5 6 7 8 9 "
     ]
    }
   ],
   "source": [
    "v=list(range(10))\n",
    "\n",
    "for k in v:\n",
    "    print(k,end=\" \")"
   ]
  },
  {
   "cell_type": "code",
   "execution_count": 15,
   "id": "a522fd1f",
   "metadata": {},
   "outputs": [
    {
     "data": {
      "text/plain": [
       "[0, 1, 2, 3, 4, 5, 6]"
      ]
     },
     "execution_count": 15,
     "metadata": {},
     "output_type": "execute_result"
    }
   ],
   "source": [
    "d=list(range(7))\n",
    "d"
   ]
  },
  {
   "cell_type": "code",
   "execution_count": 16,
   "id": "57c1948f",
   "metadata": {},
   "outputs": [
    {
     "name": "stdout",
     "output_type": "stream",
     "text": [
      "0\n",
      "1\n",
      "2\n",
      "3\n",
      "4\n",
      "5\n",
      "6\n"
     ]
    }
   ],
   "source": [
    "for i in d:\n",
    "    print(i)"
   ]
  },
  {
   "cell_type": "code",
   "execution_count": 17,
   "id": "24a2525a",
   "metadata": {},
   "outputs": [
    {
     "name": "stdout",
     "output_type": "stream",
     "text": [
      "0\n",
      "1\n",
      "2\n",
      "3\n",
      "4\n",
      "5\n",
      "6\n",
      "7\n",
      "8\n"
     ]
    }
   ],
   "source": [
    "for i in [0,1,2,3,4,5,6,7,8]:\n",
    "    print(i)"
   ]
  },
  {
   "cell_type": "markdown",
   "id": "4d73a95d",
   "metadata": {},
   "source": [
    "# Decision Statements"
   ]
  },
  {
   "cell_type": "code",
   "execution_count": null,
   "id": "d88ea627",
   "metadata": {},
   "outputs": [],
   "source": [
    "# IF-ElSE"
   ]
  },
  {
   "cell_type": "code",
   "execution_count": 18,
   "id": "05e6edce",
   "metadata": {},
   "outputs": [
    {
     "name": "stdout",
     "output_type": "stream",
     "text": [
      "Good Marks\n"
     ]
    }
   ],
   "source": [
    "marks=90\n",
    "\n",
    "if marks>50:\n",
    "    print(\"Good Marks\")\n",
    "else:\n",
    "    print(\"Fair\")"
   ]
  },
  {
   "cell_type": "code",
   "execution_count": 19,
   "id": "9dcfbc60",
   "metadata": {},
   "outputs": [
    {
     "name": "stdout",
     "output_type": "stream",
     "text": [
      "Fair\n"
     ]
    }
   ],
   "source": [
    "marks=10\n",
    "if marks>50:\n",
    "    print(\"Good Marks\")\n",
    "else:\n",
    "    print(\"Fair\")"
   ]
  },
  {
   "cell_type": "code",
   "execution_count": 20,
   "id": "71759ec0",
   "metadata": {},
   "outputs": [
    {
     "name": "stdout",
     "output_type": "stream",
     "text": [
      "Enter any marks97\n",
      "Excellent\n"
     ]
    }
   ],
   "source": [
    "marks=int(input(\"Enter any marks\"))\n",
    "\n",
    "if (marks>50):\n",
    "    print(\"Excellent\")\n",
    "else:\n",
    "    print(\"Not Good\")"
   ]
  },
  {
   "cell_type": "code",
   "execution_count": 21,
   "id": "0355b2a5",
   "metadata": {},
   "outputs": [
    {
     "name": "stdout",
     "output_type": "stream",
     "text": [
      "Enter any number10\n",
      "The number is even\n"
     ]
    }
   ],
   "source": [
    "y=int(input(\"Enter any number\"))\n",
    "\n",
    "if y%2==0:\n",
    "    print(\"The number is even\")\n",
    "else:\n",
    "    print(\"The number is odd\")"
   ]
  },
  {
   "cell_type": "code",
   "execution_count": 23,
   "id": "a558ed2a",
   "metadata": {},
   "outputs": [
    {
     "name": "stdout",
     "output_type": "stream",
     "text": [
      "Enter any number17\n",
      "The number is odd\n"
     ]
    }
   ],
   "source": [
    "# Alter\n",
    "\n",
    "h=int(input(\"Enter any number\"))\n",
    "\n",
    "if h%2!=0:\n",
    "    print(\"The number is odd\")\n",
    "else:\n",
    "    print(\"The number is even\")"
   ]
  },
  {
   "cell_type": "code",
   "execution_count": 24,
   "id": "3e33c08d",
   "metadata": {},
   "outputs": [
    {
     "name": "stdout",
     "output_type": "stream",
     "text": [
      "Good\n"
     ]
    }
   ],
   "source": [
    "m=40\n",
    "\n",
    "if(m>20):\n",
    "    print(\"Good\")\n",
    "else:\n",
    "    print(\"Average\")\n",
    "    print(\"end of if constructs\")"
   ]
  },
  {
   "cell_type": "code",
   "execution_count": 25,
   "id": "1b203d82",
   "metadata": {},
   "outputs": [
    {
     "name": "stdout",
     "output_type": "stream",
     "text": [
      "Enter any value56\n",
      "Value of k is  56 even number\n"
     ]
    }
   ],
   "source": [
    "k=int(input(\"Enter any value\"))\n",
    "\n",
    "if(k%2==0):\n",
    "    print(\"Value of k is \",k,\"even number\")\n",
    "else:\n",
    "    print(\"Value of k is \",k,\"odd number\")"
   ]
  },
  {
   "cell_type": "code",
   "execution_count": 27,
   "id": "7f953fd3",
   "metadata": {},
   "outputs": [
    {
     "name": "stdout",
     "output_type": "stream",
     "text": [
      "Enter any marks of student85\n",
      "Very Good\n"
     ]
    }
   ],
   "source": [
    "marks=int(input(\"Enter any marks of student\"))\n",
    "\n",
    "if marks>=90:\n",
    "    print(\"Excellent\")\n",
    "elif (marks>=80 and marks<90):\n",
    "    print(\"Very Good\")\n",
    "elif (marks>=70 and marks<80):\n",
    "    print(\"Good\")\n",
    "elif (marks>=60 and marks<70):\n",
    "    print(\"Average\")\n",
    "elif (marks>=50 and marks<60):\n",
    "    print(\"Below average\")\n",
    "else:\n",
    "    print(\"Poor\")"
   ]
  },
  {
   "cell_type": "markdown",
   "id": "8d642cac",
   "metadata": {},
   "source": [
    "Break statement"
   ]
  },
  {
   "cell_type": "code",
   "execution_count": 29,
   "id": "a3533831",
   "metadata": {},
   "outputs": [
    {
     "name": "stdout",
     "output_type": "stream",
     "text": [
      "Tulip\n",
      "Rose\n",
      "Marigold\n",
      "Sunflower\n"
     ]
    }
   ],
   "source": [
    "for i in ['Tulip','Rose','Marigold','Sunflower']:\n",
    "    print(i)"
   ]
  },
  {
   "cell_type": "code",
   "execution_count": 36,
   "id": "3a6e673e",
   "metadata": {},
   "outputs": [
    {
     "name": "stdout",
     "output_type": "stream",
     "text": [
      "Marigold\n"
     ]
    }
   ],
   "source": [
    "for i in ['Tulip','Rose','Marigold','Sunflower']:\n",
    "    if i=='Marigold':\n",
    "        break\n",
    "print(i)"
   ]
  },
  {
   "cell_type": "code",
   "execution_count": 38,
   "id": "fc51ef5e",
   "metadata": {},
   "outputs": [
    {
     "name": "stdout",
     "output_type": "stream",
     "text": [
      "40\n"
     ]
    }
   ],
   "source": [
    "for j in [10,20,30,40]:\n",
    "    if j==40:\n",
    "        break\n",
    "print(j)"
   ]
  },
  {
   "cell_type": "markdown",
   "id": "f09b7f1d",
   "metadata": {},
   "source": [
    "Continue statement"
   ]
  },
  {
   "cell_type": "code",
   "execution_count": 39,
   "id": "9e385dac",
   "metadata": {},
   "outputs": [
    {
     "name": "stdout",
     "output_type": "stream",
     "text": [
      "Sunflower\n"
     ]
    }
   ],
   "source": [
    "for i in ['Tulip','Rose','Marigold','Sunflower']:\n",
    "    if i=='Marigold':\n",
    "        continue\n",
    "print(i)"
   ]
  },
  {
   "cell_type": "code",
   "execution_count": 40,
   "id": "524438be",
   "metadata": {},
   "outputs": [
    {
     "name": "stdout",
     "output_type": "stream",
     "text": [
      "60\n"
     ]
    }
   ],
   "source": [
    "for j in [10,20,30,40,50,60]:\n",
    "    if j==40:\n",
    "        continue\n",
    "print(j)        "
   ]
  },
  {
   "cell_type": "code",
   "execution_count": 41,
   "id": "3363e5b2",
   "metadata": {},
   "outputs": [
    {
     "data": {
      "text/plain": [
       "[0, 1, 2, 3, 4]"
      ]
     },
     "execution_count": 41,
     "metadata": {},
     "output_type": "execute_result"
    }
   ],
   "source": [
    "list(range(0,5))"
   ]
  },
  {
   "cell_type": "code",
   "execution_count": 42,
   "id": "6a6a40f8",
   "metadata": {},
   "outputs": [
    {
     "data": {
      "text/plain": [
       "[0, 1, 2, 3, 4, 5, 6, 7, 8, 9]"
      ]
     },
     "execution_count": 42,
     "metadata": {},
     "output_type": "execute_result"
    }
   ],
   "source": [
    "list(range(0,10))"
   ]
  },
  {
   "cell_type": "code",
   "execution_count": 43,
   "id": "7dea9f47",
   "metadata": {},
   "outputs": [
    {
     "data": {
      "text/plain": [
       "[2, 3, 4, 5, 6, 7, 8, 9]"
      ]
     },
     "execution_count": 43,
     "metadata": {},
     "output_type": "execute_result"
    }
   ],
   "source": [
    "list(range(2,10))"
   ]
  },
  {
   "cell_type": "code",
   "execution_count": 44,
   "id": "629dc202",
   "metadata": {},
   "outputs": [
    {
     "data": {
      "text/plain": [
       "[5, 6, 7, 8, 9, 10, 11, 12, 13, 14, 15, 16, 17, 18, 19, 20, 21, 22, 23, 24]"
      ]
     },
     "execution_count": 44,
     "metadata": {},
     "output_type": "execute_result"
    }
   ],
   "source": [
    "list(range(5,25))"
   ]
  },
  {
   "cell_type": "code",
   "execution_count": 45,
   "id": "96e1243f",
   "metadata": {},
   "outputs": [
    {
     "data": {
      "text/plain": [
       "[10,\n",
       " 11,\n",
       " 12,\n",
       " 13,\n",
       " 14,\n",
       " 15,\n",
       " 16,\n",
       " 17,\n",
       " 18,\n",
       " 19,\n",
       " 20,\n",
       " 21,\n",
       " 22,\n",
       " 23,\n",
       " 24,\n",
       " 25,\n",
       " 26,\n",
       " 27,\n",
       " 28,\n",
       " 29,\n",
       " 30,\n",
       " 31,\n",
       " 32,\n",
       " 33,\n",
       " 34,\n",
       " 35,\n",
       " 36,\n",
       " 37,\n",
       " 38,\n",
       " 39]"
      ]
     },
     "execution_count": 45,
     "metadata": {},
     "output_type": "execute_result"
    }
   ],
   "source": [
    "list(range(10,40))"
   ]
  },
  {
   "cell_type": "code",
   "execution_count": 46,
   "id": "76b5fdaa",
   "metadata": {},
   "outputs": [
    {
     "data": {
      "text/plain": [
       "[10, 11, 12, 13, 14, 15, 16, 17, 18, 19]"
      ]
     },
     "execution_count": 46,
     "metadata": {},
     "output_type": "execute_result"
    }
   ],
   "source": [
    "list(range(10,20))"
   ]
  },
  {
   "cell_type": "code",
   "execution_count": 47,
   "id": "638d2e24",
   "metadata": {},
   "outputs": [
    {
     "name": "stdout",
     "output_type": "stream",
     "text": [
      "2\n",
      "3\n",
      "4\n",
      "5\n",
      "6\n",
      "7\n",
      "8\n",
      "9\n"
     ]
    }
   ],
   "source": [
    "for i in range(2,10):\n",
    "    print(i)"
   ]
  },
  {
   "cell_type": "code",
   "execution_count": 48,
   "id": "e77cc8ee",
   "metadata": {},
   "outputs": [
    {
     "name": "stdout",
     "output_type": "stream",
     "text": [
      "5\n",
      "6\n",
      "7\n",
      "8\n",
      "9\n",
      "10\n",
      "11\n",
      "12\n",
      "13\n",
      "14\n"
     ]
    }
   ],
   "source": [
    "for i in range(5,15):\n",
    "    print(i)"
   ]
  },
  {
   "cell_type": "code",
   "execution_count": null,
   "id": "15b0daf2",
   "metadata": {},
   "outputs": [],
   "source": [
    "# Jump in range function"
   ]
  },
  {
   "cell_type": "code",
   "execution_count": 49,
   "id": "7d1b4300",
   "metadata": {},
   "outputs": [
    {
     "data": {
      "text/plain": [
       "range(0, 10, 2)"
      ]
     },
     "execution_count": 49,
     "metadata": {},
     "output_type": "execute_result"
    }
   ],
   "source": [
    "range(0,10,2)"
   ]
  },
  {
   "cell_type": "code",
   "execution_count": 51,
   "id": "9e54b9c6",
   "metadata": {},
   "outputs": [
    {
     "data": {
      "text/plain": [
       "[0, 2, 4, 6, 8]"
      ]
     },
     "execution_count": 51,
     "metadata": {},
     "output_type": "execute_result"
    }
   ],
   "source": [
    "a=list(range(0,10,2))\n",
    "a"
   ]
  },
  {
   "cell_type": "code",
   "execution_count": 52,
   "id": "c761ec34",
   "metadata": {},
   "outputs": [
    {
     "data": {
      "text/plain": [
       "[0, 5, 10, 15, 20]"
      ]
     },
     "execution_count": 52,
     "metadata": {},
     "output_type": "execute_result"
    }
   ],
   "source": [
    "list(range(0,25,5))"
   ]
  },
  {
   "cell_type": "code",
   "execution_count": 53,
   "id": "7a7e45ca",
   "metadata": {},
   "outputs": [
    {
     "name": "stdout",
     "output_type": "stream",
     "text": [
      "0\n",
      "2\n",
      "4\n",
      "6\n",
      "8\n"
     ]
    }
   ],
   "source": [
    "for i in range(0,10,2):\n",
    "    print(i)"
   ]
  },
  {
   "cell_type": "code",
   "execution_count": 54,
   "id": "c89d088a",
   "metadata": {},
   "outputs": [
    {
     "data": {
      "text/plain": [
       "[0, 5, 10, 15, 20]"
      ]
     },
     "execution_count": 54,
     "metadata": {},
     "output_type": "execute_result"
    }
   ],
   "source": [
    "c=list(range(0,25,5))\n",
    "c"
   ]
  },
  {
   "cell_type": "code",
   "execution_count": 55,
   "id": "7fb24640",
   "metadata": {},
   "outputs": [
    {
     "name": "stdout",
     "output_type": "stream",
     "text": [
      "0\n",
      "5\n",
      "10\n",
      "15\n",
      "20\n"
     ]
    }
   ],
   "source": [
    "for j in c:\n",
    "    print(j)"
   ]
  },
  {
   "cell_type": "code",
   "execution_count": 57,
   "id": "25b6a6fc",
   "metadata": {},
   "outputs": [
    {
     "data": {
      "text/plain": [
       "[10, 20, 30, 40]"
      ]
     },
     "execution_count": 57,
     "metadata": {},
     "output_type": "execute_result"
    }
   ],
   "source": [
    "d=list(range(10,50,10))\n",
    "d    "
   ]
  },
  {
   "cell_type": "code",
   "execution_count": null,
   "id": "f8b425fc",
   "metadata": {},
   "outputs": [],
   "source": [
    "# Program to find the sum of all numbers stored in a list"
   ]
  },
  {
   "cell_type": "code",
   "execution_count": 58,
   "id": "51b8f39a",
   "metadata": {},
   "outputs": [
    {
     "name": "stdout",
     "output_type": "stream",
     "text": [
      "6\n",
      "The sum is  6\n",
      "11\n",
      "The sum is  11\n",
      "14\n",
      "The sum is  14\n",
      "22\n",
      "The sum is  22\n",
      "26\n",
      "The sum is  26\n",
      "28\n",
      "The sum is  28\n",
      "33\n",
      "The sum is  33\n",
      "37\n",
      "The sum is  37\n",
      "46\n",
      "The sum is  46\n"
     ]
    }
   ],
   "source": [
    "numbers=[6,5,3,8,4,2,5,4,9]\n",
    "\n",
    "sum=0\n",
    "\n",
    "for val in numbers:\n",
    "    sum=sum+val\n",
    "    print(sum)\n",
    "    print(\"The sum is \",sum)"
   ]
  },
  {
   "cell_type": "code",
   "execution_count": null,
   "id": "dd331f7f",
   "metadata": {},
   "outputs": [],
   "source": [
    "# Program to iterate through a list using indexing"
   ]
  },
  {
   "cell_type": "code",
   "execution_count": 59,
   "id": "ab663eb1",
   "metadata": {},
   "outputs": [
    {
     "name": "stdout",
     "output_type": "stream",
     "text": [
      "I like laptop\n",
      "I like mobile\n",
      "I like radio\n",
      "I like tv\n"
     ]
    }
   ],
   "source": [
    "device=['laptop','mobile','radio','tv']\n",
    "\n",
    "for i in range(len(device)):\n",
    "    print(\"I like\",device[i])\n",
    "    "
   ]
  },
  {
   "cell_type": "code",
   "execution_count": 60,
   "id": "fcf40bfe",
   "metadata": {},
   "outputs": [
    {
     "name": "stdout",
     "output_type": "stream",
     "text": [
      "i\n",
      "The end\n"
     ]
    }
   ],
   "source": [
    "for val in \"string\":\n",
    "    if val==\"i\":\n",
    "        break\n",
    "print(val)\n",
    "print(\"The end\")"
   ]
  },
  {
   "cell_type": "code",
   "execution_count": 61,
   "id": "d4bbb908",
   "metadata": {},
   "outputs": [
    {
     "name": "stdout",
     "output_type": "stream",
     "text": [
      "g\n"
     ]
    }
   ],
   "source": [
    "for val in \"string\":\n",
    "    if val==\"i\":\n",
    "        continue\n",
    "print(val)            "
   ]
  },
  {
   "cell_type": "code",
   "execution_count": 62,
   "id": "1e951987",
   "metadata": {},
   "outputs": [
    {
     "name": "stdout",
     "output_type": "stream",
     "text": [
      "s\n",
      "s\n",
      "The end\n",
      "t\n",
      "t\n",
      "The end\n",
      "r\n",
      "r\n",
      "The end\n",
      "n\n",
      "n\n",
      "The end\n",
      "g\n",
      "g\n",
      "The end\n",
      "e\n",
      "e\n",
      "The end\n"
     ]
    }
   ],
   "source": [
    "for val in \"stringexample\":\n",
    "    if val==\"i\":\n",
    "        continue\n",
    "    else:\n",
    "        if val==\"x\":\n",
    "            break\n",
    "    print(val)\n",
    "    print(val)\n",
    "    print(\"The end\")"
   ]
  },
  {
   "cell_type": "code",
   "execution_count": null,
   "id": "976bb4bd",
   "metadata": {},
   "outputs": [],
   "source": [
    "# Program to find the greatest of three numbers"
   ]
  },
  {
   "cell_type": "code",
   "execution_count": 63,
   "id": "41b04dd5",
   "metadata": {},
   "outputs": [
    {
     "name": "stdout",
     "output_type": "stream",
     "text": [
      "enter the value of a78\n",
      "enter the value of b67\n",
      "enter the value of c34\n",
      "A is greatest\n"
     ]
    }
   ],
   "source": [
    "a=int(input(\"enter the value of a\"))\n",
    "b=int(input(\"enter the value of b\"))\n",
    "c=int(input(\"enter the value of c\"))\n",
    "\n",
    "if(a>b)&(a>c):\n",
    "    print(\"A is greatest\")\n",
    "elif(b>a)&(b>c):\n",
    "    print(\"B is greatest\")\n",
    "else:\n",
    "    print(\"C is greatest\")"
   ]
  },
  {
   "cell_type": "code",
   "execution_count": null,
   "id": "5063a030",
   "metadata": {},
   "outputs": [],
   "source": [
    "# Nested For Loop"
   ]
  },
  {
   "cell_type": "code",
   "execution_count": 69,
   "id": "31651d97",
   "metadata": {},
   "outputs": [
    {
     "name": "stdout",
     "output_type": "stream",
     "text": [
      "Orange Chair\n",
      "Orange Book\n",
      "Orange Laptop\n",
      "Black Chair\n",
      "Black Book\n",
      "Black Laptop\n",
      "White Chair\n",
      "White Book\n",
      "White Laptop\n"
     ]
    }
   ],
   "source": [
    "l1=['Orange','Black','White']\n",
    "l2=['Chair','Book','Laptop']\n",
    "\n",
    "for i in l1:\n",
    "    for j in l2:\n",
    "        print(i,j)"
   ]
  },
  {
   "cell_type": "code",
   "execution_count": null,
   "id": "77dd2d33",
   "metadata": {},
   "outputs": [],
   "source": [
    "# Program for any number table"
   ]
  },
  {
   "cell_type": "code",
   "execution_count": 70,
   "id": "7ba0e69f",
   "metadata": {},
   "outputs": [
    {
     "name": "stdout",
     "output_type": "stream",
     "text": [
      "Enter the number4\n",
      "4 * 1 = 4\n",
      "4 * 2 = 8\n",
      "4 * 3 = 12\n",
      "4 * 4 = 16\n",
      "4 * 5 = 20\n",
      "4 * 6 = 24\n",
      "4 * 7 = 28\n",
      "4 * 8 = 32\n",
      "4 * 9 = 36\n",
      "4 * 10 = 40\n"
     ]
    }
   ],
   "source": [
    "n=int(input(\"Enter the number\"))\n",
    "i=1\n",
    "\n",
    "while(i<=10):\n",
    "    print(n,\"*\",i,'=',n*i)\n",
    "    i=i+1"
   ]
  },
  {
   "cell_type": "code",
   "execution_count": null,
   "id": "9f6a4678",
   "metadata": {},
   "outputs": [],
   "source": []
  }
 ],
 "metadata": {
  "kernelspec": {
   "display_name": "Python 3",
   "language": "python",
   "name": "python3"
  },
  "language_info": {
   "codemirror_mode": {
    "name": "ipython",
    "version": 3
   },
   "file_extension": ".py",
   "mimetype": "text/x-python",
   "name": "python",
   "nbconvert_exporter": "python",
   "pygments_lexer": "ipython3",
   "version": "3.8.8"
  }
 },
 "nbformat": 4,
 "nbformat_minor": 5
}

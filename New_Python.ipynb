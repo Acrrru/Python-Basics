{
 "cells": [
  {
   "cell_type": "markdown",
   "id": "ef65a01c",
   "metadata": {},
   "source": [
    "# Starting Python "
   ]
  },
  {
   "cell_type": "markdown",
   "id": "cabd4cbb",
   "metadata": {},
   "source": [
    "Operators"
   ]
  },
  {
   "cell_type": "code",
   "execution_count": 1,
   "id": "2383a894",
   "metadata": {},
   "outputs": [
    {
     "data": {
      "text/plain": [
       "2"
      ]
     },
     "execution_count": 1,
     "metadata": {},
     "output_type": "execute_result"
    }
   ],
   "source": [
    "1+1"
   ]
  },
  {
   "cell_type": "code",
   "execution_count": 2,
   "id": "bdf34e8b",
   "metadata": {},
   "outputs": [
    {
     "data": {
      "text/plain": [
       "1"
      ]
     },
     "execution_count": 2,
     "metadata": {},
     "output_type": "execute_result"
    }
   ],
   "source": [
    "2-1"
   ]
  },
  {
   "cell_type": "code",
   "execution_count": 4,
   "id": "34a0fd01",
   "metadata": {},
   "outputs": [
    {
     "data": {
      "text/plain": [
       "3"
      ]
     },
     "execution_count": 4,
     "metadata": {},
     "output_type": "execute_result"
    }
   ],
   "source": [
    "5-2"
   ]
  },
  {
   "cell_type": "code",
   "execution_count": 5,
   "id": "048a84b7",
   "metadata": {},
   "outputs": [
    {
     "data": {
      "text/plain": [
       "14"
      ]
     },
     "execution_count": 5,
     "metadata": {},
     "output_type": "execute_result"
    }
   ],
   "source": [
    "7*2"
   ]
  },
  {
   "cell_type": "code",
   "execution_count": 6,
   "id": "9cfd1017",
   "metadata": {},
   "outputs": [
    {
     "data": {
      "text/plain": [
       "5.0"
      ]
     },
     "execution_count": 6,
     "metadata": {},
     "output_type": "execute_result"
    }
   ],
   "source": [
    "10/2"
   ]
  },
  {
   "cell_type": "code",
   "execution_count": 7,
   "id": "386c9ad5",
   "metadata": {},
   "outputs": [
    {
     "data": {
      "text/plain": [
       "5"
      ]
     },
     "execution_count": 7,
     "metadata": {},
     "output_type": "execute_result"
    }
   ],
   "source": [
    "10//2"
   ]
  },
  {
   "cell_type": "code",
   "execution_count": 8,
   "id": "806c91de",
   "metadata": {},
   "outputs": [
    {
     "data": {
      "text/plain": [
       "0"
      ]
     },
     "execution_count": 8,
     "metadata": {},
     "output_type": "execute_result"
    }
   ],
   "source": [
    "10%2"
   ]
  },
  {
   "cell_type": "code",
   "execution_count": 9,
   "id": "8d96b468",
   "metadata": {},
   "outputs": [
    {
     "data": {
      "text/plain": [
       "1"
      ]
     },
     "execution_count": 9,
     "metadata": {},
     "output_type": "execute_result"
    }
   ],
   "source": [
    "13%2"
   ]
  },
  {
   "cell_type": "code",
   "execution_count": null,
   "id": "ec1b13c7",
   "metadata": {},
   "outputs": [],
   "source": [
    "# Find a Square"
   ]
  },
  {
   "cell_type": "code",
   "execution_count": 11,
   "id": "ab8195c0",
   "metadata": {},
   "outputs": [],
   "source": [
    "a=3\n",
    "b=4"
   ]
  },
  {
   "cell_type": "code",
   "execution_count": 12,
   "id": "194a476b",
   "metadata": {},
   "outputs": [
    {
     "data": {
      "text/plain": [
       "81"
      ]
     },
     "execution_count": 12,
     "metadata": {},
     "output_type": "execute_result"
    }
   ],
   "source": [
    "a**b"
   ]
  },
  {
   "cell_type": "code",
   "execution_count": 13,
   "id": "a4479f9d",
   "metadata": {},
   "outputs": [
    {
     "data": {
      "text/plain": [
       "64"
      ]
     },
     "execution_count": 13,
     "metadata": {},
     "output_type": "execute_result"
    }
   ],
   "source": [
    "8**2"
   ]
  },
  {
   "cell_type": "code",
   "execution_count": 14,
   "id": "79867ebe",
   "metadata": {},
   "outputs": [
    {
     "name": "stdout",
     "output_type": "stream",
     "text": [
      "81\n"
     ]
    }
   ],
   "source": [
    "print(a**b)"
   ]
  },
  {
   "cell_type": "code",
   "execution_count": 15,
   "id": "8e608b85",
   "metadata": {},
   "outputs": [
    {
     "data": {
      "text/plain": [
       "216"
      ]
     },
     "execution_count": 15,
     "metadata": {},
     "output_type": "execute_result"
    }
   ],
   "source": [
    "6**3"
   ]
  },
  {
   "cell_type": "code",
   "execution_count": 16,
   "id": "05f08d46",
   "metadata": {},
   "outputs": [
    {
     "data": {
      "text/plain": [
       "343"
      ]
     },
     "execution_count": 16,
     "metadata": {},
     "output_type": "execute_result"
    }
   ],
   "source": [
    "7**3"
   ]
  },
  {
   "cell_type": "code",
   "execution_count": 17,
   "id": "79e3afab",
   "metadata": {},
   "outputs": [
    {
     "data": {
      "text/plain": [
       "25"
      ]
     },
     "execution_count": 17,
     "metadata": {},
     "output_type": "execute_result"
    }
   ],
   "source": [
    "5**2"
   ]
  },
  {
   "cell_type": "code",
   "execution_count": 18,
   "id": "8d360acd",
   "metadata": {},
   "outputs": [
    {
     "data": {
      "text/plain": [
       "7776"
      ]
     },
     "execution_count": 18,
     "metadata": {},
     "output_type": "execute_result"
    }
   ],
   "source": [
    "6**5"
   ]
  },
  {
   "cell_type": "code",
   "execution_count": 22,
   "id": "f74652c5",
   "metadata": {},
   "outputs": [
    {
     "data": {
      "text/plain": [
       "512"
      ]
     },
     "execution_count": 22,
     "metadata": {},
     "output_type": "execute_result"
    }
   ],
   "source": [
    "8**3"
   ]
  },
  {
   "cell_type": "code",
   "execution_count": null,
   "id": "3c157c8c",
   "metadata": {},
   "outputs": [],
   "source": [
    "# Working with Variables"
   ]
  },
  {
   "cell_type": "code",
   "execution_count": 24,
   "id": "2e27f2bf",
   "metadata": {},
   "outputs": [
    {
     "data": {
      "text/plain": [
       "10"
      ]
     },
     "execution_count": 24,
     "metadata": {},
     "output_type": "execute_result"
    }
   ],
   "source": [
    "a=10\n",
    "a"
   ]
  },
  {
   "cell_type": "code",
   "execution_count": 25,
   "id": "a75f40cd",
   "metadata": {},
   "outputs": [
    {
     "data": {
      "text/plain": [
       "5"
      ]
     },
     "execution_count": 25,
     "metadata": {},
     "output_type": "execute_result"
    }
   ],
   "source": [
    "b=5\n",
    "b"
   ]
  },
  {
   "cell_type": "code",
   "execution_count": 26,
   "id": "fe71bca5",
   "metadata": {},
   "outputs": [
    {
     "data": {
      "text/plain": [
       "15"
      ]
     },
     "execution_count": 26,
     "metadata": {},
     "output_type": "execute_result"
    }
   ],
   "source": [
    "a+b"
   ]
  },
  {
   "cell_type": "code",
   "execution_count": 27,
   "id": "0eca0d25",
   "metadata": {},
   "outputs": [
    {
     "data": {
      "text/plain": [
       "5"
      ]
     },
     "execution_count": 27,
     "metadata": {},
     "output_type": "execute_result"
    }
   ],
   "source": [
    "a-b"
   ]
  },
  {
   "cell_type": "code",
   "execution_count": 31,
   "id": "198db58a",
   "metadata": {},
   "outputs": [
    {
     "data": {
      "text/plain": [
       "50"
      ]
     },
     "execution_count": 31,
     "metadata": {},
     "output_type": "execute_result"
    }
   ],
   "source": [
    "c=a*b\n",
    "c"
   ]
  },
  {
   "cell_type": "code",
   "execution_count": 32,
   "id": "071a0ae5",
   "metadata": {},
   "outputs": [
    {
     "data": {
      "text/plain": [
       "2.0"
      ]
     },
     "execution_count": 32,
     "metadata": {},
     "output_type": "execute_result"
    }
   ],
   "source": [
    "d=a/b\n",
    "d"
   ]
  },
  {
   "cell_type": "code",
   "execution_count": 35,
   "id": "6a98f7e1",
   "metadata": {},
   "outputs": [
    {
     "data": {
      "text/plain": [
       "2"
      ]
     },
     "execution_count": 35,
     "metadata": {},
     "output_type": "execute_result"
    }
   ],
   "source": [
    "e=a//b\n",
    "e"
   ]
  },
  {
   "cell_type": "code",
   "execution_count": 36,
   "id": "7466c643",
   "metadata": {},
   "outputs": [
    {
     "name": "stdout",
     "output_type": "stream",
     "text": [
      "50\n"
     ]
    }
   ],
   "source": [
    "print(c)"
   ]
  },
  {
   "cell_type": "code",
   "execution_count": 37,
   "id": "00257659",
   "metadata": {},
   "outputs": [
    {
     "name": "stdout",
     "output_type": "stream",
     "text": [
      "C= 50\n"
     ]
    }
   ],
   "source": [
    "print(\"C=\",c)"
   ]
  },
  {
   "cell_type": "code",
   "execution_count": 38,
   "id": "3bd2ce32",
   "metadata": {},
   "outputs": [
    {
     "name": "stdout",
     "output_type": "stream",
     "text": [
      "d=\n"
     ]
    }
   ],
   "source": [
    "print('d=')"
   ]
  },
  {
   "cell_type": "code",
   "execution_count": 39,
   "id": "96e49e5b",
   "metadata": {},
   "outputs": [
    {
     "name": "stdout",
     "output_type": "stream",
     "text": [
      "the value of c= 50 and the value of d= 2.0\n"
     ]
    }
   ],
   "source": [
    "print(\"the value of c=\",c,\"and\",\"the value of d=\",d)"
   ]
  },
  {
   "cell_type": "code",
   "execution_count": 40,
   "id": "7b71aa7e",
   "metadata": {},
   "outputs": [
    {
     "data": {
      "text/plain": [
       "3"
      ]
     },
     "execution_count": 40,
     "metadata": {},
     "output_type": "execute_result"
    }
   ],
   "source": [
    "len(\"abc\")"
   ]
  },
  {
   "cell_type": "code",
   "execution_count": 42,
   "id": "0223dadd",
   "metadata": {},
   "outputs": [
    {
     "data": {
      "text/plain": [
       "4"
      ]
     },
     "execution_count": 42,
     "metadata": {},
     "output_type": "execute_result"
    }
   ],
   "source": [
    "len(\"ABCD\")"
   ]
  },
  {
   "cell_type": "code",
   "execution_count": 43,
   "id": "981a79f9",
   "metadata": {},
   "outputs": [
    {
     "data": {
      "text/plain": [
       "4"
      ]
     },
     "execution_count": 43,
     "metadata": {},
     "output_type": "execute_result"
    }
   ],
   "source": [
    "len(\"pune\")"
   ]
  },
  {
   "cell_type": "code",
   "execution_count": 44,
   "id": "a9637030",
   "metadata": {},
   "outputs": [
    {
     "data": {
      "text/plain": [
       "9"
      ]
     },
     "execution_count": 44,
     "metadata": {},
     "output_type": "execute_result"
    }
   ],
   "source": [
    "len(\"pune\"+\"noida\")"
   ]
  },
  {
   "cell_type": "code",
   "execution_count": 49,
   "id": "f7acee93",
   "metadata": {},
   "outputs": [
    {
     "data": {
      "text/plain": [
       "'NEWYORK'"
      ]
     },
     "execution_count": 49,
     "metadata": {},
     "output_type": "execute_result"
    }
   ],
   "source": [
    "city=\"NEWYORK\"\n",
    "city"
   ]
  },
  {
   "cell_type": "code",
   "execution_count": 50,
   "id": "7e9acc1c",
   "metadata": {},
   "outputs": [
    {
     "data": {
      "text/plain": [
       "4"
      ]
     },
     "execution_count": 50,
     "metadata": {},
     "output_type": "execute_result"
    }
   ],
   "source": [
    "len(\"city\")"
   ]
  },
  {
   "cell_type": "code",
   "execution_count": 51,
   "id": "e3ab9801",
   "metadata": {},
   "outputs": [
    {
     "data": {
      "text/plain": [
       "7"
      ]
     },
     "execution_count": 51,
     "metadata": {},
     "output_type": "execute_result"
    }
   ],
   "source": [
    "len(city)"
   ]
  },
  {
   "cell_type": "code",
   "execution_count": 53,
   "id": "531ed69c",
   "metadata": {},
   "outputs": [
    {
     "data": {
      "text/plain": [
       "'Andrew'"
      ]
     },
     "execution_count": 53,
     "metadata": {},
     "output_type": "execute_result"
    }
   ],
   "source": [
    "Name=\"\"\"Andrew\"\"\"\n",
    "Name"
   ]
  },
  {
   "cell_type": "code",
   "execution_count": 54,
   "id": "7a400aa6",
   "metadata": {},
   "outputs": [
    {
     "data": {
      "text/plain": [
       "'Harsh'"
      ]
     },
     "execution_count": 54,
     "metadata": {},
     "output_type": "execute_result"
    }
   ],
   "source": [
    "Name=\"Harsh\"\n",
    "Name"
   ]
  },
  {
   "cell_type": "code",
   "execution_count": 55,
   "id": "f9dfc38e",
   "metadata": {},
   "outputs": [
    {
     "data": {
      "text/plain": [
       "'Rakesh'"
      ]
     },
     "execution_count": 55,
     "metadata": {},
     "output_type": "execute_result"
    }
   ],
   "source": [
    "Name='Rakesh'\n",
    "Name"
   ]
  },
  {
   "cell_type": "code",
   "execution_count": 56,
   "id": "86e853e2",
   "metadata": {},
   "outputs": [
    {
     "data": {
      "text/plain": [
       "'Mark'"
      ]
     },
     "execution_count": 56,
     "metadata": {},
     "output_type": "execute_result"
    }
   ],
   "source": [
    "Name=\"Mark\"\n",
    "Name"
   ]
  },
  {
   "cell_type": "code",
   "execution_count": null,
   "id": "05b6d202",
   "metadata": {},
   "outputs": [],
   "source": [
    "# String Concatenation"
   ]
  },
  {
   "cell_type": "code",
   "execution_count": 57,
   "id": "5e631baa",
   "metadata": {},
   "outputs": [
    {
     "data": {
      "text/plain": [
       "'ABCD'"
      ]
     },
     "execution_count": 57,
     "metadata": {},
     "output_type": "execute_result"
    }
   ],
   "source": [
    "'AB'+\"CD\""
   ]
  },
  {
   "cell_type": "code",
   "execution_count": 58,
   "id": "357100e3",
   "metadata": {},
   "outputs": [
    {
     "data": {
      "text/plain": [
       "'DataScience'"
      ]
     },
     "execution_count": 58,
     "metadata": {},
     "output_type": "execute_result"
    }
   ],
   "source": [
    "\"Data\"+\"Science\""
   ]
  },
  {
   "cell_type": "code",
   "execution_count": 59,
   "id": "ab0dca4c",
   "metadata": {},
   "outputs": [
    {
     "data": {
      "text/plain": [
       "'AnalyticalWorld'"
      ]
     },
     "execution_count": 59,
     "metadata": {},
     "output_type": "execute_result"
    }
   ],
   "source": [
    "\"Analytical\"+\"World\""
   ]
  },
  {
   "cell_type": "code",
   "execution_count": 60,
   "id": "8d50c14d",
   "metadata": {},
   "outputs": [
    {
     "data": {
      "text/plain": [
       "'Vector Calculus'"
      ]
     },
     "execution_count": 60,
     "metadata": {},
     "output_type": "execute_result"
    }
   ],
   "source": [
    "\"Vector\"+\" \"+\"Calculus\""
   ]
  },
  {
   "cell_type": "code",
   "execution_count": 63,
   "id": "f0fc6b5b",
   "metadata": {},
   "outputs": [
    {
     "data": {
      "text/plain": [
       "' Machine  Learning  is  a  part  of  Data Science '"
      ]
     },
     "execution_count": 63,
     "metadata": {},
     "output_type": "execute_result"
    }
   ],
   "source": [
    "\" Machine \" + \" Learning \" + \" is \" + \" a \" + \" part \" + \" of \" + \" Data Science \""
   ]
  },
  {
   "cell_type": "code",
   "execution_count": 64,
   "id": "5478618e",
   "metadata": {},
   "outputs": [
    {
     "data": {
      "text/plain": [
       "' Python  is  essential  for both  Data Science  as well as Data Analytics '"
      ]
     },
     "execution_count": 64,
     "metadata": {},
     "output_type": "execute_result"
    }
   ],
   "source": [
    "\" Python \"+\" is \"+\" essential \"+\" for both \"+\" Data Science \"+\" as well as\"+\" Data Analytics \""
   ]
  },
  {
   "cell_type": "code",
   "execution_count": 66,
   "id": "f2491913",
   "metadata": {},
   "outputs": [
    {
     "data": {
      "text/plain": [
       "' Twitter  is  acquired  by  Tesla CEO  ELON  MUSK '"
      ]
     },
     "execution_count": 66,
     "metadata": {},
     "output_type": "execute_result"
    }
   ],
   "source": [
    "\" Twitter \"+\" is \"+\" acquired \"+\" by \"+\" Tesla CEO \"+\" ELON \"+\" MUSK \""
   ]
  },
  {
   "cell_type": "code",
   "execution_count": null,
   "id": "abeb7250",
   "metadata": {},
   "outputs": [],
   "source": [
    "# Area of rectangle"
   ]
  },
  {
   "cell_type": "code",
   "execution_count": 1,
   "id": "60acce42",
   "metadata": {},
   "outputs": [
    {
     "name": "stdout",
     "output_type": "stream",
     "text": [
      "area\n",
      "area of rcetangle= 300\n",
      "Area of the rectangle with length= 50 and breadth= 6 is 300\n"
     ]
    }
   ],
   "source": [
    "length=50\n",
    "breadth=6\n",
    "area=length*breadth\n",
    "print(\"area\")\n",
    "print(\"area of rcetangle=\",area)\n",
    "print(\"Area of the rectangle with length=\",length,\"and breadth=\",breadth,\"is\",area)"
   ]
  },
  {
   "cell_type": "code",
   "execution_count": null,
   "id": "d37d308a",
   "metadata": {},
   "outputs": [],
   "source": [
    "# Area of circle"
   ]
  },
  {
   "cell_type": "code",
   "execution_count": 2,
   "id": "4eb9af9a",
   "metadata": {},
   "outputs": [
    {
     "name": "stdout",
     "output_type": "stream",
     "text": [
      "The area of circle is  200.96\n"
     ]
    }
   ],
   "source": [
    "pi=3.14\n",
    "radius=8\n",
    "area=pi*(radius**2)\n",
    "print(\"The area of circle is \",area)"
   ]
  },
  {
   "cell_type": "markdown",
   "id": "86a90954",
   "metadata": {},
   "source": [
    "Typecasting"
   ]
  },
  {
   "cell_type": "code",
   "execution_count": 3,
   "id": "0f79c0ba",
   "metadata": {},
   "outputs": [
    {
     "data": {
      "text/plain": [
       "int"
      ]
     },
     "execution_count": 3,
     "metadata": {},
     "output_type": "execute_result"
    }
   ],
   "source": [
    "a=25\n",
    "type(a)"
   ]
  },
  {
   "cell_type": "code",
   "execution_count": 4,
   "id": "f3cfe2a7",
   "metadata": {},
   "outputs": [
    {
     "data": {
      "text/plain": [
       "89"
      ]
     },
     "execution_count": 4,
     "metadata": {},
     "output_type": "execute_result"
    }
   ],
   "source": [
    "b=89\n",
    "b"
   ]
  },
  {
   "cell_type": "code",
   "execution_count": 5,
   "id": "b69c72f6",
   "metadata": {},
   "outputs": [
    {
     "data": {
      "text/plain": [
       "int"
      ]
     },
     "execution_count": 5,
     "metadata": {},
     "output_type": "execute_result"
    }
   ],
   "source": [
    "type(b)"
   ]
  },
  {
   "cell_type": "code",
   "execution_count": 6,
   "id": "d73df7e8",
   "metadata": {},
   "outputs": [
    {
     "data": {
      "text/plain": [
       "888.5"
      ]
     },
     "execution_count": 6,
     "metadata": {},
     "output_type": "execute_result"
    }
   ],
   "source": [
    "Fees=888.50\n",
    "Fees"
   ]
  },
  {
   "cell_type": "code",
   "execution_count": 8,
   "id": "19cab7d8",
   "metadata": {},
   "outputs": [
    {
     "data": {
      "text/plain": [
       "float"
      ]
     },
     "execution_count": 8,
     "metadata": {},
     "output_type": "execute_result"
    }
   ],
   "source": [
    "type(Fees)"
   ]
  },
  {
   "cell_type": "code",
   "execution_count": 9,
   "id": "3b47aad1",
   "metadata": {},
   "outputs": [],
   "source": [
    "j=True"
   ]
  },
  {
   "cell_type": "code",
   "execution_count": 10,
   "id": "e92924e8",
   "metadata": {},
   "outputs": [
    {
     "data": {
      "text/plain": [
       "True"
      ]
     },
     "execution_count": 10,
     "metadata": {},
     "output_type": "execute_result"
    }
   ],
   "source": [
    "j"
   ]
  },
  {
   "cell_type": "code",
   "execution_count": 11,
   "id": "f0afade5",
   "metadata": {},
   "outputs": [
    {
     "data": {
      "text/plain": [
       "bool"
      ]
     },
     "execution_count": 11,
     "metadata": {},
     "output_type": "execute_result"
    }
   ],
   "source": [
    "type(j)"
   ]
  },
  {
   "cell_type": "code",
   "execution_count": 12,
   "id": "3669bd5b",
   "metadata": {},
   "outputs": [
    {
     "data": {
      "text/plain": [
       "'India'"
      ]
     },
     "execution_count": 12,
     "metadata": {},
     "output_type": "execute_result"
    }
   ],
   "source": [
    "Country=\"India\"\n",
    "Country"
   ]
  },
  {
   "cell_type": "code",
   "execution_count": 13,
   "id": "768d7b3b",
   "metadata": {},
   "outputs": [
    {
     "data": {
      "text/plain": [
       "str"
      ]
     },
     "execution_count": 13,
     "metadata": {},
     "output_type": "execute_result"
    }
   ],
   "source": [
    "type(\"Country\")"
   ]
  },
  {
   "cell_type": "code",
   "execution_count": 14,
   "id": "458ea9c7",
   "metadata": {},
   "outputs": [
    {
     "data": {
      "text/plain": [
       "str"
      ]
     },
     "execution_count": 14,
     "metadata": {},
     "output_type": "execute_result"
    }
   ],
   "source": [
    "type(Country)"
   ]
  },
  {
   "cell_type": "code",
   "execution_count": 15,
   "id": "e30adf80",
   "metadata": {},
   "outputs": [
    {
     "data": {
      "text/plain": [
       "float"
      ]
     },
     "execution_count": 15,
     "metadata": {},
     "output_type": "execute_result"
    }
   ],
   "source": [
    "type(87.55)"
   ]
  },
  {
   "cell_type": "code",
   "execution_count": 16,
   "id": "c4e73f85",
   "metadata": {},
   "outputs": [
    {
     "data": {
      "text/plain": [
       "int"
      ]
     },
     "execution_count": 16,
     "metadata": {},
     "output_type": "execute_result"
    }
   ],
   "source": [
    "type(29)"
   ]
  },
  {
   "cell_type": "code",
   "execution_count": 17,
   "id": "b40bc7ad",
   "metadata": {},
   "outputs": [
    {
     "data": {
      "text/plain": [
       "True"
      ]
     },
     "execution_count": 17,
     "metadata": {},
     "output_type": "execute_result"
    }
   ],
   "source": [
    "10>7"
   ]
  },
  {
   "cell_type": "code",
   "execution_count": 18,
   "id": "db2bac29",
   "metadata": {},
   "outputs": [
    {
     "data": {
      "text/plain": [
       "False"
      ]
     },
     "execution_count": 18,
     "metadata": {},
     "output_type": "execute_result"
    }
   ],
   "source": [
    "80>100"
   ]
  },
  {
   "cell_type": "code",
   "execution_count": 19,
   "id": "9601cbce",
   "metadata": {},
   "outputs": [
    {
     "data": {
      "text/plain": [
       "True"
      ]
     },
     "execution_count": 19,
     "metadata": {},
     "output_type": "execute_result"
    }
   ],
   "source": [
    "100==100"
   ]
  },
  {
   "cell_type": "code",
   "execution_count": 20,
   "id": "5a91df63",
   "metadata": {},
   "outputs": [
    {
     "data": {
      "text/plain": [
       "True"
      ]
     },
     "execution_count": 20,
     "metadata": {},
     "output_type": "execute_result"
    }
   ],
   "source": [
    "100!=500"
   ]
  },
  {
   "cell_type": "code",
   "execution_count": 21,
   "id": "c833e287",
   "metadata": {},
   "outputs": [
    {
     "data": {
      "text/plain": [
       "False"
      ]
     },
     "execution_count": 21,
     "metadata": {},
     "output_type": "execute_result"
    }
   ],
   "source": [
    "True and False"
   ]
  },
  {
   "cell_type": "code",
   "execution_count": 22,
   "id": "0e00369b",
   "metadata": {},
   "outputs": [
    {
     "data": {
      "text/plain": [
       "True"
      ]
     },
     "execution_count": 22,
     "metadata": {},
     "output_type": "execute_result"
    }
   ],
   "source": [
    "True and True"
   ]
  },
  {
   "cell_type": "code",
   "execution_count": 23,
   "id": "b32b19c7",
   "metadata": {},
   "outputs": [
    {
     "data": {
      "text/plain": [
       "True"
      ]
     },
     "execution_count": 23,
     "metadata": {},
     "output_type": "execute_result"
    }
   ],
   "source": [
    "True or False"
   ]
  },
  {
   "cell_type": "code",
   "execution_count": 24,
   "id": "3181d1ec",
   "metadata": {},
   "outputs": [
    {
     "data": {
      "text/plain": [
       "False"
      ]
     },
     "execution_count": 24,
     "metadata": {},
     "output_type": "execute_result"
    }
   ],
   "source": [
    "not True"
   ]
  },
  {
   "cell_type": "code",
   "execution_count": 25,
   "id": "09c42f91",
   "metadata": {},
   "outputs": [
    {
     "data": {
      "text/plain": [
       "True"
      ]
     },
     "execution_count": 25,
     "metadata": {},
     "output_type": "execute_result"
    }
   ],
   "source": [
    "not False"
   ]
  },
  {
   "cell_type": "code",
   "execution_count": 26,
   "id": "1311a3f3",
   "metadata": {},
   "outputs": [
    {
     "data": {
      "text/plain": [
       "True"
      ]
     },
     "execution_count": 26,
     "metadata": {},
     "output_type": "execute_result"
    }
   ],
   "source": [
    "True is True"
   ]
  },
  {
   "cell_type": "code",
   "execution_count": 27,
   "id": "43794619",
   "metadata": {},
   "outputs": [
    {
     "data": {
      "text/plain": [
       "False"
      ]
     },
     "execution_count": 27,
     "metadata": {},
     "output_type": "execute_result"
    }
   ],
   "source": [
    "True is False"
   ]
  },
  {
   "cell_type": "code",
   "execution_count": 28,
   "id": "4e769bc5",
   "metadata": {},
   "outputs": [
    {
     "name": "stderr",
     "output_type": "stream",
     "text": [
      "<>:1: SyntaxWarning: \"is\" with a literal. Did you mean \"==\"?\n",
      "<>:1: SyntaxWarning: \"is\" with a literal. Did you mean \"==\"?\n",
      "<ipython-input-28-e2fa3e0bad77>:1: SyntaxWarning: \"is\" with a literal. Did you mean \"==\"?\n",
      "  'a' is 'a'\n"
     ]
    },
    {
     "data": {
      "text/plain": [
       "True"
      ]
     },
     "execution_count": 28,
     "metadata": {},
     "output_type": "execute_result"
    }
   ],
   "source": [
    "'a' is 'a'"
   ]
  },
  {
   "cell_type": "code",
   "execution_count": 30,
   "id": "c0b03a27",
   "metadata": {},
   "outputs": [
    {
     "data": {
      "text/plain": [
       "True"
      ]
     },
     "execution_count": 30,
     "metadata": {},
     "output_type": "execute_result"
    }
   ],
   "source": [
    "'k'=='k'"
   ]
  },
  {
   "cell_type": "code",
   "execution_count": 33,
   "id": "bde7ebce",
   "metadata": {},
   "outputs": [
    {
     "data": {
      "text/plain": [
       "2"
      ]
     },
     "execution_count": 33,
     "metadata": {},
     "output_type": "execute_result"
    }
   ],
   "source": [
    "True+True"
   ]
  },
  {
   "cell_type": "code",
   "execution_count": 34,
   "id": "18ece9c0",
   "metadata": {},
   "outputs": [
    {
     "data": {
      "text/plain": [
       "1"
      ]
     },
     "execution_count": 34,
     "metadata": {},
     "output_type": "execute_result"
    }
   ],
   "source": [
    "True + False"
   ]
  },
  {
   "cell_type": "code",
   "execution_count": 35,
   "id": "afdd3078",
   "metadata": {},
   "outputs": [
    {
     "data": {
      "text/plain": [
       "1"
      ]
     },
     "execution_count": 35,
     "metadata": {},
     "output_type": "execute_result"
    }
   ],
   "source": [
    "True-False"
   ]
  },
  {
   "cell_type": "code",
   "execution_count": 36,
   "id": "4fdc86ea",
   "metadata": {},
   "outputs": [
    {
     "data": {
      "text/plain": [
       "-1"
      ]
     },
     "execution_count": 36,
     "metadata": {},
     "output_type": "execute_result"
    }
   ],
   "source": [
    "False-True"
   ]
  },
  {
   "cell_type": "code",
   "execution_count": 37,
   "id": "2e6c430b",
   "metadata": {},
   "outputs": [
    {
     "data": {
      "text/plain": [
       "True"
      ]
     },
     "execution_count": 37,
     "metadata": {},
     "output_type": "execute_result"
    }
   ],
   "source": [
    "True and False or True"
   ]
  },
  {
   "cell_type": "code",
   "execution_count": 38,
   "id": "33a32c75",
   "metadata": {},
   "outputs": [
    {
     "data": {
      "text/plain": [
       "str"
      ]
     },
     "execution_count": 38,
     "metadata": {},
     "output_type": "execute_result"
    }
   ],
   "source": [
    "name1='xyz'\n",
    "type(name1)"
   ]
  },
  {
   "cell_type": "code",
   "execution_count": 39,
   "id": "21fbef8a",
   "metadata": {},
   "outputs": [
    {
     "ename": "TypeError",
     "evalue": "can only concatenate str (not \"int\") to str",
     "output_type": "error",
     "traceback": [
      "\u001b[1;31m---------------------------------------------------------------------------\u001b[0m",
      "\u001b[1;31mTypeError\u001b[0m                                 Traceback (most recent call last)",
      "\u001b[1;32m<ipython-input-39-c89f503cb48f>\u001b[0m in \u001b[0;36m<module>\u001b[1;34m\u001b[0m\n\u001b[1;32m----> 1\u001b[1;33m \u001b[1;34m'Day'\u001b[0m\u001b[1;33m+\u001b[0m\u001b[1;36m1\u001b[0m\u001b[1;33m\u001b[0m\u001b[1;33m\u001b[0m\u001b[0m\n\u001b[0m",
      "\u001b[1;31mTypeError\u001b[0m: can only concatenate str (not \"int\") to str"
     ]
    }
   ],
   "source": [
    "'Day'+1"
   ]
  },
  {
   "cell_type": "code",
   "execution_count": 40,
   "id": "0eab3ca2",
   "metadata": {},
   "outputs": [
    {
     "ename": "ValueError",
     "evalue": "invalid literal for int() with base 10: 'Day'",
     "output_type": "error",
     "traceback": [
      "\u001b[1;31m---------------------------------------------------------------------------\u001b[0m",
      "\u001b[1;31mValueError\u001b[0m                                Traceback (most recent call last)",
      "\u001b[1;32m<ipython-input-40-2d97e3c93ee7>\u001b[0m in \u001b[0;36m<module>\u001b[1;34m\u001b[0m\n\u001b[1;32m----> 1\u001b[1;33m \u001b[0mint\u001b[0m\u001b[1;33m(\u001b[0m\u001b[1;34m'Day'\u001b[0m\u001b[1;33m)\u001b[0m\u001b[1;33m+\u001b[0m\u001b[1;36m1\u001b[0m\u001b[1;33m\u001b[0m\u001b[1;33m\u001b[0m\u001b[0m\n\u001b[0m",
      "\u001b[1;31mValueError\u001b[0m: invalid literal for int() with base 10: 'Day'"
     ]
    }
   ],
   "source": [
    "int('Day')+1"
   ]
  },
  {
   "cell_type": "code",
   "execution_count": 41,
   "id": "8ffcc7e8",
   "metadata": {},
   "outputs": [
    {
     "data": {
      "text/plain": [
       "'Day1'"
      ]
     },
     "execution_count": 41,
     "metadata": {},
     "output_type": "execute_result"
    }
   ],
   "source": [
    "'Day'+str(1)"
   ]
  },
  {
   "cell_type": "code",
   "execution_count": null,
   "id": "31fa759e",
   "metadata": {},
   "outputs": [],
   "source": []
  }
 ],
 "metadata": {
  "kernelspec": {
   "display_name": "Python 3",
   "language": "python",
   "name": "python3"
  },
  "language_info": {
   "codemirror_mode": {
    "name": "ipython",
    "version": 3
   },
   "file_extension": ".py",
   "mimetype": "text/x-python",
   "name": "python",
   "nbconvert_exporter": "python",
   "pygments_lexer": "ipython3",
   "version": "3.8.8"
  }
 },
 "nbformat": 4,
 "nbformat_minor": 5
}

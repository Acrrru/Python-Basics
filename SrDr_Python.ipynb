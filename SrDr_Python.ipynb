{
 "cells": [
  {
   "cell_type": "markdown",
   "id": "3e2dae0d",
   "metadata": {},
   "source": [
    "# Serialization and Deserialization:-"
   ]
  },
  {
   "cell_type": "markdown",
   "id": "6e67ea6f",
   "metadata": {},
   "source": [
    "Serialization(pickle)"
   ]
  },
  {
   "cell_type": "code",
   "execution_count": 1,
   "id": "40efe5ce",
   "metadata": {},
   "outputs": [],
   "source": [
    "import pickle"
   ]
  },
  {
   "cell_type": "code",
   "execution_count": 2,
   "id": "0ce34066",
   "metadata": {},
   "outputs": [],
   "source": [
    "flower_dict={1:'Rose',2:'Lily',3:'Lotus',4:'tulip'}"
   ]
  },
  {
   "cell_type": "code",
   "execution_count": 3,
   "id": "6a3f42c3",
   "metadata": {},
   "outputs": [],
   "source": [
    "outfile=open('flower.obj','wb')"
   ]
  },
  {
   "cell_type": "code",
   "execution_count": 4,
   "id": "8bb4441e",
   "metadata": {},
   "outputs": [],
   "source": [
    "pickle.dump(flower_dict,outfile)\n",
    "outfile.close()"
   ]
  },
  {
   "cell_type": "markdown",
   "id": "298568b9",
   "metadata": {},
   "source": [
    "Deserialization(Unpickle)"
   ]
  },
  {
   "cell_type": "code",
   "execution_count": 5,
   "id": "47ea1304",
   "metadata": {},
   "outputs": [],
   "source": [
    "infile=open('flower.obj','rb')"
   ]
  },
  {
   "cell_type": "code",
   "execution_count": 6,
   "id": "9d1aacea",
   "metadata": {},
   "outputs": [],
   "source": [
    "new_dict=pickle.load(infile)"
   ]
  },
  {
   "cell_type": "code",
   "execution_count": 7,
   "id": "9bcc94e5",
   "metadata": {},
   "outputs": [],
   "source": [
    "infile.close()"
   ]
  },
  {
   "cell_type": "code",
   "execution_count": 8,
   "id": "b05dc8f4",
   "metadata": {},
   "outputs": [
    {
     "name": "stdout",
     "output_type": "stream",
     "text": [
      "{1: 'Rose', 2: 'Lily', 3: 'Lotus', 4: 'tulip'}\n"
     ]
    }
   ],
   "source": [
    "print(new_dict)"
   ]
  },
  {
   "cell_type": "code",
   "execution_count": 9,
   "id": "32bff26c",
   "metadata": {},
   "outputs": [
    {
     "name": "stdout",
     "output_type": "stream",
     "text": [
      "True\n"
     ]
    }
   ],
   "source": [
    "print(new_dict==flower_dict)"
   ]
  },
  {
   "cell_type": "code",
   "execution_count": 10,
   "id": "78030027",
   "metadata": {},
   "outputs": [
    {
     "name": "stdout",
     "output_type": "stream",
     "text": [
      "<class 'dict'>\n"
     ]
    }
   ],
   "source": [
    "print(type(new_dict))"
   ]
  },
  {
   "cell_type": "markdown",
   "id": "986bb460",
   "metadata": {},
   "source": [
    "Exceptions:-\n",
    "    \n",
    "> An exception is defined as an unusal condition in a program resulting in the interruption in the flow of program.\n",
    "> Exception is a Python object that represents an error.\n",
    "> Few errors are as below:-\n",
    "    \n",
    "    > ZeroDivisionError:- It occurs when a number is divided by zero.\n",
    "    > NameError:- It occurs when a name is not found.It may be local/global.\n",
    "    > IdentationError:- If incorrect identation(extra space) is given.\n",
    "    > IOError(Input-Output Error):- It occurs when Input-Output operation fails.    "
   ]
  },
  {
   "cell_type": "code",
   "execution_count": 11,
   "id": "cbfc51f9",
   "metadata": {},
   "outputs": [
    {
     "ename": "ZeroDivisionError",
     "evalue": "division by zero",
     "output_type": "error",
     "traceback": [
      "\u001b[1;31m---------------------------------------------------------------------------\u001b[0m",
      "\u001b[1;31mZeroDivisionError\u001b[0m                         Traceback (most recent call last)",
      "\u001b[1;32m<ipython-input-11-e574edb36883>\u001b[0m in \u001b[0;36m<module>\u001b[1;34m\u001b[0m\n\u001b[1;32m----> 1\u001b[1;33m \u001b[1;36m10\u001b[0m\u001b[1;33m/\u001b[0m\u001b[1;36m0\u001b[0m\u001b[1;33m\u001b[0m\u001b[1;33m\u001b[0m\u001b[0m\n\u001b[0m",
      "\u001b[1;31mZeroDivisionError\u001b[0m: division by zero"
     ]
    }
   ],
   "source": [
    "10/0"
   ]
  },
  {
   "cell_type": "code",
   "execution_count": 12,
   "id": "48ae2da4",
   "metadata": {},
   "outputs": [
    {
     "ename": "TypeError",
     "evalue": "can only concatenate str (not \"int\") to str",
     "output_type": "error",
     "traceback": [
      "\u001b[1;31m---------------------------------------------------------------------------\u001b[0m",
      "\u001b[1;31mTypeError\u001b[0m                                 Traceback (most recent call last)",
      "\u001b[1;32m<ipython-input-12-22006f040670>\u001b[0m in \u001b[0;36m<module>\u001b[1;34m\u001b[0m\n\u001b[1;32m----> 1\u001b[1;33m \u001b[1;34m'9'\u001b[0m\u001b[1;33m+\u001b[0m\u001b[1;36m9\u001b[0m\u001b[1;33m\u001b[0m\u001b[1;33m\u001b[0m\u001b[0m\n\u001b[0m",
      "\u001b[1;31mTypeError\u001b[0m: can only concatenate str (not \"int\") to str"
     ]
    }
   ],
   "source": [
    "'9'+9"
   ]
  },
  {
   "cell_type": "code",
   "execution_count": 13,
   "id": "dc060b55",
   "metadata": {},
   "outputs": [
    {
     "ename": "NameError",
     "evalue": "name 'number' is not defined",
     "output_type": "error",
     "traceback": [
      "\u001b[1;31m---------------------------------------------------------------------------\u001b[0m",
      "\u001b[1;31mNameError\u001b[0m                                 Traceback (most recent call last)",
      "\u001b[1;32m<ipython-input-13-88b4b9317358>\u001b[0m in \u001b[0;36m<module>\u001b[1;34m\u001b[0m\n\u001b[1;32m----> 1\u001b[1;33m \u001b[1;36m8\u001b[0m\u001b[1;33m+\u001b[0m\u001b[0mnumber\u001b[0m\u001b[1;33m*\u001b[0m\u001b[1;36m2\u001b[0m\u001b[1;33m\u001b[0m\u001b[1;33m\u001b[0m\u001b[0m\n\u001b[0m",
      "\u001b[1;31mNameError\u001b[0m: name 'number' is not defined"
     ]
    }
   ],
   "source": [
    "8+number*2"
   ]
  },
  {
   "cell_type": "markdown",
   "id": "86277a8e",
   "metadata": {},
   "source": [
    "Handling Exceptions:-"
   ]
  },
  {
   "cell_type": "code",
   "execution_count": 15,
   "id": "b70dc80f",
   "metadata": {},
   "outputs": [
    {
     "name": "stdout",
     "output_type": "stream",
     "text": [
      "Handling run time error: division by zero\n"
     ]
    }
   ],
   "source": [
    "try:\n",
    "    79/0\n",
    "except ZeroDivisionError as err:\n",
    "    print('Handling run time error:',err)"
   ]
  },
  {
   "cell_type": "code",
   "execution_count": 16,
   "id": "622faa60",
   "metadata": {},
   "outputs": [
    {
     "name": "stdout",
     "output_type": "stream",
     "text": [
      "Handling run time error: name 'm' is not defined\n"
     ]
    }
   ],
   "source": [
    "try:\n",
    "    8+m*2\n",
    "except NameError as err:\n",
    "    print('Handling run time error:',err)"
   ]
  },
  {
   "cell_type": "code",
   "execution_count": 17,
   "id": "783f8360",
   "metadata": {},
   "outputs": [],
   "source": [
    "def divfunc():\n",
    "    \n",
    "    a=80\n",
    "    b=0\n",
    "    c=a/b\n",
    "    print(\"The value of c=\",c)"
   ]
  },
  {
   "cell_type": "code",
   "execution_count": 19,
   "id": "8c4fa976",
   "metadata": {},
   "outputs": [
    {
     "name": "stdout",
     "output_type": "stream",
     "text": [
      "Handling run time error: division by zero\n"
     ]
    }
   ],
   "source": [
    "try:\n",
    "    divfunc()\n",
    "except ZeroDivisionError as err:\n",
    "    print('Handling run time error:',err)"
   ]
  },
  {
   "cell_type": "code",
   "execution_count": 22,
   "id": "4cd1048c",
   "metadata": {},
   "outputs": [],
   "source": [
    "def divide(x,y):\n",
    "    \n",
    "    try:\n",
    "        result=x/y\n",
    "    except ZeroDivisionError as err:\n",
    "        print('division by zero')\n",
    "    else:\n",
    "        print('The result is:',result)\n",
    "    finally:\n",
    "        print('executing finally clause')"
   ]
  },
  {
   "cell_type": "code",
   "execution_count": 23,
   "id": "b3de190e",
   "metadata": {},
   "outputs": [
    {
     "name": "stdout",
     "output_type": "stream",
     "text": [
      "The result is: 5.0\n",
      "executing finally clause\n"
     ]
    }
   ],
   "source": [
    "divide(25,5)"
   ]
  },
  {
   "cell_type": "code",
   "execution_count": 24,
   "id": "627d4b34",
   "metadata": {},
   "outputs": [
    {
     "name": "stdout",
     "output_type": "stream",
     "text": [
      "division by zero\n",
      "executing finally clause\n"
     ]
    }
   ],
   "source": [
    "divide(30,0)"
   ]
  },
  {
   "cell_type": "markdown",
   "id": "42ed39e9",
   "metadata": {},
   "source": [
    "File Input-output operations:-"
   ]
  },
  {
   "cell_type": "code",
   "execution_count": 1,
   "id": "4c960f9a",
   "metadata": {},
   "outputs": [
    {
     "name": "stdout",
     "output_type": "stream",
     "text": [
      "File not found\n"
     ]
    }
   ],
   "source": [
    "try:\n",
    "    fileptr=open('demofile.txt','r')\n",
    "except IOError:\n",
    "    print('File not found')\n",
    "else:\n",
    "    print('The file opened successfully')\n",
    "    print(fileptr.read())\n",
    "    fileptr.close()"
   ]
  },
  {
   "cell_type": "code",
   "execution_count": 2,
   "id": "6e7ac220",
   "metadata": {},
   "outputs": [
    {
     "name": "stdout",
     "output_type": "stream",
     "text": [
      "The file opened successfully\n",
      "23\n"
     ]
    }
   ],
   "source": [
    "try:\n",
    "    appendfile=open('demofile.txt','a')\n",
    "except IOError:\n",
    "    print('File not found')\n",
    "else:    \n",
    "    print('The file opened successfully')\n",
    "    print(appendfile.write('\\n This is the next line'))"
   ]
  },
  {
   "cell_type": "code",
   "execution_count": 10,
   "id": "786c5451",
   "metadata": {},
   "outputs": [],
   "source": [
    "def askint():\n",
    "    \n",
    "    try:\n",
    "        val=int(input('please enter an integer:'))\n",
    "    except:\n",
    "        print('Looks like you did not enter an integer!')\n",
    "    finally:\n",
    "        print('Finally, I executed!')\n",
    "        print(val)"
   ]
  },
  {
   "cell_type": "code",
   "execution_count": 11,
   "id": "2aadc7bc",
   "metadata": {},
   "outputs": [
    {
     "name": "stdout",
     "output_type": "stream",
     "text": [
      "please enter an integer:abc\n",
      "Looks like you did not enter an integer!\n",
      "Finally, I executed!\n"
     ]
    },
    {
     "ename": "UnboundLocalError",
     "evalue": "local variable 'val' referenced before assignment",
     "output_type": "error",
     "traceback": [
      "\u001b[1;31m---------------------------------------------------------------------------\u001b[0m",
      "\u001b[1;31mUnboundLocalError\u001b[0m                         Traceback (most recent call last)",
      "\u001b[1;32m<ipython-input-11-cc291aa76c10>\u001b[0m in \u001b[0;36m<module>\u001b[1;34m\u001b[0m\n\u001b[1;32m----> 1\u001b[1;33m \u001b[0maskint\u001b[0m\u001b[1;33m(\u001b[0m\u001b[1;33m)\u001b[0m\u001b[1;33m\u001b[0m\u001b[1;33m\u001b[0m\u001b[0m\n\u001b[0m",
      "\u001b[1;32m<ipython-input-10-944291dcc193>\u001b[0m in \u001b[0;36maskint\u001b[1;34m()\u001b[0m\n\u001b[0;32m      7\u001b[0m     \u001b[1;32mfinally\u001b[0m\u001b[1;33m:\u001b[0m\u001b[1;33m\u001b[0m\u001b[1;33m\u001b[0m\u001b[0m\n\u001b[0;32m      8\u001b[0m         \u001b[0mprint\u001b[0m\u001b[1;33m(\u001b[0m\u001b[1;34m'Finally, I executed!'\u001b[0m\u001b[1;33m)\u001b[0m\u001b[1;33m\u001b[0m\u001b[1;33m\u001b[0m\u001b[0m\n\u001b[1;32m----> 9\u001b[1;33m         \u001b[0mprint\u001b[0m\u001b[1;33m(\u001b[0m\u001b[0mval\u001b[0m\u001b[1;33m)\u001b[0m\u001b[1;33m\u001b[0m\u001b[1;33m\u001b[0m\u001b[0m\n\u001b[0m",
      "\u001b[1;31mUnboundLocalError\u001b[0m: local variable 'val' referenced before assignment"
     ]
    }
   ],
   "source": [
    "askint()"
   ]
  },
  {
   "cell_type": "code",
   "execution_count": 12,
   "id": "3b07e073",
   "metadata": {},
   "outputs": [
    {
     "name": "stdout",
     "output_type": "stream",
     "text": [
      "please enter an integer:50\n",
      "Finally, I executed!\n",
      "50\n"
     ]
    }
   ],
   "source": [
    "askint()"
   ]
  },
  {
   "cell_type": "code",
   "execution_count": 13,
   "id": "4ca7f98d",
   "metadata": {},
   "outputs": [],
   "source": [
    "def askint():\n",
    "    \n",
    "    try:\n",
    "        val=int(input('please enter an integer'))\n",
    "    except:\n",
    "        print('Looks like you did not enter an integer!')\n",
    "        val=int(input('Try again-please enter an integer'))\n",
    "    finally:\n",
    "        print('Finally, I executed!')\n",
    "        print(val)"
   ]
  },
  {
   "cell_type": "code",
   "execution_count": 15,
   "id": "184ca277",
   "metadata": {},
   "outputs": [
    {
     "name": "stdout",
     "output_type": "stream",
     "text": [
      "please enter an integerdfkhdskfh\n",
      "Looks like you did not enter an integer!\n",
      "Try again-please enter an integer56\n",
      "Finally, I executed!\n",
      "56\n"
     ]
    }
   ],
   "source": [
    "askint()"
   ]
  },
  {
   "cell_type": "code",
   "execution_count": 20,
   "id": "ff9e8ffb",
   "metadata": {},
   "outputs": [],
   "source": [
    "def askint():\n",
    "    \n",
    "    while True:\n",
    "        try:\n",
    "            val=int(input('Please enter an integer'))\n",
    "        except:\n",
    "            print('Looks like you did not enter an integer!')\n",
    "            continue\n",
    "        else:\n",
    "            print('Yep that is an integer')\n",
    "            break\n",
    "        finally:\n",
    "            print('Finally , I Executed!')\n",
    "            print(val)"
   ]
  },
  {
   "cell_type": "code",
   "execution_count": 21,
   "id": "27eb9102",
   "metadata": {},
   "outputs": [
    {
     "name": "stdout",
     "output_type": "stream",
     "text": [
      "Please enter an integerabx\n",
      "Looks like you did not enter an integer!\n",
      "Finally , I Executed!\n"
     ]
    },
    {
     "ename": "UnboundLocalError",
     "evalue": "local variable 'val' referenced before assignment",
     "output_type": "error",
     "traceback": [
      "\u001b[1;31m---------------------------------------------------------------------------\u001b[0m",
      "\u001b[1;31mUnboundLocalError\u001b[0m                         Traceback (most recent call last)",
      "\u001b[1;32m<ipython-input-21-cc291aa76c10>\u001b[0m in \u001b[0;36m<module>\u001b[1;34m\u001b[0m\n\u001b[1;32m----> 1\u001b[1;33m \u001b[0maskint\u001b[0m\u001b[1;33m(\u001b[0m\u001b[1;33m)\u001b[0m\u001b[1;33m\u001b[0m\u001b[1;33m\u001b[0m\u001b[0m\n\u001b[0m",
      "\u001b[1;32m<ipython-input-20-eee04d836c45>\u001b[0m in \u001b[0;36maskint\u001b[1;34m()\u001b[0m\n\u001b[0;32m     12\u001b[0m         \u001b[1;32mfinally\u001b[0m\u001b[1;33m:\u001b[0m\u001b[1;33m\u001b[0m\u001b[1;33m\u001b[0m\u001b[0m\n\u001b[0;32m     13\u001b[0m             \u001b[0mprint\u001b[0m\u001b[1;33m(\u001b[0m\u001b[1;34m'Finally , I Executed!'\u001b[0m\u001b[1;33m)\u001b[0m\u001b[1;33m\u001b[0m\u001b[1;33m\u001b[0m\u001b[0m\n\u001b[1;32m---> 14\u001b[1;33m             \u001b[0mprint\u001b[0m\u001b[1;33m(\u001b[0m\u001b[0mval\u001b[0m\u001b[1;33m)\u001b[0m\u001b[1;33m\u001b[0m\u001b[1;33m\u001b[0m\u001b[0m\n\u001b[0m",
      "\u001b[1;31mUnboundLocalError\u001b[0m: local variable 'val' referenced before assignment"
     ]
    }
   ],
   "source": [
    "askint()"
   ]
  },
  {
   "cell_type": "code",
   "execution_count": 22,
   "id": "ba048b6d",
   "metadata": {},
   "outputs": [
    {
     "name": "stdout",
     "output_type": "stream",
     "text": [
      "Please enter an integer1356789234823867\n",
      "Yep that is an integer\n",
      "Finally , I Executed!\n",
      "1356789234823867\n"
     ]
    }
   ],
   "source": [
    "askint()"
   ]
  },
  {
   "cell_type": "code",
   "execution_count": null,
   "id": "46ecf32c",
   "metadata": {},
   "outputs": [],
   "source": []
  }
 ],
 "metadata": {
  "kernelspec": {
   "display_name": "Python 3",
   "language": "python",
   "name": "python3"
  },
  "language_info": {
   "codemirror_mode": {
    "name": "ipython",
    "version": 3
   },
   "file_extension": ".py",
   "mimetype": "text/x-python",
   "name": "python",
   "nbconvert_exporter": "python",
   "pygments_lexer": "ipython3",
   "version": "3.8.8"
  }
 },
 "nbformat": 4,
 "nbformat_minor": 5
}

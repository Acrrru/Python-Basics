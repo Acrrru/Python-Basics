{
 "cells": [
  {
   "cell_type": "markdown",
   "id": "ec244264",
   "metadata": {},
   "source": [
    "# User-Input"
   ]
  },
  {
   "cell_type": "code",
   "execution_count": 6,
   "id": "96c3d895",
   "metadata": {},
   "outputs": [
    {
     "name": "stdout",
     "output_type": "stream",
     "text": [
      "Enter the Country NameIndia\n"
     ]
    }
   ],
   "source": [
    "Country=input(\"Enter the Country Name\")"
   ]
  },
  {
   "cell_type": "code",
   "execution_count": 7,
   "id": "8af5f127",
   "metadata": {},
   "outputs": [
    {
     "data": {
      "text/plain": [
       "'India'"
      ]
     },
     "execution_count": 7,
     "metadata": {},
     "output_type": "execute_result"
    }
   ],
   "source": [
    "Country"
   ]
  },
  {
   "cell_type": "code",
   "execution_count": 8,
   "id": "476c0f9b",
   "metadata": {},
   "outputs": [
    {
     "name": "stdout",
     "output_type": "stream",
     "text": [
      "Enter any Hollywood Movie Name'MATRIX'\n"
     ]
    }
   ],
   "source": [
    "Moviename=input(\"Enter any Hollywood Movie Name\")"
   ]
  },
  {
   "cell_type": "code",
   "execution_count": 9,
   "id": "289bd0c5",
   "metadata": {},
   "outputs": [
    {
     "data": {
      "text/plain": [
       "\"'MATRIX'\""
      ]
     },
     "execution_count": 9,
     "metadata": {},
     "output_type": "execute_result"
    }
   ],
   "source": [
    "Moviename"
   ]
  },
  {
   "cell_type": "code",
   "execution_count": 11,
   "id": "62824eb4",
   "metadata": {},
   "outputs": [
    {
     "name": "stdout",
     "output_type": "stream",
     "text": [
      "Enter any delicious food nameNoodles/Pizza\n"
     ]
    }
   ],
   "source": [
    "Foodname=input(\"Enter any delicious food name\")"
   ]
  },
  {
   "cell_type": "code",
   "execution_count": 12,
   "id": "9d1cb6c4",
   "metadata": {},
   "outputs": [
    {
     "data": {
      "text/plain": [
       "'Noodles/Pizza'"
      ]
     },
     "execution_count": 12,
     "metadata": {},
     "output_type": "execute_result"
    }
   ],
   "source": [
    "Foodname"
   ]
  },
  {
   "cell_type": "code",
   "execution_count": 14,
   "id": "99927844",
   "metadata": {},
   "outputs": [
    {
     "data": {
      "text/plain": [
       "str"
      ]
     },
     "execution_count": 14,
     "metadata": {},
     "output_type": "execute_result"
    }
   ],
   "source": [
    "type(Foodname)"
   ]
  },
  {
   "cell_type": "code",
   "execution_count": 15,
   "id": "fe176619",
   "metadata": {},
   "outputs": [
    {
     "name": "stdout",
     "output_type": "stream",
     "text": [
      "Enter the number87\n"
     ]
    }
   ],
   "source": [
    "number1=input(\"Enter the number\")"
   ]
  },
  {
   "cell_type": "code",
   "execution_count": 17,
   "id": "86299f83",
   "metadata": {},
   "outputs": [
    {
     "data": {
      "text/plain": [
       "'87'"
      ]
     },
     "execution_count": 17,
     "metadata": {},
     "output_type": "execute_result"
    }
   ],
   "source": [
    "number1"
   ]
  },
  {
   "cell_type": "code",
   "execution_count": 18,
   "id": "736955c8",
   "metadata": {},
   "outputs": [
    {
     "name": "stdout",
     "output_type": "stream",
     "text": [
      "Enter the number100\n"
     ]
    }
   ],
   "source": [
    "number2=input(\"Enter the number\")"
   ]
  },
  {
   "cell_type": "code",
   "execution_count": 19,
   "id": "26fcf35c",
   "metadata": {},
   "outputs": [
    {
     "data": {
      "text/plain": [
       "'100'"
      ]
     },
     "execution_count": 19,
     "metadata": {},
     "output_type": "execute_result"
    }
   ],
   "source": [
    "number2"
   ]
  },
  {
   "cell_type": "code",
   "execution_count": 20,
   "id": "44bc5b2e",
   "metadata": {},
   "outputs": [],
   "source": [
    "# Adding the two user input values"
   ]
  },
  {
   "cell_type": "code",
   "execution_count": 21,
   "id": "20416b7a",
   "metadata": {},
   "outputs": [
    {
     "data": {
      "text/plain": [
       "'87100'"
      ]
     },
     "execution_count": 21,
     "metadata": {},
     "output_type": "execute_result"
    }
   ],
   "source": [
    "number1+number2"
   ]
  },
  {
   "cell_type": "code",
   "execution_count": null,
   "id": "81a5bf31",
   "metadata": {},
   "outputs": [],
   "source": [
    "# Typecasting"
   ]
  },
  {
   "cell_type": "code",
   "execution_count": 22,
   "id": "0993e0d1",
   "metadata": {},
   "outputs": [
    {
     "data": {
      "text/plain": [
       "58"
      ]
     },
     "execution_count": 22,
     "metadata": {},
     "output_type": "execute_result"
    }
   ],
   "source": [
    "p=58\n",
    "p\n"
   ]
  },
  {
   "cell_type": "code",
   "execution_count": 23,
   "id": "00aee556",
   "metadata": {},
   "outputs": [
    {
     "data": {
      "text/plain": [
       "int"
      ]
     },
     "execution_count": 23,
     "metadata": {},
     "output_type": "execute_result"
    }
   ],
   "source": [
    "type(p)"
   ]
  },
  {
   "cell_type": "code",
   "execution_count": null,
   "id": "10f9a9d5",
   "metadata": {},
   "outputs": [],
   "source": [
    "# To Convert integer into float"
   ]
  },
  {
   "cell_type": "code",
   "execution_count": 24,
   "id": "81931a6a",
   "metadata": {},
   "outputs": [
    {
     "data": {
      "text/plain": [
       "58.0"
      ]
     },
     "execution_count": 24,
     "metadata": {},
     "output_type": "execute_result"
    }
   ],
   "source": [
    "float(p)"
   ]
  },
  {
   "cell_type": "code",
   "execution_count": 25,
   "id": "61faa8e0",
   "metadata": {},
   "outputs": [
    {
     "data": {
      "text/plain": [
       "int"
      ]
     },
     "execution_count": 25,
     "metadata": {},
     "output_type": "execute_result"
    }
   ],
   "source": [
    "type(p)"
   ]
  },
  {
   "cell_type": "code",
   "execution_count": 26,
   "id": "9578ae92",
   "metadata": {},
   "outputs": [
    {
     "data": {
      "text/plain": [
       "58.0"
      ]
     },
     "execution_count": 26,
     "metadata": {},
     "output_type": "execute_result"
    }
   ],
   "source": [
    "r=float(p)\n",
    "r"
   ]
  },
  {
   "cell_type": "code",
   "execution_count": 28,
   "id": "f8488215",
   "metadata": {},
   "outputs": [
    {
     "data": {
      "text/plain": [
       "float"
      ]
     },
     "execution_count": 28,
     "metadata": {},
     "output_type": "execute_result"
    }
   ],
   "source": [
    "type(r)"
   ]
  },
  {
   "cell_type": "code",
   "execution_count": 30,
   "id": "d685d0ec",
   "metadata": {},
   "outputs": [
    {
     "data": {
      "text/plain": [
       "float"
      ]
     },
     "execution_count": 30,
     "metadata": {},
     "output_type": "execute_result"
    }
   ],
   "source": [
    "x=39.78\n",
    "type(x)"
   ]
  },
  {
   "cell_type": "code",
   "execution_count": null,
   "id": "44c97eeb",
   "metadata": {},
   "outputs": [],
   "source": [
    "# To Convert float into integer"
   ]
  },
  {
   "cell_type": "code",
   "execution_count": 31,
   "id": "1979b8d5",
   "metadata": {},
   "outputs": [
    {
     "data": {
      "text/plain": [
       "39"
      ]
     },
     "execution_count": 31,
     "metadata": {},
     "output_type": "execute_result"
    }
   ],
   "source": [
    "s=int(x)\n",
    "s"
   ]
  },
  {
   "cell_type": "code",
   "execution_count": 32,
   "id": "8faca890",
   "metadata": {},
   "outputs": [
    {
     "data": {
      "text/plain": [
       "int"
      ]
     },
     "execution_count": 32,
     "metadata": {},
     "output_type": "execute_result"
    }
   ],
   "source": [
    "type(s)"
   ]
  },
  {
   "cell_type": "code",
   "execution_count": null,
   "id": "020ea39b",
   "metadata": {},
   "outputs": [],
   "source": [
    "# Taking user-input and converting it into an integer"
   ]
  },
  {
   "cell_type": "code",
   "execution_count": 33,
   "id": "a22b01d1",
   "metadata": {},
   "outputs": [
    {
     "name": "stdout",
     "output_type": "stream",
     "text": [
      "enter any number78\n"
     ]
    },
    {
     "data": {
      "text/plain": [
       "78"
      ]
     },
     "execution_count": 33,
     "metadata": {},
     "output_type": "execute_result"
    }
   ],
   "source": [
    "xv=int(input(\"enter any number\"))\n",
    "xv"
   ]
  },
  {
   "cell_type": "code",
   "execution_count": 34,
   "id": "b90e4bf5",
   "metadata": {},
   "outputs": [
    {
     "data": {
      "text/plain": [
       "int"
      ]
     },
     "execution_count": 34,
     "metadata": {},
     "output_type": "execute_result"
    }
   ],
   "source": [
    "type(xv)"
   ]
  },
  {
   "cell_type": "code",
   "execution_count": 36,
   "id": "782c4106",
   "metadata": {},
   "outputs": [
    {
     "name": "stdout",
     "output_type": "stream",
     "text": [
      "enter any value36\n"
     ]
    }
   ],
   "source": [
    "num1=int(input(\"enter any value\"))"
   ]
  },
  {
   "cell_type": "code",
   "execution_count": 37,
   "id": "253bf736",
   "metadata": {},
   "outputs": [
    {
     "name": "stdout",
     "output_type": "stream",
     "text": [
      "enter any value100\n"
     ]
    }
   ],
   "source": [
    "num2=int(input(\"enter any value\"))"
   ]
  },
  {
   "cell_type": "code",
   "execution_count": 38,
   "id": "fc2a6cd9",
   "metadata": {},
   "outputs": [
    {
     "data": {
      "text/plain": [
       "136"
      ]
     },
     "execution_count": 38,
     "metadata": {},
     "output_type": "execute_result"
    }
   ],
   "source": [
    "a=num1+num2\n",
    "a"
   ]
  },
  {
   "cell_type": "code",
   "execution_count": 39,
   "id": "4e803fce",
   "metadata": {},
   "outputs": [
    {
     "data": {
      "text/plain": [
       "136"
      ]
     },
     "execution_count": 39,
     "metadata": {},
     "output_type": "execute_result"
    }
   ],
   "source": [
    "num1+num2"
   ]
  },
  {
   "cell_type": "code",
   "execution_count": 40,
   "id": "2fe33164",
   "metadata": {},
   "outputs": [
    {
     "data": {
      "text/plain": [
       "int"
      ]
     },
     "execution_count": 40,
     "metadata": {},
     "output_type": "execute_result"
    }
   ],
   "source": [
    "type(num1)"
   ]
  },
  {
   "cell_type": "code",
   "execution_count": 41,
   "id": "bf2cb01e",
   "metadata": {},
   "outputs": [
    {
     "data": {
      "text/plain": [
       "int"
      ]
     },
     "execution_count": 41,
     "metadata": {},
     "output_type": "execute_result"
    }
   ],
   "source": [
    " type(num2)"
   ]
  },
  {
   "cell_type": "code",
   "execution_count": null,
   "id": "1cca82f2",
   "metadata": {},
   "outputs": [],
   "source": [
    "# Area of Rectangle"
   ]
  },
  {
   "cell_type": "code",
   "execution_count": 43,
   "id": "5cda6002",
   "metadata": {},
   "outputs": [
    {
     "name": "stdout",
     "output_type": "stream",
     "text": [
      "Area of rectangle= 392\n"
     ]
    }
   ],
   "source": [
    "# Statically\n",
    "\n",
    "length=56 \n",
    "\n",
    "breadth=7\n",
    "\n",
    "arearect=length*breadth\n",
    "\n",
    "print(\"Area of rectangle=\", arearect)\n"
   ]
  },
  {
   "cell_type": "code",
   "execution_count": 44,
   "id": "add6e10a",
   "metadata": {},
   "outputs": [
    {
     "name": "stdout",
     "output_type": "stream",
     "text": [
      "enter the length300\n",
      "Length= 300\n",
      "enter the breadth78\n",
      "Breadth= 78\n",
      "Area of Rectangle= 23400\n"
     ]
    }
   ],
   "source": [
    "# Dynamically\n",
    "\n",
    "l=int(input(\"enter the length\"))\n",
    "print(\"Length=\",l)\n",
    "b=int(input(\"enter the breadth\"))\n",
    "print(\"Breadth=\",b)\n",
    "\n",
    "arearect=l*b\n",
    "\n",
    "print(\"Area of Rectangle=\", arearect)"
   ]
  },
  {
   "cell_type": "code",
   "execution_count": 49,
   "id": "1d57473d",
   "metadata": {},
   "outputs": [
    {
     "data": {
      "text/plain": [
       "457.89"
      ]
     },
     "execution_count": 49,
     "metadata": {},
     "output_type": "execute_result"
    }
   ],
   "source": [
    "round(457.894567,2)"
   ]
  },
  {
   "cell_type": "code",
   "execution_count": null,
   "id": "f49f8c67",
   "metadata": {},
   "outputs": [],
   "source": [
    "# Square Root"
   ]
  },
  {
   "cell_type": "code",
   "execution_count": 52,
   "id": "9e32a3dc",
   "metadata": {},
   "outputs": [
    {
     "name": "stdout",
     "output_type": "stream",
     "text": [
      "enter any value to find the square root49\n",
      "The square root of 49 is 7.0\n"
     ]
    }
   ],
   "source": [
    "h=int(input(\"enter any value to find the square root\"))\n",
    "\n",
    "p=h**(1/2)\n",
    "\n",
    "print(\"The square root of\",h,\"is\",p)"
   ]
  },
  {
   "cell_type": "code",
   "execution_count": null,
   "id": "f01f2929",
   "metadata": {},
   "outputs": [],
   "source": [
    "# Cube Root"
   ]
  },
  {
   "cell_type": "code",
   "execution_count": 55,
   "id": "5f79c5fc",
   "metadata": {},
   "outputs": [
    {
     "name": "stdout",
     "output_type": "stream",
     "text": [
      "enter any value to find the cube root512\n",
      "The cube root of 512 is 7.999999999999999\n"
     ]
    }
   ],
   "source": [
    "a=int(input(\"enter any value to find the cube root\"))\n",
    "\n",
    "y=a**(1/3)\n",
    "\n",
    "print(\"The cube root of\",a,\"is\",y)"
   ]
  },
  {
   "cell_type": "markdown",
   "id": "a6114328",
   "metadata": {},
   "source": [
    "# Data Structures"
   ]
  },
  {
   "cell_type": "markdown",
   "id": "b24b65f1",
   "metadata": {},
   "source": [
    "List"
   ]
  },
  {
   "cell_type": "code",
   "execution_count": 1,
   "id": "e31a5b60",
   "metadata": {},
   "outputs": [
    {
     "data": {
      "text/plain": [
       "[1, 2, 3, 4, 5]"
      ]
     },
     "execution_count": 1,
     "metadata": {},
     "output_type": "execute_result"
    }
   ],
   "source": [
    "list1=[1,2,3,4,5]\n",
    "list1"
   ]
  },
  {
   "cell_type": "code",
   "execution_count": 2,
   "id": "d9bedda5",
   "metadata": {},
   "outputs": [
    {
     "data": {
      "text/plain": [
       "[11, 12, 13, 14, 15, 16, 17, 18]"
      ]
     },
     "execution_count": 2,
     "metadata": {},
     "output_type": "execute_result"
    }
   ],
   "source": [
    "list2=[11,12,13,14,15,16,17,18]\n",
    "list2"
   ]
  },
  {
   "cell_type": "code",
   "execution_count": 3,
   "id": "7363d256",
   "metadata": {},
   "outputs": [
    {
     "data": {
      "text/plain": [
       "[10, 20, 30, 40, 50]"
      ]
     },
     "execution_count": 3,
     "metadata": {},
     "output_type": "execute_result"
    }
   ],
   "source": [
    "list3=[10,20,30,40,50]\n",
    "list3"
   ]
  },
  {
   "cell_type": "code",
   "execution_count": 4,
   "id": "bb501ef8",
   "metadata": {},
   "outputs": [
    {
     "data": {
      "text/plain": [
       "[98.3, 22.5, 67.9, 24.6, 12.5]"
      ]
     },
     "execution_count": 4,
     "metadata": {},
     "output_type": "execute_result"
    }
   ],
   "source": [
    "list4=[98.3,22.5,67.9,24.6,12.5]\n",
    "list4"
   ]
  },
  {
   "cell_type": "code",
   "execution_count": 5,
   "id": "20a94b05",
   "metadata": {},
   "outputs": [
    {
     "data": {
      "text/plain": [
       "['A', 'B', 'C', 'D']"
      ]
     },
     "execution_count": 5,
     "metadata": {},
     "output_type": "execute_result"
    }
   ],
   "source": [
    "list5=['A','B','C','D']\n",
    "list5"
   ]
  },
  {
   "cell_type": "code",
   "execution_count": 6,
   "id": "9f39cf18",
   "metadata": {},
   "outputs": [
    {
     "data": {
      "text/plain": [
       "['MATRIX', 'AVENGER', 'TURTLES']"
      ]
     },
     "execution_count": 6,
     "metadata": {},
     "output_type": "execute_result"
    }
   ],
   "source": [
    "list6=['MATRIX','AVENGER','TURTLES']\n",
    "list6"
   ]
  },
  {
   "cell_type": "code",
   "execution_count": 8,
   "id": "3f0c6070",
   "metadata": {},
   "outputs": [
    {
     "data": {
      "text/plain": [
       "[64, 89, 'B', 'BIRDS', 34.89, True]"
      ]
     },
     "execution_count": 8,
     "metadata": {},
     "output_type": "execute_result"
    }
   ],
   "source": [
    "list7=[64,89,'B','BIRDS',34.89,True]\n",
    "list7"
   ]
  },
  {
   "cell_type": "code",
   "execution_count": null,
   "id": "d8cdf7ba",
   "metadata": {},
   "outputs": [],
   "source": [
    "# Indexing and Fetching Values"
   ]
  },
  {
   "cell_type": "code",
   "execution_count": 12,
   "id": "c65dba18",
   "metadata": {},
   "outputs": [
    {
     "data": {
      "text/plain": [
       "'MATRIX'"
      ]
     },
     "execution_count": 12,
     "metadata": {},
     "output_type": "execute_result"
    }
   ],
   "source": [
    "list6[0]"
   ]
  },
  {
   "cell_type": "code",
   "execution_count": 13,
   "id": "f1fac5df",
   "metadata": {},
   "outputs": [
    {
     "data": {
      "text/plain": [
       "'TURTLES'"
      ]
     },
     "execution_count": 13,
     "metadata": {},
     "output_type": "execute_result"
    }
   ],
   "source": [
    "list6[2]"
   ]
  },
  {
   "cell_type": "code",
   "execution_count": 14,
   "id": "5e7c6295",
   "metadata": {},
   "outputs": [
    {
     "data": {
      "text/plain": [
       "'AVENGER'"
      ]
     },
     "execution_count": 14,
     "metadata": {},
     "output_type": "execute_result"
    }
   ],
   "source": [
    "list6[1]"
   ]
  },
  {
   "cell_type": "code",
   "execution_count": 15,
   "id": "7823cba9",
   "metadata": {},
   "outputs": [
    {
     "data": {
      "text/plain": [
       "'C'"
      ]
     },
     "execution_count": 15,
     "metadata": {},
     "output_type": "execute_result"
    }
   ],
   "source": [
    "list5[2]"
   ]
  },
  {
   "cell_type": "code",
   "execution_count": 16,
   "id": "0a6b7d08",
   "metadata": {},
   "outputs": [
    {
     "data": {
      "text/plain": [
       "['Laptop', 'Tablet', 'Mouse', 'Printer', 'Keyboard']"
      ]
     },
     "execution_count": 16,
     "metadata": {},
     "output_type": "execute_result"
    }
   ],
   "source": [
    "complist=['Laptop','Tablet','Mouse','Printer','Keyboard']\n",
    "complist"
   ]
  },
  {
   "cell_type": "code",
   "execution_count": 17,
   "id": "1d02cda7",
   "metadata": {},
   "outputs": [
    {
     "data": {
      "text/plain": [
       "'Keyboard'"
      ]
     },
     "execution_count": 17,
     "metadata": {},
     "output_type": "execute_result"
    }
   ],
   "source": [
    "complist[4]"
   ]
  },
  {
   "cell_type": "code",
   "execution_count": 18,
   "id": "7e7bf178",
   "metadata": {},
   "outputs": [
    {
     "data": {
      "text/plain": [
       "'Tablet'"
      ]
     },
     "execution_count": 18,
     "metadata": {},
     "output_type": "execute_result"
    }
   ],
   "source": [
    "complist[1]"
   ]
  },
  {
   "cell_type": "code",
   "execution_count": 19,
   "id": "6bae8665",
   "metadata": {},
   "outputs": [],
   "source": [
    "# Slicing"
   ]
  },
  {
   "cell_type": "code",
   "execution_count": 20,
   "id": "41b542f9",
   "metadata": {},
   "outputs": [
    {
     "data": {
      "text/plain": [
       "['Laptop', 'Tablet']"
      ]
     },
     "execution_count": 20,
     "metadata": {},
     "output_type": "execute_result"
    }
   ],
   "source": [
    "complist[0:2]"
   ]
  },
  {
   "cell_type": "code",
   "execution_count": 21,
   "id": "ecc76886",
   "metadata": {},
   "outputs": [
    {
     "data": {
      "text/plain": [
       "['Tablet', 'Mouse', 'Printer']"
      ]
     },
     "execution_count": 21,
     "metadata": {},
     "output_type": "execute_result"
    }
   ],
   "source": [
    "complist[1:4]"
   ]
  },
  {
   "cell_type": "code",
   "execution_count": 22,
   "id": "36de2acc",
   "metadata": {},
   "outputs": [
    {
     "data": {
      "text/plain": [
       "['Printer', 'Keyboard']"
      ]
     },
     "execution_count": 22,
     "metadata": {},
     "output_type": "execute_result"
    }
   ],
   "source": [
    "complist[3:5]"
   ]
  },
  {
   "cell_type": "code",
   "execution_count": 23,
   "id": "fecae506",
   "metadata": {},
   "outputs": [
    {
     "data": {
      "text/plain": [
       "['Laptop', 'Tablet', 'Mouse', 'Printer', 'Keyboard']"
      ]
     },
     "execution_count": 23,
     "metadata": {},
     "output_type": "execute_result"
    }
   ],
   "source": [
    "complist[:]"
   ]
  },
  {
   "cell_type": "code",
   "execution_count": 24,
   "id": "2546d201",
   "metadata": {},
   "outputs": [
    {
     "data": {
      "text/plain": [
       "['Laptop', 'Tablet', 'Mouse', 'Printer', 'Keyboard']"
      ]
     },
     "execution_count": 24,
     "metadata": {},
     "output_type": "execute_result"
    }
   ],
   "source": [
    "complist[0:]"
   ]
  },
  {
   "cell_type": "code",
   "execution_count": 25,
   "id": "b10bd51b",
   "metadata": {},
   "outputs": [
    {
     "data": {
      "text/plain": [
       "['Laptop', 'Tablet', 'Mouse', 'Printer', 'Keyboard']"
      ]
     },
     "execution_count": 25,
     "metadata": {},
     "output_type": "execute_result"
    }
   ],
   "source": [
    "complist[:5]"
   ]
  },
  {
   "cell_type": "code",
   "execution_count": null,
   "id": "4bbf3033",
   "metadata": {},
   "outputs": [],
   "source": [
    "# Negative Indexing"
   ]
  },
  {
   "cell_type": "code",
   "execution_count": 26,
   "id": "c0773c59",
   "metadata": {},
   "outputs": [
    {
     "data": {
      "text/plain": [
       "'Keyboard'"
      ]
     },
     "execution_count": 26,
     "metadata": {},
     "output_type": "execute_result"
    }
   ],
   "source": [
    "complist[-1]"
   ]
  },
  {
   "cell_type": "code",
   "execution_count": 27,
   "id": "e8d1e9c7",
   "metadata": {},
   "outputs": [
    {
     "data": {
      "text/plain": [
       "'Laptop'"
      ]
     },
     "execution_count": 27,
     "metadata": {},
     "output_type": "execute_result"
    }
   ],
   "source": [
    "complist[-5]"
   ]
  },
  {
   "cell_type": "code",
   "execution_count": 28,
   "id": "aadf296a",
   "metadata": {},
   "outputs": [
    {
     "data": {
      "text/plain": [
       "['Tablet', 'Mouse', 'Printer']"
      ]
     },
     "execution_count": 28,
     "metadata": {},
     "output_type": "execute_result"
    }
   ],
   "source": [
    "complist[-4:-1]"
   ]
  },
  {
   "cell_type": "code",
   "execution_count": 29,
   "id": "e1fc1744",
   "metadata": {},
   "outputs": [
    {
     "data": {
      "text/plain": [
       "['Laptop', 'Tablet', 'Mouse']"
      ]
     },
     "execution_count": 29,
     "metadata": {},
     "output_type": "execute_result"
    }
   ],
   "source": [
    "complist[-5:-2]"
   ]
  },
  {
   "cell_type": "code",
   "execution_count": 30,
   "id": "163f545d",
   "metadata": {},
   "outputs": [
    {
     "data": {
      "text/plain": [
       "['Laptop', 'Tablet', 'Mouse', 'Printer']"
      ]
     },
     "execution_count": 30,
     "metadata": {},
     "output_type": "execute_result"
    }
   ],
   "source": [
    "complist[:-1]"
   ]
  },
  {
   "cell_type": "code",
   "execution_count": 31,
   "id": "a995eada",
   "metadata": {},
   "outputs": [
    {
     "data": {
      "text/plain": [
       "['Laptop', 'Tablet', 'Mouse', 'Printer', 'Keyboard']"
      ]
     },
     "execution_count": 31,
     "metadata": {},
     "output_type": "execute_result"
    }
   ],
   "source": [
    "complist[-5:]"
   ]
  },
  {
   "cell_type": "code",
   "execution_count": null,
   "id": "5caaddf4",
   "metadata": {},
   "outputs": [],
   "source": []
  }
 ],
 "metadata": {
  "kernelspec": {
   "display_name": "Python 3",
   "language": "python",
   "name": "python3"
  },
  "language_info": {
   "codemirror_mode": {
    "name": "ipython",
    "version": 3
   },
   "file_extension": ".py",
   "mimetype": "text/x-python",
   "name": "python",
   "nbconvert_exporter": "python",
   "pygments_lexer": "ipython3",
   "version": "3.8.8"
  }
 },
 "nbformat": 4,
 "nbformat_minor": 5
}

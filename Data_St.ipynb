{
 "cells": [
  {
   "cell_type": "markdown",
   "id": "823ff02b",
   "metadata": {},
   "source": [
    "LIST"
   ]
  },
  {
   "cell_type": "code",
   "execution_count": 3,
   "id": "c84fa338",
   "metadata": {},
   "outputs": [
    {
     "data": {
      "text/plain": [
       "[11, 12, 13, 14, 15]"
      ]
     },
     "execution_count": 3,
     "metadata": {},
     "output_type": "execute_result"
    }
   ],
   "source": [
    "l1=[11,12,13,14,15]\n",
    "l1"
   ]
  },
  {
   "cell_type": "code",
   "execution_count": 5,
   "id": "78199a6e",
   "metadata": {},
   "outputs": [],
   "source": [
    "l1.append(16)"
   ]
  },
  {
   "cell_type": "code",
   "execution_count": 7,
   "id": "db5fbce7",
   "metadata": {},
   "outputs": [
    {
     "data": {
      "text/plain": [
       "[11, 12, 13, 14, 15, 16]"
      ]
     },
     "execution_count": 7,
     "metadata": {},
     "output_type": "execute_result"
    }
   ],
   "source": [
    "l1"
   ]
  },
  {
   "cell_type": "code",
   "execution_count": 8,
   "id": "9070659c",
   "metadata": {},
   "outputs": [
    {
     "data": {
      "text/plain": [
       "[11, 12, 13, 14, 15, 16, 17]"
      ]
     },
     "execution_count": 8,
     "metadata": {},
     "output_type": "execute_result"
    }
   ],
   "source": [
    "l1.append(17)\n",
    "l1"
   ]
  },
  {
   "cell_type": "code",
   "execution_count": 9,
   "id": "2a9dea9f",
   "metadata": {},
   "outputs": [
    {
     "data": {
      "text/plain": [
       "['Grapes', 'Banana', 'Apple', 'Papaya']"
      ]
     },
     "execution_count": 9,
     "metadata": {},
     "output_type": "execute_result"
    }
   ],
   "source": [
    "listfruit=['Grapes','Banana','Apple','Papaya']\n",
    "listfruit"
   ]
  },
  {
   "cell_type": "code",
   "execution_count": 10,
   "id": "e44214f0",
   "metadata": {},
   "outputs": [],
   "source": [
    "listfruit.append('kiwi')"
   ]
  },
  {
   "cell_type": "code",
   "execution_count": 11,
   "id": "14cf6879",
   "metadata": {},
   "outputs": [
    {
     "data": {
      "text/plain": [
       "['Grapes', 'Banana', 'Apple', 'Papaya', 'kiwi']"
      ]
     },
     "execution_count": 11,
     "metadata": {},
     "output_type": "execute_result"
    }
   ],
   "source": [
    "listfruit"
   ]
  },
  {
   "cell_type": "code",
   "execution_count": 12,
   "id": "3b21fc82",
   "metadata": {},
   "outputs": [
    {
     "data": {
      "text/plain": [
       "5"
      ]
     },
     "execution_count": 12,
     "metadata": {},
     "output_type": "execute_result"
    }
   ],
   "source": [
    "len(listfruit)"
   ]
  },
  {
   "cell_type": "code",
   "execution_count": 13,
   "id": "956f6f93",
   "metadata": {},
   "outputs": [
    {
     "data": {
      "text/plain": [
       "'Grapes'"
      ]
     },
     "execution_count": 13,
     "metadata": {},
     "output_type": "execute_result"
    }
   ],
   "source": [
    "listfruit[0]"
   ]
  },
  {
   "cell_type": "code",
   "execution_count": 14,
   "id": "d364c0ae",
   "metadata": {},
   "outputs": [
    {
     "data": {
      "text/plain": [
       "['Banana', 'Apple', 'Papaya']"
      ]
     },
     "execution_count": 14,
     "metadata": {},
     "output_type": "execute_result"
    }
   ],
   "source": [
    "listfruit[1:4]"
   ]
  },
  {
   "cell_type": "code",
   "execution_count": 15,
   "id": "0ed5ecd1",
   "metadata": {},
   "outputs": [
    {
     "data": {
      "text/plain": [
       "'kiwi'"
      ]
     },
     "execution_count": 15,
     "metadata": {},
     "output_type": "execute_result"
    }
   ],
   "source": [
    "listfruit[-1]"
   ]
  },
  {
   "cell_type": "code",
   "execution_count": null,
   "id": "3041796d",
   "metadata": {},
   "outputs": [],
   "source": [
    "# To insert the data at desired location"
   ]
  },
  {
   "cell_type": "code",
   "execution_count": 16,
   "id": "dcfc8518",
   "metadata": {},
   "outputs": [],
   "source": [
    "listfruit.insert(1,\"watermelon\")"
   ]
  },
  {
   "cell_type": "code",
   "execution_count": 18,
   "id": "fd97f7e5",
   "metadata": {},
   "outputs": [
    {
     "data": {
      "text/plain": [
       "['Grapes', 'watermelon', 'Banana', 'Apple', 'Papaya', 'kiwi']"
      ]
     },
     "execution_count": 18,
     "metadata": {},
     "output_type": "execute_result"
    }
   ],
   "source": [
    "listfruit"
   ]
  },
  {
   "cell_type": "code",
   "execution_count": 21,
   "id": "2fb7261c",
   "metadata": {},
   "outputs": [
    {
     "data": {
      "text/plain": [
       "[11, 12, 13, 900, 900, 900, 14, 15, 16, 17]"
      ]
     },
     "execution_count": 21,
     "metadata": {},
     "output_type": "execute_result"
    }
   ],
   "source": [
    "l1.insert(3,900)\n",
    "l1"
   ]
  },
  {
   "cell_type": "code",
   "execution_count": 22,
   "id": "aac6bb93",
   "metadata": {},
   "outputs": [
    {
     "data": {
      "text/plain": [
       "[11, 12, 13, 900, 900, 14, 15, 16, 17]"
      ]
     },
     "execution_count": 22,
     "metadata": {},
     "output_type": "execute_result"
    }
   ],
   "source": [
    "l1.remove(900)\n",
    "l1"
   ]
  },
  {
   "cell_type": "code",
   "execution_count": 23,
   "id": "5fe285d7",
   "metadata": {},
   "outputs": [
    {
     "data": {
      "text/plain": [
       "[11, 12, 13, 900, 900, 14, 70, 15, 16, 17]"
      ]
     },
     "execution_count": 23,
     "metadata": {},
     "output_type": "execute_result"
    }
   ],
   "source": [
    "l1.insert(6,70)\n",
    "l1"
   ]
  },
  {
   "cell_type": "code",
   "execution_count": 24,
   "id": "c5a07cc2",
   "metadata": {},
   "outputs": [],
   "source": [
    "listfruit.sort()"
   ]
  },
  {
   "cell_type": "code",
   "execution_count": 25,
   "id": "370c8ba3",
   "metadata": {},
   "outputs": [
    {
     "data": {
      "text/plain": [
       "['Apple', 'Banana', 'Grapes', 'Papaya', 'kiwi', 'watermelon']"
      ]
     },
     "execution_count": 25,
     "metadata": {},
     "output_type": "execute_result"
    }
   ],
   "source": [
    "listfruit"
   ]
  },
  {
   "cell_type": "code",
   "execution_count": 26,
   "id": "152f9d71",
   "metadata": {},
   "outputs": [
    {
     "data": {
      "text/plain": [
       "['watermelon', 'kiwi', 'Papaya', 'Grapes', 'Banana', 'Apple']"
      ]
     },
     "execution_count": 26,
     "metadata": {},
     "output_type": "execute_result"
    }
   ],
   "source": [
    "listfruit.reverse()\n",
    "listfruit"
   ]
  },
  {
   "cell_type": "code",
   "execution_count": 27,
   "id": "734c4aca",
   "metadata": {},
   "outputs": [
    {
     "data": {
      "text/plain": [
       "2"
      ]
     },
     "execution_count": 27,
     "metadata": {},
     "output_type": "execute_result"
    }
   ],
   "source": [
    "listfruit.index('Papaya')"
   ]
  },
  {
   "cell_type": "code",
   "execution_count": 28,
   "id": "8f343914",
   "metadata": {},
   "outputs": [
    {
     "data": {
      "text/plain": [
       "3"
      ]
     },
     "execution_count": 28,
     "metadata": {},
     "output_type": "execute_result"
    }
   ],
   "source": [
    "listfruit.index('Grapes')"
   ]
  },
  {
   "cell_type": "code",
   "execution_count": 30,
   "id": "6a1372c9",
   "metadata": {},
   "outputs": [
    {
     "data": {
      "text/plain": [
       "['Lemon', 'Dragonfruit']"
      ]
     },
     "execution_count": 30,
     "metadata": {},
     "output_type": "execute_result"
    }
   ],
   "source": [
    "newlist=['Lemon','Dragonfruit']\n",
    "newlist"
   ]
  },
  {
   "cell_type": "code",
   "execution_count": 32,
   "id": "deb987ee",
   "metadata": {},
   "outputs": [
    {
     "data": {
      "text/plain": [
       "['watermelon',\n",
       " 'kiwi',\n",
       " 'Papaya',\n",
       " 'Grapes',\n",
       " 'Banana',\n",
       " 'Apple',\n",
       " 'n',\n",
       " 'e',\n",
       " 'w',\n",
       " 'l',\n",
       " 'i',\n",
       " 's',\n",
       " 't',\n",
       " 'Lemon',\n",
       " 'Dragonfruit']"
      ]
     },
     "execution_count": 32,
     "metadata": {},
     "output_type": "execute_result"
    }
   ],
   "source": [
    "listfruit.extend(newlist)\n",
    "listfruit"
   ]
  },
  {
   "cell_type": "code",
   "execution_count": 33,
   "id": "1d0e3ae0",
   "metadata": {},
   "outputs": [
    {
     "data": {
      "text/plain": [
       "['watermelon',\n",
       " 'kiwi',\n",
       " 'Papaya',\n",
       " 'Grapes',\n",
       " 'Banana',\n",
       " 'Apple',\n",
       " 'n',\n",
       " 'e',\n",
       " 'w',\n",
       " 'l',\n",
       " 'i',\n",
       " 's',\n",
       " 't',\n",
       " 'Lemon',\n",
       " 'Dragonfruit',\n",
       " 'Lemon',\n",
       " 'Dragonfruit']"
      ]
     },
     "execution_count": 33,
     "metadata": {},
     "output_type": "execute_result"
    }
   ],
   "source": [
    "# Alter\n",
    "\n",
    "listfruit.extend(['Lemon','Dragonfruit'])\n",
    "listfruit"
   ]
  },
  {
   "cell_type": "code",
   "execution_count": 34,
   "id": "2b2181bd",
   "metadata": {},
   "outputs": [
    {
     "data": {
      "text/plain": [
       "'Dragonfruit'"
      ]
     },
     "execution_count": 34,
     "metadata": {},
     "output_type": "execute_result"
    }
   ],
   "source": [
    "listfruit.pop()"
   ]
  },
  {
   "cell_type": "code",
   "execution_count": 35,
   "id": "99f270e0",
   "metadata": {},
   "outputs": [
    {
     "data": {
      "text/plain": [
       "'Banana'"
      ]
     },
     "execution_count": 35,
     "metadata": {},
     "output_type": "execute_result"
    }
   ],
   "source": [
    "listfruit.pop(4)"
   ]
  },
  {
   "cell_type": "code",
   "execution_count": 36,
   "id": "9411c38a",
   "metadata": {},
   "outputs": [
    {
     "data": {
      "text/plain": [
       "15"
      ]
     },
     "execution_count": 36,
     "metadata": {},
     "output_type": "execute_result"
    }
   ],
   "source": [
    "len(listfruit)"
   ]
  },
  {
   "cell_type": "code",
   "execution_count": 39,
   "id": "82b8cc1f",
   "metadata": {},
   "outputs": [],
   "source": [
    "listfruit.remove('Papaya')"
   ]
  },
  {
   "cell_type": "code",
   "execution_count": 40,
   "id": "e2122359",
   "metadata": {},
   "outputs": [
    {
     "data": {
      "text/plain": [
       "['watermelon',\n",
       " 'Grapes',\n",
       " 'Apple',\n",
       " 'n',\n",
       " 'e',\n",
       " 'w',\n",
       " 'l',\n",
       " 'i',\n",
       " 's',\n",
       " 't',\n",
       " 'Lemon',\n",
       " 'Dragonfruit',\n",
       " 'Lemon']"
      ]
     },
     "execution_count": 40,
     "metadata": {},
     "output_type": "execute_result"
    }
   ],
   "source": [
    "listfruit"
   ]
  },
  {
   "cell_type": "code",
   "execution_count": 41,
   "id": "f6041a28",
   "metadata": {},
   "outputs": [],
   "source": [
    "listfruit.clear()"
   ]
  },
  {
   "cell_type": "code",
   "execution_count": 42,
   "id": "b55e2463",
   "metadata": {},
   "outputs": [
    {
     "data": {
      "text/plain": [
       "[]"
      ]
     },
     "execution_count": 42,
     "metadata": {},
     "output_type": "execute_result"
    }
   ],
   "source": [
    "listfruit"
   ]
  },
  {
   "cell_type": "code",
   "execution_count": 43,
   "id": "3acadc71",
   "metadata": {},
   "outputs": [],
   "source": [
    "listfruit.append('Mango')"
   ]
  },
  {
   "cell_type": "code",
   "execution_count": 44,
   "id": "ec157335",
   "metadata": {},
   "outputs": [
    {
     "data": {
      "text/plain": [
       "['Mango']"
      ]
     },
     "execution_count": 44,
     "metadata": {},
     "output_type": "execute_result"
    }
   ],
   "source": [
    "listfruit"
   ]
  },
  {
   "cell_type": "code",
   "execution_count": 45,
   "id": "c599d87e",
   "metadata": {},
   "outputs": [
    {
     "data": {
      "text/plain": [
       "['Mango', 'Banana']"
      ]
     },
     "execution_count": 45,
     "metadata": {},
     "output_type": "execute_result"
    }
   ],
   "source": [
    "listfruit.append('Banana')\n",
    "listfruit"
   ]
  },
  {
   "cell_type": "code",
   "execution_count": 46,
   "id": "03e9f77e",
   "metadata": {},
   "outputs": [
    {
     "data": {
      "text/plain": [
       "['Mercury', 'Venus']"
      ]
     },
     "execution_count": 46,
     "metadata": {},
     "output_type": "execute_result"
    }
   ],
   "source": [
    "planetlist=['Mercury','Venus']\n",
    "planetlist"
   ]
  },
  {
   "cell_type": "code",
   "execution_count": 47,
   "id": "30767ef2",
   "metadata": {},
   "outputs": [
    {
     "data": {
      "text/plain": [
       "['Mercury', 'Venus', 'Earth']"
      ]
     },
     "execution_count": 47,
     "metadata": {},
     "output_type": "execute_result"
    }
   ],
   "source": [
    "planetlist.append('Earth')\n",
    "planetlist"
   ]
  },
  {
   "cell_type": "code",
   "execution_count": 48,
   "id": "70f23261",
   "metadata": {},
   "outputs": [
    {
     "data": {
      "text/plain": [
       "['Mercury', 'Venus', 'Earth', 'Neptune']"
      ]
     },
     "execution_count": 48,
     "metadata": {},
     "output_type": "execute_result"
    }
   ],
   "source": [
    "planetlist.append('Neptune')\n",
    "planetlist"
   ]
  },
  {
   "cell_type": "code",
   "execution_count": 49,
   "id": "158053c2",
   "metadata": {},
   "outputs": [
    {
     "data": {
      "text/plain": [
       "'Neptune'"
      ]
     },
     "execution_count": 49,
     "metadata": {},
     "output_type": "execute_result"
    }
   ],
   "source": [
    "planetlist[3]"
   ]
  },
  {
   "cell_type": "code",
   "execution_count": 51,
   "id": "36fb531e",
   "metadata": {},
   "outputs": [
    {
     "data": {
      "text/plain": [
       "'Earth'"
      ]
     },
     "execution_count": 51,
     "metadata": {},
     "output_type": "execute_result"
    }
   ],
   "source": [
    "planetlist.pop(2)"
   ]
  },
  {
   "cell_type": "code",
   "execution_count": 52,
   "id": "3bc6ac72",
   "metadata": {},
   "outputs": [
    {
     "data": {
      "text/plain": [
       "['Mercury', 'Venus']"
      ]
     },
     "execution_count": 52,
     "metadata": {},
     "output_type": "execute_result"
    }
   ],
   "source": [
    "planetlist"
   ]
  },
  {
   "cell_type": "code",
   "execution_count": 53,
   "id": "9378932b",
   "metadata": {},
   "outputs": [],
   "source": [
    "planetlist.insert(2,'Neptune')"
   ]
  },
  {
   "cell_type": "code",
   "execution_count": 54,
   "id": "ef73c0ed",
   "metadata": {},
   "outputs": [
    {
     "data": {
      "text/plain": [
       "['Mercury', 'Venus', 'Neptune']"
      ]
     },
     "execution_count": 54,
     "metadata": {},
     "output_type": "execute_result"
    }
   ],
   "source": [
    "planetlist"
   ]
  },
  {
   "cell_type": "code",
   "execution_count": 56,
   "id": "79958009",
   "metadata": {},
   "outputs": [
    {
     "data": {
      "text/plain": [
       "['Mercury', 'Neptune', 'Venus']"
      ]
     },
     "execution_count": 56,
     "metadata": {},
     "output_type": "execute_result"
    }
   ],
   "source": [
    "planetlist.sort()\n",
    "planetlist"
   ]
  },
  {
   "cell_type": "code",
   "execution_count": 57,
   "id": "2a4d521a",
   "metadata": {},
   "outputs": [
    {
     "data": {
      "text/plain": [
       "['Venus', 'Neptune', 'Mercury']"
      ]
     },
     "execution_count": 57,
     "metadata": {},
     "output_type": "execute_result"
    }
   ],
   "source": [
    "planetlist.reverse()\n",
    "planetlist"
   ]
  },
  {
   "cell_type": "code",
   "execution_count": 58,
   "id": "45b856ba",
   "metadata": {},
   "outputs": [
    {
     "data": {
      "text/plain": [
       "['Venus', 'Neptune', 'Mercury', 'Pluto']"
      ]
     },
     "execution_count": 58,
     "metadata": {},
     "output_type": "execute_result"
    }
   ],
   "source": [
    "planetlist.insert(3,'Pluto')\n",
    "planetlist"
   ]
  },
  {
   "cell_type": "code",
   "execution_count": 59,
   "id": "f4afdab6",
   "metadata": {},
   "outputs": [
    {
     "data": {
      "text/plain": [
       "3"
      ]
     },
     "execution_count": 59,
     "metadata": {},
     "output_type": "execute_result"
    }
   ],
   "source": [
    "planetlist.index('Pluto')"
   ]
  },
  {
   "cell_type": "code",
   "execution_count": 61,
   "id": "fd0144e1",
   "metadata": {},
   "outputs": [
    {
     "data": {
      "text/plain": [
       "1"
      ]
     },
     "execution_count": 61,
     "metadata": {},
     "output_type": "execute_result"
    }
   ],
   "source": [
    "planetlist.index('Neptune')"
   ]
  },
  {
   "cell_type": "code",
   "execution_count": 62,
   "id": "0f0bd12a",
   "metadata": {},
   "outputs": [],
   "source": [
    "planetlist.remove('Pluto')\n"
   ]
  },
  {
   "cell_type": "code",
   "execution_count": 63,
   "id": "005fc9a7",
   "metadata": {},
   "outputs": [
    {
     "data": {
      "text/plain": [
       "['Venus', 'Neptune', 'Mercury']"
      ]
     },
     "execution_count": 63,
     "metadata": {},
     "output_type": "execute_result"
    }
   ],
   "source": [
    "planetlist"
   ]
  },
  {
   "cell_type": "code",
   "execution_count": 64,
   "id": "2b990cab",
   "metadata": {},
   "outputs": [],
   "source": [
    "planetlist[2]='Sun'"
   ]
  },
  {
   "cell_type": "code",
   "execution_count": 65,
   "id": "7b713956",
   "metadata": {},
   "outputs": [
    {
     "data": {
      "text/plain": [
       "['Venus', 'Neptune', 'Sun']"
      ]
     },
     "execution_count": 65,
     "metadata": {},
     "output_type": "execute_result"
    }
   ],
   "source": [
    "planetlist"
   ]
  },
  {
   "cell_type": "code",
   "execution_count": 66,
   "id": "4aed4db4",
   "metadata": {},
   "outputs": [
    {
     "data": {
      "text/plain": [
       "[]"
      ]
     },
     "execution_count": 66,
     "metadata": {},
     "output_type": "execute_result"
    }
   ],
   "source": [
    "planetlist.clear()\n",
    "planetlist"
   ]
  },
  {
   "cell_type": "code",
   "execution_count": 69,
   "id": "5a45608b",
   "metadata": {},
   "outputs": [
    {
     "data": {
      "text/plain": [
       "[100, 200, 300, 400, 500, 600]"
      ]
     },
     "execution_count": 69,
     "metadata": {},
     "output_type": "execute_result"
    }
   ],
   "source": [
    "numlist=[100,200,300,400,500,600]\n",
    "numlist"
   ]
  },
  {
   "cell_type": "code",
   "execution_count": 70,
   "id": "cf7cc236",
   "metadata": {},
   "outputs": [
    {
     "data": {
      "text/plain": [
       "600"
      ]
     },
     "execution_count": 70,
     "metadata": {},
     "output_type": "execute_result"
    }
   ],
   "source": [
    "numlist[5]"
   ]
  },
  {
   "cell_type": "code",
   "execution_count": 71,
   "id": "ec3abf0d",
   "metadata": {},
   "outputs": [
    {
     "data": {
      "text/plain": [
       "500"
      ]
     },
     "execution_count": 71,
     "metadata": {},
     "output_type": "execute_result"
    }
   ],
   "source": [
    "numlist[4]"
   ]
  },
  {
   "cell_type": "code",
   "execution_count": 72,
   "id": "5e85a42a",
   "metadata": {},
   "outputs": [],
   "source": [
    "numlist[4]=345"
   ]
  },
  {
   "cell_type": "code",
   "execution_count": 73,
   "id": "59f0fa51",
   "metadata": {},
   "outputs": [
    {
     "data": {
      "text/plain": [
       "[100, 200, 300, 400, 345, 600]"
      ]
     },
     "execution_count": 73,
     "metadata": {},
     "output_type": "execute_result"
    }
   ],
   "source": [
    "numlist"
   ]
  },
  {
   "cell_type": "code",
   "execution_count": 74,
   "id": "73690d22",
   "metadata": {},
   "outputs": [
    {
     "data": {
      "text/plain": [
       "[]"
      ]
     },
     "execution_count": 74,
     "metadata": {},
     "output_type": "execute_result"
    }
   ],
   "source": [
    "numlist.clear()\n",
    "numlist"
   ]
  },
  {
   "cell_type": "code",
   "execution_count": 75,
   "id": "304b6cfb",
   "metadata": {},
   "outputs": [
    {
     "data": {
      "text/plain": [
       "[56, 90, 34, 5, 6, 23, 90, 23]"
      ]
     },
     "execution_count": 75,
     "metadata": {},
     "output_type": "execute_result"
    }
   ],
   "source": [
    "K=[56,90,34,5,6,23,90,23]\n",
    "K"
   ]
  },
  {
   "cell_type": "code",
   "execution_count": 76,
   "id": "f531c344",
   "metadata": {},
   "outputs": [
    {
     "data": {
      "text/plain": [
       "[5, 6, 23, 23, 34, 56, 90, 90]"
      ]
     },
     "execution_count": 76,
     "metadata": {},
     "output_type": "execute_result"
    }
   ],
   "source": [
    "K.sort()\n",
    "K"
   ]
  },
  {
   "cell_type": "code",
   "execution_count": 77,
   "id": "c93ee184",
   "metadata": {},
   "outputs": [
    {
     "data": {
      "text/plain": [
       "[90, 90, 56, 34, 23, 23, 6, 5]"
      ]
     },
     "execution_count": 77,
     "metadata": {},
     "output_type": "execute_result"
    }
   ],
   "source": [
    "K.reverse()\n",
    "K"
   ]
  },
  {
   "cell_type": "markdown",
   "id": "685b7426",
   "metadata": {},
   "source": [
    "Tuples"
   ]
  },
  {
   "cell_type": "code",
   "execution_count": 78,
   "id": "7652dccc",
   "metadata": {},
   "outputs": [
    {
     "data": {
      "text/plain": [
       "(1, 2, 3, 4, 5, 6)"
      ]
     },
     "execution_count": 78,
     "metadata": {},
     "output_type": "execute_result"
    }
   ],
   "source": [
    "t1=(1,2,3,4,5,6)\n",
    "t1"
   ]
  },
  {
   "cell_type": "code",
   "execution_count": 79,
   "id": "e80fabc6",
   "metadata": {},
   "outputs": [],
   "source": [
    "t2=(4.5,7,8,'A',True,False)"
   ]
  },
  {
   "cell_type": "code",
   "execution_count": 80,
   "id": "63998dc4",
   "metadata": {},
   "outputs": [
    {
     "data": {
      "text/plain": [
       "(4.5, 7, 8, 'A', True, False)"
      ]
     },
     "execution_count": 80,
     "metadata": {},
     "output_type": "execute_result"
    }
   ],
   "source": [
    "t2"
   ]
  },
  {
   "cell_type": "code",
   "execution_count": 81,
   "id": "f735d3d6",
   "metadata": {},
   "outputs": [
    {
     "data": {
      "text/plain": [
       "1"
      ]
     },
     "execution_count": 81,
     "metadata": {},
     "output_type": "execute_result"
    }
   ],
   "source": [
    "t1[0]"
   ]
  },
  {
   "cell_type": "code",
   "execution_count": 84,
   "id": "9687d9f4",
   "metadata": {},
   "outputs": [
    {
     "data": {
      "text/plain": [
       "8"
      ]
     },
     "execution_count": 84,
     "metadata": {},
     "output_type": "execute_result"
    }
   ],
   "source": [
    "t2[2]"
   ]
  },
  {
   "cell_type": "code",
   "execution_count": 85,
   "id": "2f1088c1",
   "metadata": {},
   "outputs": [
    {
     "ename": "TypeError",
     "evalue": "'tuple' object does not support item assignment",
     "output_type": "error",
     "traceback": [
      "\u001b[1;31m---------------------------------------------------------------------------\u001b[0m",
      "\u001b[1;31mTypeError\u001b[0m                                 Traceback (most recent call last)",
      "\u001b[1;32m<ipython-input-85-b4010de7dbfe>\u001b[0m in \u001b[0;36m<module>\u001b[1;34m\u001b[0m\n\u001b[1;32m----> 1\u001b[1;33m \u001b[0mt1\u001b[0m\u001b[1;33m[\u001b[0m\u001b[1;36m4\u001b[0m\u001b[1;33m]\u001b[0m\u001b[1;33m=\u001b[0m\u001b[1;36m989\u001b[0m\u001b[1;33m\u001b[0m\u001b[1;33m\u001b[0m\u001b[0m\n\u001b[0m",
      "\u001b[1;31mTypeError\u001b[0m: 'tuple' object does not support item assignment"
     ]
    }
   ],
   "source": [
    "t1[4]=989"
   ]
  },
  {
   "cell_type": "code",
   "execution_count": 86,
   "id": "e5640bc5",
   "metadata": {},
   "outputs": [
    {
     "data": {
      "text/plain": [
       "5"
      ]
     },
     "execution_count": 86,
     "metadata": {},
     "output_type": "execute_result"
    }
   ],
   "source": [
    "t1[4]"
   ]
  },
  {
   "cell_type": "code",
   "execution_count": 87,
   "id": "310a92f8",
   "metadata": {},
   "outputs": [
    {
     "data": {
      "text/plain": [
       "'this is my first string'"
      ]
     },
     "execution_count": 87,
     "metadata": {},
     "output_type": "execute_result"
    }
   ],
   "source": [
    "str1='this is my first string'\n",
    "str1"
   ]
  },
  {
   "cell_type": "code",
   "execution_count": 88,
   "id": "085a05d1",
   "metadata": {},
   "outputs": [],
   "source": [
    "str2='''\n",
    "     This string\n",
    "     has\n",
    "     lot of lines\n",
    "     ikn it\n",
    "     '''"
   ]
  },
  {
   "cell_type": "code",
   "execution_count": 89,
   "id": "717951ed",
   "metadata": {},
   "outputs": [
    {
     "data": {
      "text/plain": [
       "'\\n     This string\\n     has\\n     lot of lines\\n     ikn it\\n     '"
      ]
     },
     "execution_count": 89,
     "metadata": {},
     "output_type": "execute_result"
    }
   ],
   "source": [
    "str2"
   ]
  },
  {
   "cell_type": "code",
   "execution_count": 90,
   "id": "c7f9d749",
   "metadata": {},
   "outputs": [
    {
     "data": {
      "text/plain": [
       "'This is sparta'"
      ]
     },
     "execution_count": 90,
     "metadata": {},
     "output_type": "execute_result"
    }
   ],
   "source": [
    "my_string='This is sparta'\n",
    "my_string"
   ]
  },
  {
   "cell_type": "code",
   "execution_count": 91,
   "id": "297799e8",
   "metadata": {},
   "outputs": [
    {
     "data": {
      "text/plain": [
       "'T'"
      ]
     },
     "execution_count": 91,
     "metadata": {},
     "output_type": "execute_result"
    }
   ],
   "source": [
    "my_string[0]"
   ]
  },
  {
   "cell_type": "code",
   "execution_count": 92,
   "id": "76a28951",
   "metadata": {},
   "outputs": [
    {
     "data": {
      "text/plain": [
       "'a'"
      ]
     },
     "execution_count": 92,
     "metadata": {},
     "output_type": "execute_result"
    }
   ],
   "source": [
    "my_string[-1]"
   ]
  },
  {
   "cell_type": "code",
   "execution_count": 93,
   "id": "3d043ecb",
   "metadata": {},
   "outputs": [
    {
     "data": {
      "text/plain": [
       "'is spa'"
      ]
     },
     "execution_count": 93,
     "metadata": {},
     "output_type": "execute_result"
    }
   ],
   "source": [
    "my_string[5:11]"
   ]
  },
  {
   "cell_type": "code",
   "execution_count": 94,
   "id": "a683d691",
   "metadata": {},
   "outputs": [
    {
     "data": {
      "text/plain": [
       "'this is sparta'"
      ]
     },
     "execution_count": 94,
     "metadata": {},
     "output_type": "execute_result"
    }
   ],
   "source": [
    "my_string.lower()"
   ]
  },
  {
   "cell_type": "code",
   "execution_count": 95,
   "id": "2e837866",
   "metadata": {},
   "outputs": [
    {
     "data": {
      "text/plain": [
       "'THIS IS SPARTA'"
      ]
     },
     "execution_count": 95,
     "metadata": {},
     "output_type": "execute_result"
    }
   ],
   "source": [
    "my_string.upper()"
   ]
  },
  {
   "cell_type": "code",
   "execution_count": 97,
   "id": "a25b46d6",
   "metadata": {},
   "outputs": [
    {
     "data": {
      "text/plain": [
       "'This is spyrty'"
      ]
     },
     "execution_count": 97,
     "metadata": {},
     "output_type": "execute_result"
    }
   ],
   "source": [
    "my_string.replace('a','y')"
   ]
  },
  {
   "cell_type": "code",
   "execution_count": 98,
   "id": "6fd7180e",
   "metadata": {},
   "outputs": [
    {
     "data": {
      "text/plain": [
       "'hello hello world'"
      ]
     },
     "execution_count": 98,
     "metadata": {},
     "output_type": "execute_result"
    }
   ],
   "source": [
    "new_string='hello hello world'\n",
    "new_string"
   ]
  },
  {
   "cell_type": "code",
   "execution_count": 99,
   "id": "c6883e47",
   "metadata": {},
   "outputs": [
    {
     "data": {
      "text/plain": [
       "2"
      ]
     },
     "execution_count": 99,
     "metadata": {},
     "output_type": "execute_result"
    }
   ],
   "source": [
    "new_string.count(\"hello\")"
   ]
  },
  {
   "cell_type": "code",
   "execution_count": 100,
   "id": "1c8442b5",
   "metadata": {},
   "outputs": [
    {
     "data": {
      "text/plain": [
       "'sparta sparta 300 300 300 300 s'"
      ]
     },
     "execution_count": 100,
     "metadata": {},
     "output_type": "execute_result"
    }
   ],
   "source": [
    "str_new='sparta sparta 300 300 300 300 s'\n",
    "str_new"
   ]
  },
  {
   "cell_type": "code",
   "execution_count": 101,
   "id": "8cbaa113",
   "metadata": {},
   "outputs": [
    {
     "data": {
      "text/plain": [
       "3"
      ]
     },
     "execution_count": 101,
     "metadata": {},
     "output_type": "execute_result"
    }
   ],
   "source": [
    "str_new.count('s')"
   ]
  },
  {
   "cell_type": "code",
   "execution_count": 102,
   "id": "a14cc73a",
   "metadata": {},
   "outputs": [
    {
     "data": {
      "text/plain": [
       "'This is sparta!!!'"
      ]
     },
     "execution_count": 102,
     "metadata": {},
     "output_type": "execute_result"
    }
   ],
   "source": [
    "s1='This is sparta!!!'\n",
    "s1"
   ]
  },
  {
   "cell_type": "code",
   "execution_count": 103,
   "id": "53fc883c",
   "metadata": {},
   "outputs": [
    {
     "data": {
      "text/plain": [
       "12"
      ]
     },
     "execution_count": 103,
     "metadata": {},
     "output_type": "execute_result"
    }
   ],
   "source": [
    "s1.find('t')"
   ]
  },
  {
   "cell_type": "code",
   "execution_count": 104,
   "id": "f2d1ea40",
   "metadata": {},
   "outputs": [
    {
     "data": {
      "text/plain": [
       "8"
      ]
     },
     "execution_count": 104,
     "metadata": {},
     "output_type": "execute_result"
    }
   ],
   "source": [
    "s1.find(\"sparta\")"
   ]
  },
  {
   "cell_type": "code",
   "execution_count": 105,
   "id": "c67d3c4c",
   "metadata": {},
   "outputs": [],
   "source": [
    "# Splitting of string"
   ]
  },
  {
   "cell_type": "code",
   "execution_count": 106,
   "id": "fc3d815c",
   "metadata": {},
   "outputs": [
    {
     "data": {
      "text/plain": [
       "'I like apples, mangoes, banana'"
      ]
     },
     "execution_count": 106,
     "metadata": {},
     "output_type": "execute_result"
    }
   ],
   "source": [
    "fruit='I like apples, mangoes, banana'\n",
    "fruit"
   ]
  },
  {
   "cell_type": "code",
   "execution_count": 107,
   "id": "3d167686",
   "metadata": {},
   "outputs": [
    {
     "data": {
      "text/plain": [
       "['I like apples', ' mangoes', ' banana']"
      ]
     },
     "execution_count": 107,
     "metadata": {},
     "output_type": "execute_result"
    }
   ],
   "source": [
    "fruit.split(',')"
   ]
  },
  {
   "cell_type": "code",
   "execution_count": 108,
   "id": "e54d99a5",
   "metadata": {},
   "outputs": [
    {
     "data": {
      "text/plain": [
       "'Hello this is awesome'"
      ]
     },
     "execution_count": 108,
     "metadata": {},
     "output_type": "execute_result"
    }
   ],
   "source": [
    "my_str='Hello this is awesome'\n",
    "my_str"
   ]
  },
  {
   "cell_type": "code",
   "execution_count": 109,
   "id": "fef8b9fe",
   "metadata": {},
   "outputs": [
    {
     "data": {
      "text/plain": [
       "'President Obama is the best president of United States '"
      ]
     },
     "execution_count": 109,
     "metadata": {},
     "output_type": "execute_result"
    }
   ],
   "source": [
    "str_final='President Obama is the best president of United States '\n",
    "str_final"
   ]
  },
  {
   "cell_type": "code",
   "execution_count": 110,
   "id": "5d961a0f",
   "metadata": {},
   "outputs": [
    {
     "data": {
      "text/plain": [
       "['Pr',\n",
       " 'sid',\n",
       " 'nt Obama is th',\n",
       " ' b',\n",
       " 'st pr',\n",
       " 'sid',\n",
       " 'nt of Unit',\n",
       " 'd Stat',\n",
       " 's ']"
      ]
     },
     "execution_count": 110,
     "metadata": {},
     "output_type": "execute_result"
    }
   ],
   "source": [
    "str_final.split('e')"
   ]
  },
  {
   "cell_type": "code",
   "execution_count": 111,
   "id": "60cc151d",
   "metadata": {},
   "outputs": [],
   "source": [
    "t3=(1,2,3)\n",
    "t4=(4,5,6)"
   ]
  },
  {
   "cell_type": "code",
   "execution_count": 112,
   "id": "07ffee9f",
   "metadata": {},
   "outputs": [
    {
     "data": {
      "text/plain": [
       "(1, 2, 3, 4, 5, 6)"
      ]
     },
     "execution_count": 112,
     "metadata": {},
     "output_type": "execute_result"
    }
   ],
   "source": [
    "t3+t4"
   ]
  },
  {
   "cell_type": "code",
   "execution_count": 113,
   "id": "4312b1d5",
   "metadata": {},
   "outputs": [
    {
     "data": {
      "text/plain": [
       "(4, 5, 6, 1, 2, 3)"
      ]
     },
     "execution_count": 113,
     "metadata": {},
     "output_type": "execute_result"
    }
   ],
   "source": [
    "t4+t3"
   ]
  },
  {
   "cell_type": "code",
   "execution_count": 114,
   "id": "212ca5e4",
   "metadata": {},
   "outputs": [
    {
     "data": {
      "text/plain": [
       "('Sparta', 300, 'Sparta', 300, 'Sparta', 300)"
      ]
     },
     "execution_count": 114,
     "metadata": {},
     "output_type": "execute_result"
    }
   ],
   "source": [
    "t3=('Sparta',300)\n",
    "t3*3"
   ]
  },
  {
   "cell_type": "code",
   "execution_count": 116,
   "id": "9af91671",
   "metadata": {},
   "outputs": [
    {
     "data": {
      "text/plain": [
       "('Sparta', 300, 'Sparta', 300, 'Sparta', 300, 4, 5, 6)"
      ]
     },
     "execution_count": 116,
     "metadata": {},
     "output_type": "execute_result"
    }
   ],
   "source": [
    "t3*3+t4"
   ]
  },
  {
   "cell_type": "code",
   "execution_count": 121,
   "id": "83c50d2d",
   "metadata": {
    "scrolled": true
   },
   "outputs": [
    {
     "data": {
      "text/plain": [
       "('Sparta',\n",
       " 300,\n",
       " 'Sparta',\n",
       " 300,\n",
       " 'Sparta',\n",
       " 300,\n",
       " 'Sparta',\n",
       " 300,\n",
       " 'Sparta',\n",
       " 300,\n",
       " 'Sparta',\n",
       " 300,\n",
       " 'Sparta',\n",
       " 300,\n",
       " 'A',\n",
       " 'c',\n",
       " 't',\n",
       " 'i',\n",
       " 'o',\n",
       " 'n',\n",
       " 'a',\n",
       " 'b',\n",
       " 'l',\n",
       " 'e')"
      ]
     },
     "execution_count": 121,
     "metadata": {},
     "output_type": "execute_result"
    }
   ],
   "source": [
    "t3*7+tuple('Actionable')\n"
   ]
  },
  {
   "cell_type": "code",
   "execution_count": 122,
   "id": "ed3fa9cd",
   "metadata": {},
   "outputs": [
    {
     "data": {
      "text/plain": [
       "(10, 20, 30, 40, 50, 60)"
      ]
     },
     "execution_count": 122,
     "metadata": {},
     "output_type": "execute_result"
    }
   ],
   "source": [
    "t5=(10,20,30,40,50,60)\n",
    "t5"
   ]
  },
  {
   "cell_type": "code",
   "execution_count": 123,
   "id": "ad2ac9ee",
   "metadata": {
    "scrolled": true
   },
   "outputs": [
    {
     "data": {
      "text/plain": [
       "10"
      ]
     },
     "execution_count": 123,
     "metadata": {},
     "output_type": "execute_result"
    }
   ],
   "source": [
    "min(t5)"
   ]
  },
  {
   "cell_type": "code",
   "execution_count": 124,
   "id": "9f469637",
   "metadata": {},
   "outputs": [
    {
     "data": {
      "text/plain": [
       "60"
      ]
     },
     "execution_count": 124,
     "metadata": {},
     "output_type": "execute_result"
    }
   ],
   "source": [
    "max(t5)"
   ]
  },
  {
   "cell_type": "markdown",
   "id": "e564b5fe",
   "metadata": {},
   "source": [
    "Dictionary"
   ]
  },
  {
   "cell_type": "code",
   "execution_count": 125,
   "id": "4cb46378",
   "metadata": {},
   "outputs": [
    {
     "data": {
      "text/plain": [
       "{'id': 101, 'Name': 'Andrew', 'Age': 10}"
      ]
     },
     "execution_count": 125,
     "metadata": {},
     "output_type": "execute_result"
    }
   ],
   "source": [
    "dict1={'id':101,'Name':'Andrew','Age':10}\n",
    "dict1"
   ]
  },
  {
   "cell_type": "code",
   "execution_count": 127,
   "id": "1c0f8085",
   "metadata": {},
   "outputs": [
    {
     "data": {
      "text/plain": [
       "101"
      ]
     },
     "execution_count": 127,
     "metadata": {},
     "output_type": "execute_result"
    }
   ],
   "source": [
    "dict1['id']"
   ]
  },
  {
   "cell_type": "code",
   "execution_count": 128,
   "id": "01d3c699",
   "metadata": {},
   "outputs": [
    {
     "data": {
      "text/plain": [
       "'Andrew'"
      ]
     },
     "execution_count": 128,
     "metadata": {},
     "output_type": "execute_result"
    }
   ],
   "source": [
    "dict1['Name']"
   ]
  },
  {
   "cell_type": "code",
   "execution_count": 130,
   "id": "470846ee",
   "metadata": {},
   "outputs": [
    {
     "data": {
      "text/plain": [
       "dict_keys(['id', 'Name', 'Age'])"
      ]
     },
     "execution_count": 130,
     "metadata": {},
     "output_type": "execute_result"
    }
   ],
   "source": [
    "dict1.keys()"
   ]
  },
  {
   "cell_type": "code",
   "execution_count": 131,
   "id": "480cb108",
   "metadata": {},
   "outputs": [
    {
     "data": {
      "text/plain": [
       "dict_values([101, 'Andrew', 10])"
      ]
     },
     "execution_count": 131,
     "metadata": {},
     "output_type": "execute_result"
    }
   ],
   "source": [
    "dict1.values()"
   ]
  },
  {
   "cell_type": "code",
   "execution_count": 132,
   "id": "1ceb8f94",
   "metadata": {},
   "outputs": [
    {
     "data": {
      "text/plain": [
       "dict_items([('id', 101), ('Name', 'Andrew'), ('Age', 10)])"
      ]
     },
     "execution_count": 132,
     "metadata": {},
     "output_type": "execute_result"
    }
   ],
   "source": [
    "dict1.items()"
   ]
  },
  {
   "cell_type": "code",
   "execution_count": 133,
   "id": "b6eba7f6",
   "metadata": {},
   "outputs": [
    {
     "data": {
      "text/plain": [
       "{'Mobileid': 1, 'Mobile Brand': 'Xiomi', 'Mobile Price': 70000}"
      ]
     },
     "execution_count": 133,
     "metadata": {},
     "output_type": "execute_result"
    }
   ],
   "source": [
    "mobiledict={'Mobileid':1,'Mobile Brand':'Xiomi','Mobile Price':70000}\n",
    "mobiledict"
   ]
  },
  {
   "cell_type": "code",
   "execution_count": 134,
   "id": "27b19137",
   "metadata": {},
   "outputs": [
    {
     "data": {
      "text/plain": [
       "70000"
      ]
     },
     "execution_count": 134,
     "metadata": {},
     "output_type": "execute_result"
    }
   ],
   "source": [
    "mobiledict['Mobile Price']"
   ]
  },
  {
   "cell_type": "code",
   "execution_count": 135,
   "id": "79715ad3",
   "metadata": {},
   "outputs": [],
   "source": [
    "mobiledict['Mobile Price']=85000\n"
   ]
  },
  {
   "cell_type": "code",
   "execution_count": 136,
   "id": "67669514",
   "metadata": {},
   "outputs": [
    {
     "data": {
      "text/plain": [
       "{'Mobileid': 1, 'Mobile Brand': 'Xiomi', 'Mobile Price': 85000}"
      ]
     },
     "execution_count": 136,
     "metadata": {},
     "output_type": "execute_result"
    }
   ],
   "source": [
    "mobiledict"
   ]
  },
  {
   "cell_type": "code",
   "execution_count": 137,
   "id": "3cbe5e27",
   "metadata": {},
   "outputs": [
    {
     "data": {
      "text/plain": [
       "85000"
      ]
     },
     "execution_count": 137,
     "metadata": {},
     "output_type": "execute_result"
    }
   ],
   "source": [
    "mobiledict['Mobile Price']"
   ]
  },
  {
   "cell_type": "code",
   "execution_count": null,
   "id": "279baf58",
   "metadata": {},
   "outputs": [],
   "source": [
    "# Nesting Lists"
   ]
  },
  {
   "cell_type": "code",
   "execution_count": 138,
   "id": "81993346",
   "metadata": {},
   "outputs": [],
   "source": [
    "l1=[1,2,3]\n",
    "l2=[4,5,6]\n",
    "l3=[7,8,9]"
   ]
  },
  {
   "cell_type": "code",
   "execution_count": 139,
   "id": "cdc215df",
   "metadata": {},
   "outputs": [],
   "source": [
    "matrix=[l1,l2,l3]"
   ]
  },
  {
   "cell_type": "code",
   "execution_count": 140,
   "id": "d26ac93c",
   "metadata": {},
   "outputs": [
    {
     "data": {
      "text/plain": [
       "[[1, 2, 3], [4, 5, 6], [7, 8, 9]]"
      ]
     },
     "execution_count": 140,
     "metadata": {},
     "output_type": "execute_result"
    }
   ],
   "source": [
    "matrix"
   ]
  },
  {
   "cell_type": "code",
   "execution_count": 141,
   "id": "e625fe17",
   "metadata": {},
   "outputs": [
    {
     "data": {
      "text/plain": [
       "6"
      ]
     },
     "execution_count": 141,
     "metadata": {},
     "output_type": "execute_result"
    }
   ],
   "source": [
    "matrix[1][2]"
   ]
  },
  {
   "cell_type": "code",
   "execution_count": 142,
   "id": "1bb22de0",
   "metadata": {},
   "outputs": [
    {
     "data": {
      "text/plain": [
       "[1, 2, 3]"
      ]
     },
     "execution_count": 142,
     "metadata": {},
     "output_type": "execute_result"
    }
   ],
   "source": [
    "matrix[0]"
   ]
  },
  {
   "cell_type": "code",
   "execution_count": 143,
   "id": "fb5a3f28",
   "metadata": {},
   "outputs": [
    {
     "data": {
      "text/plain": [
       "1"
      ]
     },
     "execution_count": 143,
     "metadata": {},
     "output_type": "execute_result"
    }
   ],
   "source": [
    "matrix[0][0]"
   ]
  },
  {
   "cell_type": "code",
   "execution_count": 144,
   "id": "93155339",
   "metadata": {},
   "outputs": [
    {
     "data": {
      "text/plain": [
       "3"
      ]
     },
     "execution_count": 144,
     "metadata": {},
     "output_type": "execute_result"
    }
   ],
   "source": [
    "matrix[0][2]"
   ]
  },
  {
   "cell_type": "code",
   "execution_count": null,
   "id": "0bc2cd5e",
   "metadata": {},
   "outputs": [],
   "source": [
    "# Convert a Tuple into List"
   ]
  },
  {
   "cell_type": "code",
   "execution_count": 145,
   "id": "a19f1aab",
   "metadata": {},
   "outputs": [
    {
     "name": "stdout",
     "output_type": "stream",
     "text": [
      "(21, 19, 11, 46, 18)\n"
     ]
    }
   ],
   "source": [
    "tup=(21,19,11,46,18)\n",
    "print(tup)"
   ]
  },
  {
   "cell_type": "code",
   "execution_count": 146,
   "id": "89a0b05e",
   "metadata": {},
   "outputs": [
    {
     "data": {
      "text/plain": [
       "[21, 19, 11, 46, 18]"
      ]
     },
     "execution_count": 146,
     "metadata": {},
     "output_type": "execute_result"
    }
   ],
   "source": [
    "lt=list(tup)\n",
    "lt"
   ]
  },
  {
   "cell_type": "code",
   "execution_count": null,
   "id": "586ffa7d",
   "metadata": {},
   "outputs": [],
   "source": [
    "# Convert a List into Tuple"
   ]
  },
  {
   "cell_type": "code",
   "execution_count": 147,
   "id": "8710a5df",
   "metadata": {},
   "outputs": [
    {
     "data": {
      "text/plain": [
       "[4, 'AK', 'INDIA', 28.5]"
      ]
     },
     "execution_count": 147,
     "metadata": {},
     "output_type": "execute_result"
    }
   ],
   "source": [
    "l1=[4,'AK','INDIA',28.5]\n",
    "l1"
   ]
  },
  {
   "cell_type": "code",
   "execution_count": 148,
   "id": "c05321b8",
   "metadata": {},
   "outputs": [
    {
     "data": {
      "text/plain": [
       "(4, 'AK', 'INDIA', 28.5)"
      ]
     },
     "execution_count": 148,
     "metadata": {},
     "output_type": "execute_result"
    }
   ],
   "source": [
    "t1=tuple(l1)\n",
    "t1"
   ]
  },
  {
   "cell_type": "code",
   "execution_count": null,
   "id": "0e17da15",
   "metadata": {},
   "outputs": [],
   "source": []
  }
 ],
 "metadata": {
  "kernelspec": {
   "display_name": "Python 3",
   "language": "python",
   "name": "python3"
  },
  "language_info": {
   "codemirror_mode": {
    "name": "ipython",
    "version": 3
   },
   "file_extension": ".py",
   "mimetype": "text/x-python",
   "name": "python",
   "nbconvert_exporter": "python",
   "pygments_lexer": "ipython3",
   "version": "3.8.8"
  }
 },
 "nbformat": 4,
 "nbformat_minor": 5
}

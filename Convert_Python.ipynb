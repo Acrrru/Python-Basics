{
 "cells": [
  {
   "cell_type": "code",
   "execution_count": null,
   "id": "ef25cacc",
   "metadata": {},
   "outputs": [],
   "source": [
    "# Converting temperature in fahrenheit"
   ]
  },
  {
   "cell_type": "code",
   "execution_count": 1,
   "id": "3fe0ccea",
   "metadata": {},
   "outputs": [],
   "source": [
    "def fahrenheit(T):\n",
    "    return ((9/5)*T+32)"
   ]
  },
  {
   "cell_type": "code",
   "execution_count": 2,
   "id": "ce73e1f4",
   "metadata": {},
   "outputs": [
    {
     "data": {
      "text/plain": [
       "95.0"
      ]
     },
     "execution_count": 2,
     "metadata": {},
     "output_type": "execute_result"
    }
   ],
   "source": [
    "fahrenheit(35)"
   ]
  },
  {
   "cell_type": "code",
   "execution_count": null,
   "id": "98769628",
   "metadata": {},
   "outputs": [],
   "source": [
    "# Converting temperature in celsius"
   ]
  },
  {
   "cell_type": "code",
   "execution_count": 4,
   "id": "993659d1",
   "metadata": {},
   "outputs": [],
   "source": [
    "def celsius(T):\n",
    "    return ((5/9)*(T-32))"
   ]
  },
  {
   "cell_type": "code",
   "execution_count": 7,
   "id": "7ba5cd41",
   "metadata": {},
   "outputs": [
    {
     "data": {
      "text/plain": [
       "36.66666666666667"
      ]
     },
     "execution_count": 7,
     "metadata": {},
     "output_type": "execute_result"
    }
   ],
   "source": [
    "t=celsius(98)\n",
    "t"
   ]
  },
  {
   "cell_type": "code",
   "execution_count": 8,
   "id": "1ec3f4f1",
   "metadata": {},
   "outputs": [
    {
     "data": {
      "text/plain": [
       "36.67"
      ]
     },
     "execution_count": 8,
     "metadata": {},
     "output_type": "execute_result"
    }
   ],
   "source": [
    "round(t,2)"
   ]
  },
  {
   "cell_type": "code",
   "execution_count": 9,
   "id": "e75ddfd4",
   "metadata": {},
   "outputs": [],
   "source": [
    "def testin():\n",
    "    x=int(input(\"Enter x \"))\n",
    "    y=int(input(\"Enter y \"))\n",
    "    t=lambda x,y:x**y\n",
    "    print(t(x,y))"
   ]
  },
  {
   "cell_type": "code",
   "execution_count": 10,
   "id": "df7dd307",
   "metadata": {},
   "outputs": [
    {
     "name": "stdout",
     "output_type": "stream",
     "text": [
      "Enter x 16\n",
      "Enter y 3\n",
      "4096\n"
     ]
    }
   ],
   "source": [
    "testin()"
   ]
  },
  {
   "cell_type": "code",
   "execution_count": null,
   "id": "fb030407",
   "metadata": {},
   "outputs": [],
   "source": [
    "# Fahrenheit with Lambda"
   ]
  },
  {
   "cell_type": "code",
   "execution_count": 11,
   "id": "41721705",
   "metadata": {},
   "outputs": [
    {
     "data": {
      "text/plain": [
       "<function __main__.<lambda>(x)>"
      ]
     },
     "execution_count": 11,
     "metadata": {},
     "output_type": "execute_result"
    }
   ],
   "source": [
    "F=lambda x:(9/5)*x+32\n",
    "F"
   ]
  },
  {
   "cell_type": "code",
   "execution_count": 12,
   "id": "55e58aa2",
   "metadata": {},
   "outputs": [
    {
     "data": {
      "text/plain": [
       "101.12"
      ]
     },
     "execution_count": 12,
     "metadata": {},
     "output_type": "execute_result"
    }
   ],
   "source": [
    "F(38.4)"
   ]
  },
  {
   "cell_type": "markdown",
   "id": "abf4bffd",
   "metadata": {},
   "source": [
    "# Map Function in Lambda"
   ]
  },
  {
   "cell_type": "markdown",
   "id": "59e63777",
   "metadata": {},
   "source": [
    "> Syntax:- map(function,sequence).\n",
    "> It applies on list.    "
   ]
  },
  {
   "cell_type": "code",
   "execution_count": 13,
   "id": "7af3b099",
   "metadata": {},
   "outputs": [
    {
     "data": {
      "text/plain": [
       "<map at 0x1c5e17bb700>"
      ]
     },
     "execution_count": 13,
     "metadata": {},
     "output_type": "execute_result"
    }
   ],
   "source": [
    "mylist=[1,2,3,4]\n",
    "map(lambda x:x*2,mylist)"
   ]
  },
  {
   "cell_type": "code",
   "execution_count": 14,
   "id": "8515abb2",
   "metadata": {},
   "outputs": [
    {
     "data": {
      "text/plain": [
       "[2, 4, 6, 8]"
      ]
     },
     "execution_count": 14,
     "metadata": {},
     "output_type": "execute_result"
    }
   ],
   "source": [
    "list(map(lambda x:x*2,mylist))"
   ]
  },
  {
   "cell_type": "code",
   "execution_count": 15,
   "id": "57d63395",
   "metadata": {},
   "outputs": [],
   "source": [
    "C=[35.2,36.5,37.3,38,39.8]"
   ]
  },
  {
   "cell_type": "code",
   "execution_count": 16,
   "id": "49faa5c4",
   "metadata": {},
   "outputs": [
    {
     "name": "stdout",
     "output_type": "stream",
     "text": [
      "[95.36000000000001, 97.7, 99.14, 100.4, 103.64]\n"
     ]
    }
   ],
   "source": [
    "F=list(map(lambda x:(9/5)*x+32,C))\n",
    "print(F)"
   ]
  },
  {
   "cell_type": "code",
   "execution_count": 18,
   "id": "4577e2f3",
   "metadata": {},
   "outputs": [
    {
     "name": "stdout",
     "output_type": "stream",
     "text": [
      "[35.20000000000001, 36.5, 37.300000000000004, 38.00000000000001, 39.800000000000004]\n"
     ]
    }
   ],
   "source": [
    "c=list(map(lambda x:(5/9)*(x-32),F))\n",
    "print(c)"
   ]
  },
  {
   "cell_type": "code",
   "execution_count": 19,
   "id": "f4f661dc",
   "metadata": {},
   "outputs": [
    {
     "data": {
      "text/plain": [
       "[35.2, 36.5, 37.3, 38.0, 39.8]"
      ]
     },
     "execution_count": 19,
     "metadata": {},
     "output_type": "execute_result"
    }
   ],
   "source": [
    "newClist=[round(x,2) for x in c]\n",
    "newClist"
   ]
  },
  {
   "cell_type": "code",
   "execution_count": 20,
   "id": "621d8f4d",
   "metadata": {},
   "outputs": [
    {
     "data": {
      "text/plain": [
       "['35.20', '36.50', '37.30', '38.00', '39.80']"
      ]
     },
     "execution_count": 20,
     "metadata": {},
     "output_type": "execute_result"
    }
   ],
   "source": [
    "newlist=['%.2f' %j for j in c]\n",
    "newlist"
   ]
  },
  {
   "cell_type": "markdown",
   "id": "4ebf7eb9",
   "metadata": {},
   "source": [
    "# Filter Function in Lambda"
   ]
  },
  {
   "cell_type": "markdown",
   "id": "89d0f52a",
   "metadata": {},
   "source": [
    "> Syntax:- filter(function,list)\n",
    "> It returns the items where function is true.\n",
    "> If none of the element meets the condition, it will return nothing."
   ]
  },
  {
   "cell_type": "code",
   "execution_count": 21,
   "id": "fab5e8b8",
   "metadata": {},
   "outputs": [
    {
     "data": {
      "text/plain": [
       "[3, 4, 5, 6, 7]"
      ]
     },
     "execution_count": 21,
     "metadata": {},
     "output_type": "execute_result"
    }
   ],
   "source": [
    "mylist=[1,2,3,4,5,6,7]\n",
    "\n",
    "list(filter(lambda x:x>2, mylist))"
   ]
  },
  {
   "cell_type": "code",
   "execution_count": 22,
   "id": "861a3874",
   "metadata": {},
   "outputs": [
    {
     "data": {
      "text/plain": [
       "[0, 2, 4, 6, 8, 10]"
      ]
     },
     "execution_count": 22,
     "metadata": {},
     "output_type": "execute_result"
    }
   ],
   "source": [
    "Even=lambda x:x%2==0\n",
    "\n",
    "list(filter(Even,range(11)))"
   ]
  },
  {
   "cell_type": "code",
   "execution_count": null,
   "id": "df6acf95",
   "metadata": {},
   "outputs": [],
   "source": [
    "# We can also do this by list comprehension"
   ]
  },
  {
   "cell_type": "code",
   "execution_count": 23,
   "id": "5570d21b",
   "metadata": {},
   "outputs": [
    {
     "data": {
      "text/plain": [
       "[0, 2, 4, 6, 8, 10]"
      ]
     },
     "execution_count": 23,
     "metadata": {},
     "output_type": "execute_result"
    }
   ],
   "source": [
    "[x for x in range(11) if x%2==0]"
   ]
  },
  {
   "cell_type": "code",
   "execution_count": null,
   "id": "e90703e1",
   "metadata": {},
   "outputs": [],
   "source": []
  }
 ],
 "metadata": {
  "kernelspec": {
   "display_name": "Python 3",
   "language": "python",
   "name": "python3"
  },
  "language_info": {
   "codemirror_mode": {
    "name": "ipython",
    "version": 3
   },
   "file_extension": ".py",
   "mimetype": "text/x-python",
   "name": "python",
   "nbconvert_exporter": "python",
   "pygments_lexer": "ipython3",
   "version": "3.8.8"
  }
 },
 "nbformat": 4,
 "nbformat_minor": 5
}
